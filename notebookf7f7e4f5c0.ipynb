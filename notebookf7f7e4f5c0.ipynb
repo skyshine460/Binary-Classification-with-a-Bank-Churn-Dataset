{
 "cells": [
  {
   "cell_type": "markdown",
   "id": "47b878a7",
   "metadata": {
    "papermill": {
     "duration": 0.014139,
     "end_time": "2024-12-16T13:02:31.816391",
     "exception": false,
     "start_time": "2024-12-16T13:02:31.802252",
     "status": "completed"
    },
    "tags": []
   },
   "source": [
    "# ライブラリのインポート"
   ]
  },
  {
   "cell_type": "code",
   "execution_count": 1,
   "id": "353c6745",
   "metadata": {
    "execution": {
     "iopub.execute_input": "2024-12-16T13:02:31.843595Z",
     "iopub.status.busy": "2024-12-16T13:02:31.843178Z",
     "iopub.status.idle": "2024-12-16T13:02:36.032774Z",
     "shell.execute_reply": "2024-12-16T13:02:36.031538Z"
    },
    "papermill": {
     "duration": 4.205515,
     "end_time": "2024-12-16T13:02:36.035612",
     "exception": false,
     "start_time": "2024-12-16T13:02:31.830097",
     "status": "completed"
    },
    "tags": []
   },
   "outputs": [],
   "source": [
    "import numpy as np\n",
    "import pandas as pd\n",
    "import matplotlib.pyplot as plt\n",
    "import seaborn as sns\n",
    "\n",
    "from sklearn.preprocessing import LabelEncoder\n",
    "\n",
    "import lightgbm as lgb\n",
    "from lightgbm import LGBMClassifier\n",
    "from sklearn.model_selection import train_test_split, StratifiedKFold\n",
    "from sklearn.metrics import accuracy_score\n",
    "from sklearn.metrics import roc_auc_score\n",
    "\n",
    "import warnings\n",
    "warnings.filterwarnings('ignore')\n",
    "\n",
    "%matplotlib inline"
   ]
  },
  {
   "cell_type": "markdown",
   "id": "55d229bb",
   "metadata": {
    "papermill": {
     "duration": 0.011496,
     "end_time": "2024-12-16T13:02:36.059503",
     "exception": false,
     "start_time": "2024-12-16T13:02:36.048007",
     "status": "completed"
    },
    "tags": []
   },
   "source": [
    "# データの読み込み"
   ]
  },
  {
   "cell_type": "code",
   "execution_count": 2,
   "id": "89ae132c",
   "metadata": {
    "execution": {
     "iopub.execute_input": "2024-12-16T13:02:36.085558Z",
     "iopub.status.busy": "2024-12-16T13:02:36.084874Z",
     "iopub.status.idle": "2024-12-16T13:02:36.530780Z",
     "shell.execute_reply": "2024-12-16T13:02:36.529606Z"
    },
    "papermill": {
     "duration": 0.461752,
     "end_time": "2024-12-16T13:02:36.533204",
     "exception": false,
     "start_time": "2024-12-16T13:02:36.071452",
     "status": "completed"
    },
    "tags": []
   },
   "outputs": [
    {
     "data": {
      "text/html": [
       "<div>\n",
       "<style scoped>\n",
       "    .dataframe tbody tr th:only-of-type {\n",
       "        vertical-align: middle;\n",
       "    }\n",
       "\n",
       "    .dataframe tbody tr th {\n",
       "        vertical-align: top;\n",
       "    }\n",
       "\n",
       "    .dataframe thead th {\n",
       "        text-align: right;\n",
       "    }\n",
       "</style>\n",
       "<table border=\"1\" class=\"dataframe\">\n",
       "  <thead>\n",
       "    <tr style=\"text-align: right;\">\n",
       "      <th></th>\n",
       "      <th>id</th>\n",
       "      <th>CustomerId</th>\n",
       "      <th>Surname</th>\n",
       "      <th>CreditScore</th>\n",
       "      <th>Geography</th>\n",
       "      <th>Gender</th>\n",
       "      <th>Age</th>\n",
       "      <th>Tenure</th>\n",
       "      <th>Balance</th>\n",
       "      <th>NumOfProducts</th>\n",
       "      <th>HasCrCard</th>\n",
       "      <th>IsActiveMember</th>\n",
       "      <th>EstimatedSalary</th>\n",
       "      <th>Exited</th>\n",
       "    </tr>\n",
       "  </thead>\n",
       "  <tbody>\n",
       "    <tr>\n",
       "      <th>0</th>\n",
       "      <td>0</td>\n",
       "      <td>15674932</td>\n",
       "      <td>Okwudilichukwu</td>\n",
       "      <td>668</td>\n",
       "      <td>France</td>\n",
       "      <td>Male</td>\n",
       "      <td>33.0</td>\n",
       "      <td>3</td>\n",
       "      <td>0.00</td>\n",
       "      <td>2</td>\n",
       "      <td>1.0</td>\n",
       "      <td>0.0</td>\n",
       "      <td>181449.97</td>\n",
       "      <td>0</td>\n",
       "    </tr>\n",
       "    <tr>\n",
       "      <th>1</th>\n",
       "      <td>1</td>\n",
       "      <td>15749177</td>\n",
       "      <td>Okwudiliolisa</td>\n",
       "      <td>627</td>\n",
       "      <td>France</td>\n",
       "      <td>Male</td>\n",
       "      <td>33.0</td>\n",
       "      <td>1</td>\n",
       "      <td>0.00</td>\n",
       "      <td>2</td>\n",
       "      <td>1.0</td>\n",
       "      <td>1.0</td>\n",
       "      <td>49503.50</td>\n",
       "      <td>0</td>\n",
       "    </tr>\n",
       "    <tr>\n",
       "      <th>2</th>\n",
       "      <td>2</td>\n",
       "      <td>15694510</td>\n",
       "      <td>Hsueh</td>\n",
       "      <td>678</td>\n",
       "      <td>France</td>\n",
       "      <td>Male</td>\n",
       "      <td>40.0</td>\n",
       "      <td>10</td>\n",
       "      <td>0.00</td>\n",
       "      <td>2</td>\n",
       "      <td>1.0</td>\n",
       "      <td>0.0</td>\n",
       "      <td>184866.69</td>\n",
       "      <td>0</td>\n",
       "    </tr>\n",
       "    <tr>\n",
       "      <th>3</th>\n",
       "      <td>3</td>\n",
       "      <td>15741417</td>\n",
       "      <td>Kao</td>\n",
       "      <td>581</td>\n",
       "      <td>France</td>\n",
       "      <td>Male</td>\n",
       "      <td>34.0</td>\n",
       "      <td>2</td>\n",
       "      <td>148882.54</td>\n",
       "      <td>1</td>\n",
       "      <td>1.0</td>\n",
       "      <td>1.0</td>\n",
       "      <td>84560.88</td>\n",
       "      <td>0</td>\n",
       "    </tr>\n",
       "    <tr>\n",
       "      <th>4</th>\n",
       "      <td>4</td>\n",
       "      <td>15766172</td>\n",
       "      <td>Chiemenam</td>\n",
       "      <td>716</td>\n",
       "      <td>Spain</td>\n",
       "      <td>Male</td>\n",
       "      <td>33.0</td>\n",
       "      <td>5</td>\n",
       "      <td>0.00</td>\n",
       "      <td>2</td>\n",
       "      <td>1.0</td>\n",
       "      <td>1.0</td>\n",
       "      <td>15068.83</td>\n",
       "      <td>0</td>\n",
       "    </tr>\n",
       "  </tbody>\n",
       "</table>\n",
       "</div>"
      ],
      "text/plain": [
       "   id  CustomerId         Surname  CreditScore Geography Gender   Age  Tenure  \\\n",
       "0   0    15674932  Okwudilichukwu          668    France   Male  33.0       3   \n",
       "1   1    15749177   Okwudiliolisa          627    France   Male  33.0       1   \n",
       "2   2    15694510           Hsueh          678    France   Male  40.0      10   \n",
       "3   3    15741417             Kao          581    France   Male  34.0       2   \n",
       "4   4    15766172       Chiemenam          716     Spain   Male  33.0       5   \n",
       "\n",
       "     Balance  NumOfProducts  HasCrCard  IsActiveMember  EstimatedSalary  \\\n",
       "0       0.00              2        1.0             0.0        181449.97   \n",
       "1       0.00              2        1.0             1.0         49503.50   \n",
       "2       0.00              2        1.0             0.0        184866.69   \n",
       "3  148882.54              1        1.0             1.0         84560.88   \n",
       "4       0.00              2        1.0             1.0         15068.83   \n",
       "\n",
       "   Exited  \n",
       "0       0  \n",
       "1       0  \n",
       "2       0  \n",
       "3       0  \n",
       "4       0  "
      ]
     },
     "execution_count": 2,
     "metadata": {},
     "output_type": "execute_result"
    }
   ],
   "source": [
    "train_df = pd.read_csv('/kaggle/input/playground-series-s4e1/train.csv')\n",
    "train_df.head()"
   ]
  },
  {
   "cell_type": "code",
   "execution_count": 3,
   "id": "2ce11016",
   "metadata": {
    "execution": {
     "iopub.execute_input": "2024-12-16T13:02:36.560616Z",
     "iopub.status.busy": "2024-12-16T13:02:36.560216Z",
     "iopub.status.idle": "2024-12-16T13:02:36.820507Z",
     "shell.execute_reply": "2024-12-16T13:02:36.819168Z"
    },
    "papermill": {
     "duration": 0.277252,
     "end_time": "2024-12-16T13:02:36.822949",
     "exception": false,
     "start_time": "2024-12-16T13:02:36.545697",
     "status": "completed"
    },
    "tags": []
   },
   "outputs": [
    {
     "data": {
      "text/html": [
       "<div>\n",
       "<style scoped>\n",
       "    .dataframe tbody tr th:only-of-type {\n",
       "        vertical-align: middle;\n",
       "    }\n",
       "\n",
       "    .dataframe tbody tr th {\n",
       "        vertical-align: top;\n",
       "    }\n",
       "\n",
       "    .dataframe thead th {\n",
       "        text-align: right;\n",
       "    }\n",
       "</style>\n",
       "<table border=\"1\" class=\"dataframe\">\n",
       "  <thead>\n",
       "    <tr style=\"text-align: right;\">\n",
       "      <th></th>\n",
       "      <th>id</th>\n",
       "      <th>CustomerId</th>\n",
       "      <th>Surname</th>\n",
       "      <th>CreditScore</th>\n",
       "      <th>Geography</th>\n",
       "      <th>Gender</th>\n",
       "      <th>Age</th>\n",
       "      <th>Tenure</th>\n",
       "      <th>Balance</th>\n",
       "      <th>NumOfProducts</th>\n",
       "      <th>HasCrCard</th>\n",
       "      <th>IsActiveMember</th>\n",
       "      <th>EstimatedSalary</th>\n",
       "    </tr>\n",
       "  </thead>\n",
       "  <tbody>\n",
       "    <tr>\n",
       "      <th>0</th>\n",
       "      <td>165034</td>\n",
       "      <td>15773898</td>\n",
       "      <td>Lucchese</td>\n",
       "      <td>586</td>\n",
       "      <td>France</td>\n",
       "      <td>Female</td>\n",
       "      <td>23.0</td>\n",
       "      <td>2</td>\n",
       "      <td>0.00</td>\n",
       "      <td>2</td>\n",
       "      <td>0.0</td>\n",
       "      <td>1.0</td>\n",
       "      <td>160976.75</td>\n",
       "    </tr>\n",
       "    <tr>\n",
       "      <th>1</th>\n",
       "      <td>165035</td>\n",
       "      <td>15782418</td>\n",
       "      <td>Nott</td>\n",
       "      <td>683</td>\n",
       "      <td>France</td>\n",
       "      <td>Female</td>\n",
       "      <td>46.0</td>\n",
       "      <td>2</td>\n",
       "      <td>0.00</td>\n",
       "      <td>1</td>\n",
       "      <td>1.0</td>\n",
       "      <td>0.0</td>\n",
       "      <td>72549.27</td>\n",
       "    </tr>\n",
       "    <tr>\n",
       "      <th>2</th>\n",
       "      <td>165036</td>\n",
       "      <td>15807120</td>\n",
       "      <td>K?</td>\n",
       "      <td>656</td>\n",
       "      <td>France</td>\n",
       "      <td>Female</td>\n",
       "      <td>34.0</td>\n",
       "      <td>7</td>\n",
       "      <td>0.00</td>\n",
       "      <td>2</td>\n",
       "      <td>1.0</td>\n",
       "      <td>0.0</td>\n",
       "      <td>138882.09</td>\n",
       "    </tr>\n",
       "    <tr>\n",
       "      <th>3</th>\n",
       "      <td>165037</td>\n",
       "      <td>15808905</td>\n",
       "      <td>O'Donnell</td>\n",
       "      <td>681</td>\n",
       "      <td>France</td>\n",
       "      <td>Male</td>\n",
       "      <td>36.0</td>\n",
       "      <td>8</td>\n",
       "      <td>0.00</td>\n",
       "      <td>1</td>\n",
       "      <td>1.0</td>\n",
       "      <td>0.0</td>\n",
       "      <td>113931.57</td>\n",
       "    </tr>\n",
       "    <tr>\n",
       "      <th>4</th>\n",
       "      <td>165038</td>\n",
       "      <td>15607314</td>\n",
       "      <td>Higgins</td>\n",
       "      <td>752</td>\n",
       "      <td>Germany</td>\n",
       "      <td>Male</td>\n",
       "      <td>38.0</td>\n",
       "      <td>10</td>\n",
       "      <td>121263.62</td>\n",
       "      <td>1</td>\n",
       "      <td>1.0</td>\n",
       "      <td>0.0</td>\n",
       "      <td>139431.00</td>\n",
       "    </tr>\n",
       "  </tbody>\n",
       "</table>\n",
       "</div>"
      ],
      "text/plain": [
       "       id  CustomerId    Surname  CreditScore Geography  Gender   Age  Tenure  \\\n",
       "0  165034    15773898   Lucchese          586    France  Female  23.0       2   \n",
       "1  165035    15782418       Nott          683    France  Female  46.0       2   \n",
       "2  165036    15807120         K?          656    France  Female  34.0       7   \n",
       "3  165037    15808905  O'Donnell          681    France    Male  36.0       8   \n",
       "4  165038    15607314    Higgins          752   Germany    Male  38.0      10   \n",
       "\n",
       "     Balance  NumOfProducts  HasCrCard  IsActiveMember  EstimatedSalary  \n",
       "0       0.00              2        0.0             1.0        160976.75  \n",
       "1       0.00              1        1.0             0.0         72549.27  \n",
       "2       0.00              2        1.0             0.0        138882.09  \n",
       "3       0.00              1        1.0             0.0        113931.57  \n",
       "4  121263.62              1        1.0             0.0        139431.00  "
      ]
     },
     "execution_count": 3,
     "metadata": {},
     "output_type": "execute_result"
    }
   ],
   "source": [
    "test_df = pd.read_csv('/kaggle/input/playground-series-s4e1/test.csv')\n",
    "test_df.head()"
   ]
  },
  {
   "cell_type": "markdown",
   "id": "afab0a06",
   "metadata": {
    "papermill": {
     "duration": 0.015375,
     "end_time": "2024-12-16T13:02:36.850911",
     "exception": false,
     "start_time": "2024-12-16T13:02:36.835536",
     "status": "completed"
    },
    "tags": []
   },
   "source": [
    "# 簡単なデータの確認"
   ]
  },
  {
   "cell_type": "code",
   "execution_count": 4,
   "id": "12f34484",
   "metadata": {
    "execution": {
     "iopub.execute_input": "2024-12-16T13:02:36.880185Z",
     "iopub.status.busy": "2024-12-16T13:02:36.878573Z",
     "iopub.status.idle": "2024-12-16T13:02:37.070135Z",
     "shell.execute_reply": "2024-12-16T13:02:37.068882Z"
    },
    "papermill": {
     "duration": 0.208464,
     "end_time": "2024-12-16T13:02:37.072284",
     "exception": false,
     "start_time": "2024-12-16T13:02:36.863820",
     "status": "completed"
    },
    "tags": []
   },
   "outputs": [
    {
     "name": "stdout",
     "output_type": "stream",
     "text": [
      "(index, col) : (165034, 14)\n"
     ]
    },
    {
     "data": {
      "text/html": [
       "<div>\n",
       "<style scoped>\n",
       "    .dataframe tbody tr th:only-of-type {\n",
       "        vertical-align: middle;\n",
       "    }\n",
       "\n",
       "    .dataframe tbody tr th {\n",
       "        vertical-align: top;\n",
       "    }\n",
       "\n",
       "    .dataframe thead th {\n",
       "        text-align: right;\n",
       "    }\n",
       "</style>\n",
       "<table border=\"1\" class=\"dataframe\">\n",
       "  <thead>\n",
       "    <tr style=\"text-align: right;\">\n",
       "      <th></th>\n",
       "      <th>dtypes</th>\n",
       "      <th>NaN Count</th>\n",
       "      <th>Nunique</th>\n",
       "      <th>Unique Values</th>\n",
       "    </tr>\n",
       "  </thead>\n",
       "  <tbody>\n",
       "    <tr>\n",
       "      <th>id</th>\n",
       "      <td>int64</td>\n",
       "      <td>0</td>\n",
       "      <td>165034</td>\n",
       "      <td>[0, 1, 2, 3, 4, 5, 6, 7, 8, 9, 10, 11, 12, 13,...</td>\n",
       "    </tr>\n",
       "    <tr>\n",
       "      <th>CustomerId</th>\n",
       "      <td>int64</td>\n",
       "      <td>0</td>\n",
       "      <td>23221</td>\n",
       "      <td>[15674932, 15749177, 15694510, 15741417, 15766...</td>\n",
       "    </tr>\n",
       "    <tr>\n",
       "      <th>Surname</th>\n",
       "      <td>object</td>\n",
       "      <td>0</td>\n",
       "      <td>2797</td>\n",
       "      <td>[Okwudilichukwu, Okwudiliolisa, Hsueh, Kao, Ch...</td>\n",
       "    </tr>\n",
       "    <tr>\n",
       "      <th>CreditScore</th>\n",
       "      <td>int64</td>\n",
       "      <td>0</td>\n",
       "      <td>457</td>\n",
       "      <td>[668, 627, 678, 581, 716, 588, 593, 676, 583, ...</td>\n",
       "    </tr>\n",
       "    <tr>\n",
       "      <th>Geography</th>\n",
       "      <td>object</td>\n",
       "      <td>0</td>\n",
       "      <td>3</td>\n",
       "      <td>[France, Spain, Germany]</td>\n",
       "    </tr>\n",
       "    <tr>\n",
       "      <th>Gender</th>\n",
       "      <td>object</td>\n",
       "      <td>0</td>\n",
       "      <td>2</td>\n",
       "      <td>[Male, Female]</td>\n",
       "    </tr>\n",
       "    <tr>\n",
       "      <th>Age</th>\n",
       "      <td>float64</td>\n",
       "      <td>0</td>\n",
       "      <td>71</td>\n",
       "      <td>[33.0, 40.0, 34.0, 36.0, 30.0, 37.0, 43.0, 27....</td>\n",
       "    </tr>\n",
       "    <tr>\n",
       "      <th>Tenure</th>\n",
       "      <td>int64</td>\n",
       "      <td>0</td>\n",
       "      <td>11</td>\n",
       "      <td>[3, 1, 10, 2, 5, 4, 8, 6, 9, 7, 0]</td>\n",
       "    </tr>\n",
       "    <tr>\n",
       "      <th>Balance</th>\n",
       "      <td>float64</td>\n",
       "      <td>0</td>\n",
       "      <td>30075</td>\n",
       "      <td>[0.0, 148882.54, 131778.58, 144772.69, 138476....</td>\n",
       "    </tr>\n",
       "    <tr>\n",
       "      <th>NumOfProducts</th>\n",
       "      <td>int64</td>\n",
       "      <td>0</td>\n",
       "      <td>4</td>\n",
       "      <td>[2, 1, 3, 4]</td>\n",
       "    </tr>\n",
       "    <tr>\n",
       "      <th>HasCrCard</th>\n",
       "      <td>float64</td>\n",
       "      <td>0</td>\n",
       "      <td>2</td>\n",
       "      <td>[1.0, 0.0]</td>\n",
       "    </tr>\n",
       "    <tr>\n",
       "      <th>IsActiveMember</th>\n",
       "      <td>float64</td>\n",
       "      <td>0</td>\n",
       "      <td>2</td>\n",
       "      <td>[0.0, 1.0]</td>\n",
       "    </tr>\n",
       "    <tr>\n",
       "      <th>EstimatedSalary</th>\n",
       "      <td>float64</td>\n",
       "      <td>0</td>\n",
       "      <td>55298</td>\n",
       "      <td>[181449.97, 49503.5, 184866.69, 84560.88, 1506...</td>\n",
       "    </tr>\n",
       "    <tr>\n",
       "      <th>Exited</th>\n",
       "      <td>int64</td>\n",
       "      <td>0</td>\n",
       "      <td>2</td>\n",
       "      <td>[0, 1]</td>\n",
       "    </tr>\n",
       "  </tbody>\n",
       "</table>\n",
       "</div>"
      ],
      "text/plain": [
       "                  dtypes  NaN Count  Nunique  \\\n",
       "id                 int64          0   165034   \n",
       "CustomerId         int64          0    23221   \n",
       "Surname           object          0     2797   \n",
       "CreditScore        int64          0      457   \n",
       "Geography         object          0        3   \n",
       "Gender            object          0        2   \n",
       "Age              float64          0       71   \n",
       "Tenure             int64          0       11   \n",
       "Balance          float64          0    30075   \n",
       "NumOfProducts      int64          0        4   \n",
       "HasCrCard        float64          0        2   \n",
       "IsActiveMember   float64          0        2   \n",
       "EstimatedSalary  float64          0    55298   \n",
       "Exited             int64          0        2   \n",
       "\n",
       "                                                     Unique Values  \n",
       "id               [0, 1, 2, 3, 4, 5, 6, 7, 8, 9, 10, 11, 12, 13,...  \n",
       "CustomerId       [15674932, 15749177, 15694510, 15741417, 15766...  \n",
       "Surname          [Okwudilichukwu, Okwudiliolisa, Hsueh, Kao, Ch...  \n",
       "CreditScore      [668, 627, 678, 581, 716, 588, 593, 676, 583, ...  \n",
       "Geography                                 [France, Spain, Germany]  \n",
       "Gender                                              [Male, Female]  \n",
       "Age              [33.0, 40.0, 34.0, 36.0, 30.0, 37.0, 43.0, 27....  \n",
       "Tenure                          [3, 1, 10, 2, 5, 4, 8, 6, 9, 7, 0]  \n",
       "Balance          [0.0, 148882.54, 131778.58, 144772.69, 138476....  \n",
       "NumOfProducts                                         [2, 1, 3, 4]  \n",
       "HasCrCard                                               [1.0, 0.0]  \n",
       "IsActiveMember                                          [0.0, 1.0]  \n",
       "EstimatedSalary  [181449.97, 49503.5, 184866.69, 84560.88, 1506...  \n",
       "Exited                                                      [0, 1]  "
      ]
     },
     "execution_count": 4,
     "metadata": {},
     "output_type": "execute_result"
    }
   ],
   "source": [
    "def information_df(df):\n",
    "    pd.set_option('display.max_rows', None)\n",
    "    type_series = df.dtypes\n",
    "    nunique_series = df.nunique()\n",
    "    nan_count_series = df.isnull().sum()\n",
    "    unique_values_series = df.apply(lambda col: list(col.unique()))\n",
    "    info_df = pd.DataFrame({\n",
    "        'dtypes': type_series,\n",
    "        'NaN Count': nan_count_series,\n",
    "        'Nunique': nunique_series,\n",
    "        'Unique Values': unique_values_series,\n",
    "    })\n",
    "    print(f'(index, col) : {df.shape}')\n",
    "    return info_df\n",
    "\n",
    "information_df(train_df)"
   ]
  },
  {
   "cell_type": "code",
   "execution_count": 5,
   "id": "badd0d58",
   "metadata": {
    "execution": {
     "iopub.execute_input": "2024-12-16T13:02:37.099701Z",
     "iopub.status.busy": "2024-12-16T13:02:37.099261Z",
     "iopub.status.idle": "2024-12-16T13:02:37.112308Z",
     "shell.execute_reply": "2024-12-16T13:02:37.111091Z"
    },
    "papermill": {
     "duration": 0.02979,
     "end_time": "2024-12-16T13:02:37.114744",
     "exception": false,
     "start_time": "2024-12-16T13:02:37.084954",
     "status": "completed"
    },
    "tags": []
   },
   "outputs": [
    {
     "data": {
      "text/plain": [
       "Exited\n",
       "0    130113\n",
       "1     34921\n",
       "Name: count, dtype: int64"
      ]
     },
     "execution_count": 5,
     "metadata": {},
     "output_type": "execute_result"
    }
   ],
   "source": [
    "# (0：解約していない、1：解約)\n",
    "train_df['Exited'].value_counts()"
   ]
  },
  {
   "cell_type": "code",
   "execution_count": 6,
   "id": "ac7e4ea5",
   "metadata": {
    "execution": {
     "iopub.execute_input": "2024-12-16T13:02:37.141871Z",
     "iopub.status.busy": "2024-12-16T13:02:37.141447Z",
     "iopub.status.idle": "2024-12-16T13:02:37.275897Z",
     "shell.execute_reply": "2024-12-16T13:02:37.274283Z"
    },
    "papermill": {
     "duration": 0.151217,
     "end_time": "2024-12-16T13:02:37.278763",
     "exception": false,
     "start_time": "2024-12-16T13:02:37.127546",
     "status": "completed"
    },
    "tags": []
   },
   "outputs": [
    {
     "name": "stdout",
     "output_type": "stream",
     "text": [
      "(index, col) : (110023, 13)\n"
     ]
    },
    {
     "data": {
      "text/html": [
       "<div>\n",
       "<style scoped>\n",
       "    .dataframe tbody tr th:only-of-type {\n",
       "        vertical-align: middle;\n",
       "    }\n",
       "\n",
       "    .dataframe tbody tr th {\n",
       "        vertical-align: top;\n",
       "    }\n",
       "\n",
       "    .dataframe thead th {\n",
       "        text-align: right;\n",
       "    }\n",
       "</style>\n",
       "<table border=\"1\" class=\"dataframe\">\n",
       "  <thead>\n",
       "    <tr style=\"text-align: right;\">\n",
       "      <th></th>\n",
       "      <th>dtypes</th>\n",
       "      <th>NaN Count</th>\n",
       "      <th>Nunique</th>\n",
       "      <th>Unique Values</th>\n",
       "    </tr>\n",
       "  </thead>\n",
       "  <tbody>\n",
       "    <tr>\n",
       "      <th>id</th>\n",
       "      <td>int64</td>\n",
       "      <td>0</td>\n",
       "      <td>110023</td>\n",
       "      <td>[165034, 165035, 165036, 165037, 165038, 16503...</td>\n",
       "    </tr>\n",
       "    <tr>\n",
       "      <th>CustomerId</th>\n",
       "      <td>int64</td>\n",
       "      <td>0</td>\n",
       "      <td>19698</td>\n",
       "      <td>[15773898, 15782418, 15807120, 15808905, 15607...</td>\n",
       "    </tr>\n",
       "    <tr>\n",
       "      <th>Surname</th>\n",
       "      <td>object</td>\n",
       "      <td>0</td>\n",
       "      <td>2708</td>\n",
       "      <td>[Lucchese, Nott, K?, O'Donnell, Higgins, Pears...</td>\n",
       "    </tr>\n",
       "    <tr>\n",
       "      <th>CreditScore</th>\n",
       "      <td>int64</td>\n",
       "      <td>0</td>\n",
       "      <td>454</td>\n",
       "      <td>[586, 683, 656, 681, 752, 593, 682, 539, 845, ...</td>\n",
       "    </tr>\n",
       "    <tr>\n",
       "      <th>Geography</th>\n",
       "      <td>object</td>\n",
       "      <td>0</td>\n",
       "      <td>3</td>\n",
       "      <td>[France, Germany, Spain]</td>\n",
       "    </tr>\n",
       "    <tr>\n",
       "      <th>Gender</th>\n",
       "      <td>object</td>\n",
       "      <td>0</td>\n",
       "      <td>2</td>\n",
       "      <td>[Female, Male]</td>\n",
       "    </tr>\n",
       "    <tr>\n",
       "      <th>Age</th>\n",
       "      <td>float64</td>\n",
       "      <td>0</td>\n",
       "      <td>74</td>\n",
       "      <td>[23.0, 46.0, 34.0, 36.0, 38.0, 22.0, 45.0, 47....</td>\n",
       "    </tr>\n",
       "    <tr>\n",
       "      <th>Tenure</th>\n",
       "      <td>int64</td>\n",
       "      <td>0</td>\n",
       "      <td>11</td>\n",
       "      <td>[2, 7, 8, 10, 9, 4, 3, 5, 1, 6, 0]</td>\n",
       "    </tr>\n",
       "    <tr>\n",
       "      <th>Balance</th>\n",
       "      <td>float64</td>\n",
       "      <td>0</td>\n",
       "      <td>22513</td>\n",
       "      <td>[0.0, 121263.62, 111096.91, 130878.75, 135070....</td>\n",
       "    </tr>\n",
       "    <tr>\n",
       "      <th>NumOfProducts</th>\n",
       "      <td>int64</td>\n",
       "      <td>0</td>\n",
       "      <td>4</td>\n",
       "      <td>[2, 1, 4, 3]</td>\n",
       "    </tr>\n",
       "    <tr>\n",
       "      <th>HasCrCard</th>\n",
       "      <td>float64</td>\n",
       "      <td>0</td>\n",
       "      <td>2</td>\n",
       "      <td>[0.0, 1.0]</td>\n",
       "    </tr>\n",
       "    <tr>\n",
       "      <th>IsActiveMember</th>\n",
       "      <td>float64</td>\n",
       "      <td>0</td>\n",
       "      <td>2</td>\n",
       "      <td>[1.0, 0.0]</td>\n",
       "    </tr>\n",
       "    <tr>\n",
       "      <th>EstimatedSalary</th>\n",
       "      <td>float64</td>\n",
       "      <td>0</td>\n",
       "      <td>41670</td>\n",
       "      <td>[160976.75, 72549.27, 138882.09, 113931.57, 13...</td>\n",
       "    </tr>\n",
       "  </tbody>\n",
       "</table>\n",
       "</div>"
      ],
      "text/plain": [
       "                  dtypes  NaN Count  Nunique  \\\n",
       "id                 int64          0   110023   \n",
       "CustomerId         int64          0    19698   \n",
       "Surname           object          0     2708   \n",
       "CreditScore        int64          0      454   \n",
       "Geography         object          0        3   \n",
       "Gender            object          0        2   \n",
       "Age              float64          0       74   \n",
       "Tenure             int64          0       11   \n",
       "Balance          float64          0    22513   \n",
       "NumOfProducts      int64          0        4   \n",
       "HasCrCard        float64          0        2   \n",
       "IsActiveMember   float64          0        2   \n",
       "EstimatedSalary  float64          0    41670   \n",
       "\n",
       "                                                     Unique Values  \n",
       "id               [165034, 165035, 165036, 165037, 165038, 16503...  \n",
       "CustomerId       [15773898, 15782418, 15807120, 15808905, 15607...  \n",
       "Surname          [Lucchese, Nott, K?, O'Donnell, Higgins, Pears...  \n",
       "CreditScore      [586, 683, 656, 681, 752, 593, 682, 539, 845, ...  \n",
       "Geography                                 [France, Germany, Spain]  \n",
       "Gender                                              [Female, Male]  \n",
       "Age              [23.0, 46.0, 34.0, 36.0, 38.0, 22.0, 45.0, 47....  \n",
       "Tenure                          [2, 7, 8, 10, 9, 4, 3, 5, 1, 6, 0]  \n",
       "Balance          [0.0, 121263.62, 111096.91, 130878.75, 135070....  \n",
       "NumOfProducts                                         [2, 1, 4, 3]  \n",
       "HasCrCard                                               [0.0, 1.0]  \n",
       "IsActiveMember                                          [1.0, 0.0]  \n",
       "EstimatedSalary  [160976.75, 72549.27, 138882.09, 113931.57, 13...  "
      ]
     },
     "execution_count": 6,
     "metadata": {},
     "output_type": "execute_result"
    }
   ],
   "source": [
    "information_df(test_df)"
   ]
  },
  {
   "cell_type": "markdown",
   "id": "6930fd4f",
   "metadata": {
    "papermill": {
     "duration": 0.019974,
     "end_time": "2024-12-16T13:02:37.317784",
     "exception": false,
     "start_time": "2024-12-16T13:02:37.297810",
     "status": "completed"
    },
    "tags": []
   },
   "source": [
    "＜データの考察＞\n",
    "* trainとtestともに欠損値はなし\n",
    "* データ数 train:test = 165034:110023（約3/4）\n",
    "* データ型が大きい ➡️　データのメモリを削減する"
   ]
  },
  {
   "cell_type": "markdown",
   "id": "a65b2497",
   "metadata": {
    "papermill": {
     "duration": 0.013438,
     "end_time": "2024-12-16T13:02:37.351989",
     "exception": false,
     "start_time": "2024-12-16T13:02:37.338551",
     "status": "completed"
    },
    "tags": []
   },
   "source": [
    "◎最初の特徴量の確認\n",
    "\n",
    "＜そのまま特徴量にしてもでも良さそうなカラム＞優先度１\n",
    "* Gender:家族で口座を持つ場合は、男性が多く持つイメージ。結婚すると解約するとか。（ヨーロッパで当てはまるかは不明）\n",
    "* Age:年齢が高いほうが、収入や支出が多く、用途に応じて口座数を増やしそう。\n",
    "* Tenure:顧客が銀行を利用している年数。長い人のほうが解約の確率は低そう。（10年までしかないのが気になるが。）\n",
    "* NumOfProducts:顧客が利用する銀行商品の数。多い人は減らし、少ない人は増やす傾向があるはず。\n",
    "\n",
    "\n",
    "＜何らかの変更する必要があるカラム＞優先度２\n",
    "* CreditScore:信用スコアは借り入れの際には大きく影響しそうだが、口座解約につながるかは不明。\n",
    "* Geography:国ごとの特徴はわからない。入れることで確認はしたい。\n",
    "* Balance:顧客の口座残高。多い人のほうが、口座をたたむ確率は低そう。確証はないので調査。\n",
    "* HasCrCard:顧客がクレジットカードを持っているかどうか。一般的に、クレジットカード開設には口座が必要。関連がまだ不明。\n",
    "* IsActiveMember:顧客がアクティブメンバーであるかどうか。activeという定義がわからない。\n",
    "* EstimatedSalary:推定給与。給与と解約関係性がいまいち不明。\n",
    "\n",
    "\n",
    "＜不要そうなカラム＞\n",
    "* id, CustomerId:ランダム要素が大きく、重要度が高くても理屈に合わない。\n",
    "* Surname：家族の場合、影響度がありそうだが、家族の判断がつかないので、入れない。"
   ]
  },
  {
   "cell_type": "markdown",
   "id": "1579b75b",
   "metadata": {
    "papermill": {
     "duration": 0.012656,
     "end_time": "2024-12-16T13:02:37.378186",
     "exception": false,
     "start_time": "2024-12-16T13:02:37.365530",
     "status": "completed"
    },
    "tags": []
   },
   "source": [
    "以下の情報に合わせて、優先度に合わせて確認する。\n",
    "1. 顧客情報\n",
    "   'id','CustomerId', 'Surname', 'Geography', 'Gender', 'Age', 'EstimatedSalary',\n",
    "2. 銀行の情報\n",
    "   'CreditScore', 'Tenure', 'Balance', 'NumOfProducts', 'HasCrCard',　'IsActiveMember',"
   ]
  },
  {
   "cell_type": "code",
   "execution_count": 7,
   "id": "95cb7e44",
   "metadata": {
    "execution": {
     "iopub.execute_input": "2024-12-16T13:02:37.406932Z",
     "iopub.status.busy": "2024-12-16T13:02:37.406490Z",
     "iopub.status.idle": "2024-12-16T13:02:37.417612Z",
     "shell.execute_reply": "2024-12-16T13:02:37.416559Z"
    },
    "jupyter": {
     "source_hidden": true
    },
    "papermill": {
     "duration": 0.027929,
     "end_time": "2024-12-16T13:02:37.419843",
     "exception": false,
     "start_time": "2024-12-16T13:02:37.391914",
     "status": "completed"
    },
    "tags": []
   },
   "outputs": [],
   "source": [
    "def reduce_mem_usage(df):\n",
    "    start_mem = df.memory_usage().sum() / 1024**2\n",
    "    print('Memory usage of dataframe is {:.2f} MB'.format(start_mem))\n",
    "\n",
    "    for col in df.columns:\n",
    "        col_type = df[col].dtype\n",
    "\n",
    "        if col_type != object:\n",
    "            c_min = df[col].min()\n",
    "            c_max = df[col].max()\n",
    "            if str(col_type)[:3] == 'int':\n",
    "                if c_min > np.iinfo(np.int8).min and c_max < np.iinfo(np.int8).max:\n",
    "                    df[col] = df[col].astype(np.int8)\n",
    "                elif c_min > np.iinfo(np.int16).min and c_max < np.iinfo(np.int16).max:\n",
    "                    df[col] = df[col].astype(np.int16)\n",
    "                elif c_min > np.iinfo(np.int32).min and c_max < np.iinfo(np.int32).max:\n",
    "                    df[col] = df[col].astype(np.int32)\n",
    "                elif c_min > np.iinfo(np.int64).min and c_max < np.iinfo(np.int64).max:\n",
    "                    df[col] = df[col].astype(np.int64)  \n",
    "            else:\n",
    "                if c_min > np.finfo(np.float16).min and c_max < np.finfo(np.float16).max:\n",
    "                    df[col] = df[col].astype(np.float16)\n",
    "                elif c_min > np.finfo(np.float32).min and c_max < np.finfo(np.float32).max:\n",
    "                    df[col] = df[col].astype(np.float32)\n",
    "                else:\n",
    "                    df[col] = df[col].astype(np.float64)\n",
    "        else:\n",
    "            df[col] = df[col].astype('category')\n",
    "\n",
    "    end_mem = df.memory_usage().sum() / 1024**2\n",
    "    print('Memory usage after optimization is: {:.2f} MB'.format(end_mem))\n",
    "    print('Decreased by {:.1f}%'.format(100 * (start_mem - end_mem) / start_mem))\n",
    "\n",
    "    return df\n"
   ]
  },
  {
   "cell_type": "code",
   "execution_count": 8,
   "id": "da8fee7b",
   "metadata": {
    "execution": {
     "iopub.execute_input": "2024-12-16T13:02:37.461133Z",
     "iopub.status.busy": "2024-12-16T13:02:37.459990Z",
     "iopub.status.idle": "2024-12-16T13:02:37.604590Z",
     "shell.execute_reply": "2024-12-16T13:02:37.603243Z"
    },
    "jupyter": {
     "source_hidden": true
    },
    "papermill": {
     "duration": 0.168335,
     "end_time": "2024-12-16T13:02:37.607078",
     "exception": false,
     "start_time": "2024-12-16T13:02:37.438743",
     "status": "completed"
    },
    "tags": []
   },
   "outputs": [
    {
     "name": "stdout",
     "output_type": "stream",
     "text": [
      "Memory usage of dataframe is 17.63 MB\n",
      "Memory usage after optimization is: 4.96 MB\n",
      "Decreased by 71.8%\n",
      "Memory usage of dataframe is 10.91 MB\n",
      "Memory usage after optimization is: 3.23 MB\n",
      "Decreased by 70.4%\n"
     ]
    }
   ],
   "source": [
    "train_df = reduce_mem_usage(train_df)\n",
    "test_df = reduce_mem_usage(test_df)"
   ]
  },
  {
   "cell_type": "code",
   "execution_count": 9,
   "id": "245f6328",
   "metadata": {
    "execution": {
     "iopub.execute_input": "2024-12-16T13:02:37.636683Z",
     "iopub.status.busy": "2024-12-16T13:02:37.636090Z",
     "iopub.status.idle": "2024-12-16T13:02:37.751105Z",
     "shell.execute_reply": "2024-12-16T13:02:37.749875Z"
    },
    "papermill": {
     "duration": 0.132969,
     "end_time": "2024-12-16T13:02:37.753385",
     "exception": false,
     "start_time": "2024-12-16T13:02:37.620416",
     "status": "completed"
    },
    "tags": []
   },
   "outputs": [
    {
     "name": "stdout",
     "output_type": "stream",
     "text": [
      "(index, col) : (165034, 14)\n"
     ]
    },
    {
     "data": {
      "text/html": [
       "<div>\n",
       "<style scoped>\n",
       "    .dataframe tbody tr th:only-of-type {\n",
       "        vertical-align: middle;\n",
       "    }\n",
       "\n",
       "    .dataframe tbody tr th {\n",
       "        vertical-align: top;\n",
       "    }\n",
       "\n",
       "    .dataframe thead th {\n",
       "        text-align: right;\n",
       "    }\n",
       "</style>\n",
       "<table border=\"1\" class=\"dataframe\">\n",
       "  <thead>\n",
       "    <tr style=\"text-align: right;\">\n",
       "      <th></th>\n",
       "      <th>dtypes</th>\n",
       "      <th>NaN Count</th>\n",
       "      <th>Nunique</th>\n",
       "      <th>Unique Values</th>\n",
       "    </tr>\n",
       "  </thead>\n",
       "  <tbody>\n",
       "    <tr>\n",
       "      <th>id</th>\n",
       "      <td>int32</td>\n",
       "      <td>0</td>\n",
       "      <td>165034</td>\n",
       "      <td>[0, 1, 2, 3, 4, 5, 6, 7, 8, 9, 10, 11, 12, 13,...</td>\n",
       "    </tr>\n",
       "    <tr>\n",
       "      <th>CustomerId</th>\n",
       "      <td>int32</td>\n",
       "      <td>0</td>\n",
       "      <td>23221</td>\n",
       "      <td>[15674932, 15749177, 15694510, 15741417, 15766...</td>\n",
       "    </tr>\n",
       "    <tr>\n",
       "      <th>Surname</th>\n",
       "      <td>category</td>\n",
       "      <td>0</td>\n",
       "      <td>2797</td>\n",
       "      <td>[Okwudilichukwu, Okwudiliolisa, Hsueh, Kao, Ch...</td>\n",
       "    </tr>\n",
       "    <tr>\n",
       "      <th>CreditScore</th>\n",
       "      <td>int16</td>\n",
       "      <td>0</td>\n",
       "      <td>457</td>\n",
       "      <td>[668, 627, 678, 581, 716, 588, 593, 676, 583, ...</td>\n",
       "    </tr>\n",
       "    <tr>\n",
       "      <th>Geography</th>\n",
       "      <td>category</td>\n",
       "      <td>0</td>\n",
       "      <td>3</td>\n",
       "      <td>[France, Spain, Germany]</td>\n",
       "    </tr>\n",
       "    <tr>\n",
       "      <th>Gender</th>\n",
       "      <td>category</td>\n",
       "      <td>0</td>\n",
       "      <td>2</td>\n",
       "      <td>[Male, Female]</td>\n",
       "    </tr>\n",
       "    <tr>\n",
       "      <th>Age</th>\n",
       "      <td>float16</td>\n",
       "      <td>0</td>\n",
       "      <td>71</td>\n",
       "      <td>[33.0, 40.0, 34.0, 36.0, 30.0, 37.0, 43.0, 27....</td>\n",
       "    </tr>\n",
       "    <tr>\n",
       "      <th>Tenure</th>\n",
       "      <td>int8</td>\n",
       "      <td>0</td>\n",
       "      <td>11</td>\n",
       "      <td>[3, 1, 10, 2, 5, 4, 8, 6, 9, 7, 0]</td>\n",
       "    </tr>\n",
       "    <tr>\n",
       "      <th>Balance</th>\n",
       "      <td>float32</td>\n",
       "      <td>0</td>\n",
       "      <td>29807</td>\n",
       "      <td>[0.0, 148882.55, 131778.58, 144772.69, 138476....</td>\n",
       "    </tr>\n",
       "    <tr>\n",
       "      <th>NumOfProducts</th>\n",
       "      <td>int8</td>\n",
       "      <td>0</td>\n",
       "      <td>4</td>\n",
       "      <td>[2, 1, 3, 4]</td>\n",
       "    </tr>\n",
       "    <tr>\n",
       "      <th>HasCrCard</th>\n",
       "      <td>float16</td>\n",
       "      <td>0</td>\n",
       "      <td>2</td>\n",
       "      <td>[1.0, 0.0]</td>\n",
       "    </tr>\n",
       "    <tr>\n",
       "      <th>IsActiveMember</th>\n",
       "      <td>float16</td>\n",
       "      <td>0</td>\n",
       "      <td>2</td>\n",
       "      <td>[0.0, 1.0]</td>\n",
       "    </tr>\n",
       "    <tr>\n",
       "      <th>EstimatedSalary</th>\n",
       "      <td>float32</td>\n",
       "      <td>0</td>\n",
       "      <td>54502</td>\n",
       "      <td>[181449.97, 49503.5, 184866.69, 84560.88, 1506...</td>\n",
       "    </tr>\n",
       "    <tr>\n",
       "      <th>Exited</th>\n",
       "      <td>int8</td>\n",
       "      <td>0</td>\n",
       "      <td>2</td>\n",
       "      <td>[0, 1]</td>\n",
       "    </tr>\n",
       "  </tbody>\n",
       "</table>\n",
       "</div>"
      ],
      "text/plain": [
       "                   dtypes  NaN Count  Nunique  \\\n",
       "id                  int32          0   165034   \n",
       "CustomerId          int32          0    23221   \n",
       "Surname          category          0     2797   \n",
       "CreditScore         int16          0      457   \n",
       "Geography        category          0        3   \n",
       "Gender           category          0        2   \n",
       "Age               float16          0       71   \n",
       "Tenure               int8          0       11   \n",
       "Balance           float32          0    29807   \n",
       "NumOfProducts        int8          0        4   \n",
       "HasCrCard         float16          0        2   \n",
       "IsActiveMember    float16          0        2   \n",
       "EstimatedSalary   float32          0    54502   \n",
       "Exited               int8          0        2   \n",
       "\n",
       "                                                     Unique Values  \n",
       "id               [0, 1, 2, 3, 4, 5, 6, 7, 8, 9, 10, 11, 12, 13,...  \n",
       "CustomerId       [15674932, 15749177, 15694510, 15741417, 15766...  \n",
       "Surname          [Okwudilichukwu, Okwudiliolisa, Hsueh, Kao, Ch...  \n",
       "CreditScore      [668, 627, 678, 581, 716, 588, 593, 676, 583, ...  \n",
       "Geography                                 [France, Spain, Germany]  \n",
       "Gender                                              [Male, Female]  \n",
       "Age              [33.0, 40.0, 34.0, 36.0, 30.0, 37.0, 43.0, 27....  \n",
       "Tenure                          [3, 1, 10, 2, 5, 4, 8, 6, 9, 7, 0]  \n",
       "Balance          [0.0, 148882.55, 131778.58, 144772.69, 138476....  \n",
       "NumOfProducts                                         [2, 1, 3, 4]  \n",
       "HasCrCard                                               [1.0, 0.0]  \n",
       "IsActiveMember                                          [0.0, 1.0]  \n",
       "EstimatedSalary  [181449.97, 49503.5, 184866.69, 84560.88, 1506...  \n",
       "Exited                                                      [0, 1]  "
      ]
     },
     "execution_count": 9,
     "metadata": {},
     "output_type": "execute_result"
    }
   ],
   "source": [
    "information_df(train_df)"
   ]
  },
  {
   "cell_type": "code",
   "execution_count": 10,
   "id": "b8b8a60f",
   "metadata": {
    "execution": {
     "iopub.execute_input": "2024-12-16T13:02:37.782406Z",
     "iopub.status.busy": "2024-12-16T13:02:37.781945Z",
     "iopub.status.idle": "2024-12-16T13:02:38.412453Z",
     "shell.execute_reply": "2024-12-16T13:02:38.411239Z"
    },
    "papermill": {
     "duration": 0.648645,
     "end_time": "2024-12-16T13:02:38.415634",
     "exception": false,
     "start_time": "2024-12-16T13:02:37.766989",
     "status": "completed"
    },
    "tags": []
   },
   "outputs": [
    {
     "data": {
      "image/png": "[encoded data removed]",
      "text/plain": [
       "<Figure size 1000x800 with 2 Axes>"
      ]
     },
     "metadata": {},
     "output_type": "display_data"
    }
   ],
   "source": [
    "features_heat_num = ['Age', 'NumOfProducts', 'HasCrCard', 'IsActiveMember', 'Tenure', 'Balance', 'EstimatedSalary', 'CreditScore', 'Exited']\n",
    "\n",
    "corr_features = train_df[features_heat_num].corr()\n",
    "\n",
    "\n",
    "plt.figure(figsize=(10, 8)) \n",
    "sns.heatmap(corr_features, annot=True, cmap='coolwarm', fmt='.2f', linewidths=0.5)\n",
    "plt.title('Correlation Heatmap of Features')\n",
    "plt.show()"
   ]
  },
  {
   "cell_type": "markdown",
   "id": "3013a4dd",
   "metadata": {
    "papermill": {
     "duration": 0.014648,
     "end_time": "2024-12-16T13:02:38.446537",
     "exception": false,
     "start_time": "2024-12-16T13:02:38.431889",
     "status": "completed"
    },
    "tags": []
   },
   "source": [
    "# １．顧客情報"
   ]
  },
  {
   "cell_type": "code",
   "execution_count": 11,
   "id": "c61c5195",
   "metadata": {
    "execution": {
     "iopub.execute_input": "2024-12-16T13:02:38.478835Z",
     "iopub.status.busy": "2024-12-16T13:02:38.478437Z",
     "iopub.status.idle": "2024-12-16T13:02:38.491424Z",
     "shell.execute_reply": "2024-12-16T13:02:38.490328Z"
    },
    "jupyter": {
     "source_hidden": true
    },
    "papermill": {
     "duration": 0.032199,
     "end_time": "2024-12-16T13:02:38.493637",
     "exception": false,
     "start_time": "2024-12-16T13:02:38.461438",
     "status": "completed"
    },
    "tags": []
   },
   "outputs": [],
   "source": [
    "\n",
    "def plot_histograms(train_df, col, bins=100):\n",
    "    target = 'Exited'\n",
    "\n",
    "    bins = np.linspace(train_df[col].min(), train_df[col].max(), bins)\n",
    "\n",
    "    data_all = train_df[col]\n",
    "    data_exited_0 = train_df[train_df[target] == 0][col]\n",
    "    data_exited_1 = train_df[train_df[target] == 1][col]\n",
    "    \n",
    "    plt.figure(figsize=(12, 6))\n",
    "    plt.hist(data_all, bins=bins, alpha=0.5, color='green', label='All Data', density=False, edgecolor='black')\n",
    "    plt.hist(data_exited_0, bins=bins, alpha=0.5, color='blue', label='Exited: 0', density=False, edgecolor='black')\n",
    "    plt.hist(data_exited_1, bins=bins, alpha=0.5, color='orange', label='Exited: 1', density=False, edgecolor='black')\n",
    "\n",
    "    plt.xlim(train_df[col].min(), train_df[col].max())\n",
    "    plt.xlabel(col)\n",
    "    plt.ylabel('Frequency')\n",
    "    plt.title(f'Histogram of {col} by Exited')\n",
    "    plt.legend()\n",
    "    plt.show()\n",
    "\n",
    "def barplots(train_df, col):\n",
    "    target = 'Exited'\n",
    "\n",
    "    unique_values = train_df[col].nunique()\n",
    "    counts_exited_0 = train_df[train_df[target] == 0][col].value_counts().sort_index()\n",
    "    counts_exited_1 = train_df[train_df[target] == 1][col].value_counts().sort_index()\n",
    "\n",
    "    bar_width = 0.35\n",
    "    indices = np.arange(len(counts_exited_0))\n",
    "\n",
    "    plt.figure(figsize=(8, 6))\n",
    "    plt.bar(indices, counts_exited_0, bar_width, label='Exited: 0', color='blue', edgecolor='black')\n",
    "    plt.bar(indices + bar_width, counts_exited_1, bar_width, label='Exited: 1', color='orange', edgecolor='black')\n",
    "\n",
    "    plt.xlabel(col)\n",
    "    plt.ylabel('Frequency')\n",
    "    plt.title(f'Bar Chart of {col} by Exited')\n",
    "    plt.xticks(indices + bar_width / 2, counts_exited_0.index)\n",
    "    plt.legend()\n",
    "    plt.show()\n",
    "\n",
    "# def astype_to_float(train_df, test_df, col):\n",
    "#     if train_df[col].dtype == 'object':\n",
    "#         train_df[col] = train_df[col].astype(float)\n",
    "#         test_df[col] = test_df[col].astype(float)\n",
    "\n",
    "def label_encoding(train_df, test_df, col):\n",
    "    if train_df[col].dtype == 'object':\n",
    "        le = LabelEncoder()\n",
    "        train_df[col] = le.fit_transform(train_df[col])\n",
    "        test_df[col] = le.fit_transform(test_df[col])"
   ]
  },
  {
   "cell_type": "code",
   "execution_count": 12,
   "id": "a9d580df",
   "metadata": {
    "execution": {
     "iopub.execute_input": "2024-12-16T13:02:38.527088Z",
     "iopub.status.busy": "2024-12-16T13:02:38.526056Z",
     "iopub.status.idle": "2024-12-16T13:02:38.807325Z",
     "shell.execute_reply": "2024-12-16T13:02:38.805911Z"
    },
    "papermill": {
     "duration": 0.300169,
     "end_time": "2024-12-16T13:02:38.810031",
     "exception": false,
     "start_time": "2024-12-16T13:02:38.509862",
     "status": "completed"
    },
    "tags": []
   },
   "outputs": [
    {
     "data": {
      "image/png": "[encoded data removed]",
      "text/plain": [
       "<Figure size 800x600 with 1 Axes>"
      ]
     },
     "metadata": {},
     "output_type": "display_data"
    }
   ],
   "source": [
    "# 'Geography' (0:Female, 1:Male)\n",
    "label_encoding(train_df, test_df, 'Gender')\n",
    "barplots(train_df, 'Gender')"
   ]
  },
  {
   "cell_type": "markdown",
   "id": "6aa87cdc",
   "metadata": {
    "papermill": {
     "duration": 0.015811,
     "end_time": "2024-12-16T13:02:38.841865",
     "exception": false,
     "start_time": "2024-12-16T13:02:38.826054",
     "status": "completed"
    },
    "tags": []
   },
   "source": [
    "女性の方が解約率が高い。十分に特徴量をして扱えるはず。"
   ]
  },
  {
   "cell_type": "code",
   "execution_count": 13,
   "id": "aa06ed7d",
   "metadata": {
    "execution": {
     "iopub.execute_input": "2024-12-16T13:02:38.875277Z",
     "iopub.status.busy": "2024-12-16T13:02:38.874793Z",
     "iopub.status.idle": "2024-12-16T13:02:38.884716Z",
     "shell.execute_reply": "2024-12-16T13:02:38.883469Z"
    },
    "papermill": {
     "duration": 0.029227,
     "end_time": "2024-12-16T13:02:38.886875",
     "exception": false,
     "start_time": "2024-12-16T13:02:38.857648",
     "status": "completed"
    },
    "tags": []
   },
   "outputs": [
    {
     "name": "stdout",
     "output_type": "stream",
     "text": [
      "18.0\n",
      "92.0\n"
     ]
    }
   ],
   "source": [
    "# 'Age'\n",
    "print(train_df['Age'].min())\n",
    "print(train_df['Age'].max())"
   ]
  },
  {
   "cell_type": "code",
   "execution_count": 14,
   "id": "949e2ab8",
   "metadata": {
    "execution": {
     "iopub.execute_input": "2024-12-16T13:02:38.920963Z",
     "iopub.status.busy": "2024-12-16T13:02:38.920519Z",
     "iopub.status.idle": "2024-12-16T13:02:39.630177Z",
     "shell.execute_reply": "2024-12-16T13:02:39.628845Z"
    },
    "papermill": {
     "duration": 0.730088,
     "end_time": "2024-12-16T13:02:39.632681",
     "exception": false,
     "start_time": "2024-12-16T13:02:38.902593",
     "status": "completed"
    },
    "tags": []
   },
   "outputs": [
    {
     "data": {
      "image/png": "[encoded data removed]",
      "text/plain": [
       "<Figure size 1200x600 with 1 Axes>"
      ]
     },
     "metadata": {},
     "output_type": "display_data"
    }
   ],
   "source": [
    "plot_histograms(train_df, 'Age', bins=75) # 1歳ごと"
   ]
  },
  {
   "cell_type": "markdown",
   "id": "e6fc77de",
   "metadata": {
    "papermill": {
     "duration": 0.016833,
     "end_time": "2024-12-16T13:02:39.666494",
     "exception": false,
     "start_time": "2024-12-16T13:02:39.649661",
     "status": "completed"
    },
    "tags": []
   },
   "source": [
    "＜考察＞\n",
    "* 中年世代が比較的高い解約数となっている。\n",
    "* 特に、50〜60代前後は解約していない人も少ない。\n",
    "* 年代ごとに傾向が異なるので、ビンニングもありか。\n",
    "* 最大値94はありえない数字ではないので、外れ値の設定はなし。"
   ]
  },
  {
   "cell_type": "code",
   "execution_count": 15,
   "id": "a5b0db38",
   "metadata": {
    "execution": {
     "iopub.execute_input": "2024-12-16T13:02:39.701896Z",
     "iopub.status.busy": "2024-12-16T13:02:39.701477Z",
     "iopub.status.idle": "2024-12-16T13:02:39.724365Z",
     "shell.execute_reply": "2024-12-16T13:02:39.723242Z"
    },
    "papermill": {
     "duration": 0.043726,
     "end_time": "2024-12-16T13:02:39.726929",
     "exception": false,
     "start_time": "2024-12-16T13:02:39.683203",
     "status": "completed"
    },
    "tags": []
   },
   "outputs": [],
   "source": [
    "# ビンの範囲を設定\n",
    "\n",
    "bins = [10, 20, 30, 40, 50, 60, 70, 80, 100]\n",
    "labels = ['10-19', '20-29', '30-39', '40-49', '50-59', '60-69', '70-79', '80-99']\n",
    "\n",
    "# bins = [15, 20, 25, 30, 35, 40, 45, 50, 55, 60, 65, 70, 75, 80, 85, 90, 95]\n",
    "# labels = ['15-19', '20-24', '25-29', '30-34', '35-39', '40-44', '45-49', '50-54', '55-59', '60-64', '65-69', '70-74', '75-79', '80-84', '85-89', '90-94']\n",
    "\n",
    "train_df['Age'] = train_df['Age'].astype(int)\n",
    "test_df['Age'] = test_df['Age'].astype(int)\n",
    "\n",
    "# pd.cut()を使って年齢をビンに分ける\n",
    "train_df['Age_group'] = pd.cut(train_df['Age'], bins=bins, labels=labels, right=False)\n",
    "test_df['Age_group'] = pd.cut(test_df['Age'], bins=bins, labels=labels, right=False)"
   ]
  },
  {
   "cell_type": "code",
   "execution_count": 16,
   "id": "5832ebd0",
   "metadata": {
    "execution": {
     "iopub.execute_input": "2024-12-16T13:02:39.762318Z",
     "iopub.status.busy": "2024-12-16T13:02:39.761867Z",
     "iopub.status.idle": "2024-12-16T13:02:39.806653Z",
     "shell.execute_reply": "2024-12-16T13:02:39.805386Z"
    },
    "papermill": {
     "duration": 0.065119,
     "end_time": "2024-12-16T13:02:39.809075",
     "exception": false,
     "start_time": "2024-12-16T13:02:39.743956",
     "status": "completed"
    },
    "tags": []
   },
   "outputs": [
    {
     "data": {
      "text/html": [
       "<div>\n",
       "<style scoped>\n",
       "    .dataframe tbody tr th:only-of-type {\n",
       "        vertical-align: middle;\n",
       "    }\n",
       "\n",
       "    .dataframe tbody tr th {\n",
       "        vertical-align: top;\n",
       "    }\n",
       "\n",
       "    .dataframe thead th {\n",
       "        text-align: right;\n",
       "    }\n",
       "</style>\n",
       "<table border=\"1\" class=\"dataframe\">\n",
       "  <thead>\n",
       "    <tr style=\"text-align: right;\">\n",
       "      <th>Exited</th>\n",
       "      <th>0</th>\n",
       "      <th>1</th>\n",
       "      <th>Exited_1_ratio</th>\n",
       "    </tr>\n",
       "    <tr>\n",
       "      <th>Age_group</th>\n",
       "      <th></th>\n",
       "      <th></th>\n",
       "      <th></th>\n",
       "    </tr>\n",
       "  </thead>\n",
       "  <tbody>\n",
       "    <tr>\n",
       "      <th>10-19</th>\n",
       "      <td>298</td>\n",
       "      <td>34</td>\n",
       "      <td>0.102410</td>\n",
       "    </tr>\n",
       "    <tr>\n",
       "      <th>20-29</th>\n",
       "      <td>21270</td>\n",
       "      <td>1932</td>\n",
       "      <td>0.083269</td>\n",
       "    </tr>\n",
       "    <tr>\n",
       "      <th>30-39</th>\n",
       "      <td>72454</td>\n",
       "      <td>8799</td>\n",
       "      <td>0.108291</td>\n",
       "    </tr>\n",
       "    <tr>\n",
       "      <th>40-49</th>\n",
       "      <td>28244</td>\n",
       "      <td>15075</td>\n",
       "      <td>0.348000</td>\n",
       "    </tr>\n",
       "    <tr>\n",
       "      <th>50-59</th>\n",
       "      <td>4760</td>\n",
       "      <td>7426</td>\n",
       "      <td>0.609388</td>\n",
       "    </tr>\n",
       "    <tr>\n",
       "      <th>60-69</th>\n",
       "      <td>2400</td>\n",
       "      <td>1520</td>\n",
       "      <td>0.387755</td>\n",
       "    </tr>\n",
       "    <tr>\n",
       "      <th>70-79</th>\n",
       "      <td>635</td>\n",
       "      <td>128</td>\n",
       "      <td>0.167759</td>\n",
       "    </tr>\n",
       "    <tr>\n",
       "      <th>80-99</th>\n",
       "      <td>52</td>\n",
       "      <td>7</td>\n",
       "      <td>0.118644</td>\n",
       "    </tr>\n",
       "  </tbody>\n",
       "</table>\n",
       "</div>"
      ],
      "text/plain": [
       "Exited         0      1  Exited_1_ratio\n",
       "Age_group                              \n",
       "10-19        298     34        0.102410\n",
       "20-29      21270   1932        0.083269\n",
       "30-39      72454   8799        0.108291\n",
       "40-49      28244  15075        0.348000\n",
       "50-59       4760   7426        0.609388\n",
       "60-69       2400   1520        0.387755\n",
       "70-79        635    128        0.167759\n",
       "80-99         52      7        0.118644"
      ]
     },
     "execution_count": 16,
     "metadata": {},
     "output_type": "execute_result"
    }
   ],
   "source": [
    "crosstab_age_group = pd.crosstab(train_df['Age_group'], train_df['Exited'])\n",
    "crosstab_age_group['Exited_1_ratio'] = crosstab_age_group[1] / (crosstab_age_group[0] + crosstab_age_group[1])\n",
    "crosstab_age_group"
   ]
  },
  {
   "cell_type": "code",
   "execution_count": 17,
   "id": "f84905cd",
   "metadata": {
    "execution": {
     "iopub.execute_input": "2024-12-16T13:02:39.844252Z",
     "iopub.status.busy": "2024-12-16T13:02:39.843810Z",
     "iopub.status.idle": "2024-12-16T13:02:40.070389Z",
     "shell.execute_reply": "2024-12-16T13:02:40.069252Z"
    },
    "papermill": {
     "duration": 0.247384,
     "end_time": "2024-12-16T13:02:40.073092",
     "exception": false,
     "start_time": "2024-12-16T13:02:39.825708",
     "status": "completed"
    },
    "tags": []
   },
   "outputs": [
    {
     "data": {
      "image/png": "[encoded data removed]",
      "text/plain": [
       "<Figure size 800x600 with 1 Axes>"
      ]
     },
     "metadata": {},
     "output_type": "display_data"
    }
   ],
   "source": [
    "# Geography\n",
    "label_encoding(train_df, test_df, 'Geography')\n",
    "barplots(train_df, 'Geography')"
   ]
  },
  {
   "cell_type": "code",
   "execution_count": 18,
   "id": "57d35326",
   "metadata": {
    "execution": {
     "iopub.execute_input": "2024-12-16T13:02:40.109794Z",
     "iopub.status.busy": "2024-12-16T13:02:40.109374Z",
     "iopub.status.idle": "2024-12-16T13:02:40.146164Z",
     "shell.execute_reply": "2024-12-16T13:02:40.144895Z"
    },
    "papermill": {
     "duration": 0.057767,
     "end_time": "2024-12-16T13:02:40.148549",
     "exception": false,
     "start_time": "2024-12-16T13:02:40.090782",
     "status": "completed"
    },
    "tags": []
   },
   "outputs": [
    {
     "data": {
      "text/html": [
       "<div>\n",
       "<style scoped>\n",
       "    .dataframe tbody tr th:only-of-type {\n",
       "        vertical-align: middle;\n",
       "    }\n",
       "\n",
       "    .dataframe tbody tr th {\n",
       "        vertical-align: top;\n",
       "    }\n",
       "\n",
       "    .dataframe thead th {\n",
       "        text-align: right;\n",
       "    }\n",
       "</style>\n",
       "<table border=\"1\" class=\"dataframe\">\n",
       "  <thead>\n",
       "    <tr style=\"text-align: right;\">\n",
       "      <th>Exited</th>\n",
       "      <th>0</th>\n",
       "      <th>1</th>\n",
       "      <th>Exited_1_ratio</th>\n",
       "    </tr>\n",
       "    <tr>\n",
       "      <th>Geography</th>\n",
       "      <th></th>\n",
       "      <th></th>\n",
       "      <th></th>\n",
       "    </tr>\n",
       "  </thead>\n",
       "  <tbody>\n",
       "    <tr>\n",
       "      <th>France</th>\n",
       "      <td>78643</td>\n",
       "      <td>15572</td>\n",
       "      <td>0.165282</td>\n",
       "    </tr>\n",
       "    <tr>\n",
       "      <th>Germany</th>\n",
       "      <td>21492</td>\n",
       "      <td>13114</td>\n",
       "      <td>0.378952</td>\n",
       "    </tr>\n",
       "    <tr>\n",
       "      <th>Spain</th>\n",
       "      <td>29978</td>\n",
       "      <td>6235</td>\n",
       "      <td>0.172176</td>\n",
       "    </tr>\n",
       "  </tbody>\n",
       "</table>\n",
       "</div>"
      ],
      "text/plain": [
       "Exited         0      1  Exited_1_ratio\n",
       "Geography                              \n",
       "France     78643  15572        0.165282\n",
       "Germany    21492  13114        0.378952\n",
       "Spain      29978   6235        0.172176"
      ]
     },
     "execution_count": 18,
     "metadata": {},
     "output_type": "execute_result"
    }
   ],
   "source": [
    "crosstab_Geography = pd.crosstab(train_df['Geography'], train_df['Exited'])\n",
    "crosstab_Geography['Exited_1_ratio'] = crosstab_Geography[1] / (crosstab_Geography[0] + crosstab_Geography[1])\n",
    "crosstab_Geography"
   ]
  },
  {
   "cell_type": "markdown",
   "id": "9ec5862f",
   "metadata": {
    "papermill": {
     "duration": 0.017699,
     "end_time": "2024-12-16T13:02:40.183604",
     "exception": false,
     "start_time": "2024-12-16T13:02:40.165905",
     "status": "completed"
    },
    "tags": []
   },
   "source": [
    "＜考察＞\n",
    "\n",
    "* ドイツの解約率が高いことで差別化できている。\n",
    "* フランスとスペインはほぼ同等だが、デン帯におけるフランスの割合が高いなど、差異はあるので特徴量に追加する。"
   ]
  },
  {
   "cell_type": "markdown",
   "id": "5e93ecb1",
   "metadata": {
    "papermill": {
     "duration": 0.017141,
     "end_time": "2024-12-16T13:02:40.218924",
     "exception": false,
     "start_time": "2024-12-16T13:02:40.201783",
     "status": "completed"
    },
    "tags": []
   },
   "source": [
    "# ２．銀行の情報"
   ]
  },
  {
   "cell_type": "code",
   "execution_count": 19,
   "id": "4f0296f8",
   "metadata": {
    "execution": {
     "iopub.execute_input": "2024-12-16T13:02:40.255774Z",
     "iopub.status.busy": "2024-12-16T13:02:40.255339Z",
     "iopub.status.idle": "2024-12-16T13:02:40.547420Z",
     "shell.execute_reply": "2024-12-16T13:02:40.546246Z"
    },
    "papermill": {
     "duration": 0.313436,
     "end_time": "2024-12-16T13:02:40.549611",
     "exception": false,
     "start_time": "2024-12-16T13:02:40.236175",
     "status": "completed"
    },
    "tags": []
   },
   "outputs": [
    {
     "data": {
      "image/png": "[encoded data removed]",
      "text/plain": [
       "<Figure size 1200x600 with 1 Axes>"
      ]
     },
     "metadata": {},
     "output_type": "display_data"
    }
   ],
   "source": [
    "# Tenure\n",
    "plot_histograms(train_df, 'Tenure', bins=11)"
   ]
  },
  {
   "cell_type": "code",
   "execution_count": 20,
   "id": "eb45f1b8",
   "metadata": {
    "execution": {
     "iopub.execute_input": "2024-12-16T13:02:40.587478Z",
     "iopub.status.busy": "2024-12-16T13:02:40.587037Z",
     "iopub.status.idle": "2024-12-16T13:02:40.621909Z",
     "shell.execute_reply": "2024-12-16T13:02:40.620667Z"
    },
    "papermill": {
     "duration": 0.056735,
     "end_time": "2024-12-16T13:02:40.624320",
     "exception": false,
     "start_time": "2024-12-16T13:02:40.567585",
     "status": "completed"
    },
    "tags": []
   },
   "outputs": [
    {
     "data": {
      "text/html": [
       "<div>\n",
       "<style scoped>\n",
       "    .dataframe tbody tr th:only-of-type {\n",
       "        vertical-align: middle;\n",
       "    }\n",
       "\n",
       "    .dataframe tbody tr th {\n",
       "        vertical-align: top;\n",
       "    }\n",
       "\n",
       "    .dataframe thead th {\n",
       "        text-align: right;\n",
       "    }\n",
       "</style>\n",
       "<table border=\"1\" class=\"dataframe\">\n",
       "  <thead>\n",
       "    <tr style=\"text-align: right;\">\n",
       "      <th>Exited</th>\n",
       "      <th>0</th>\n",
       "      <th>1</th>\n",
       "      <th>Exited_1_ratio</th>\n",
       "    </tr>\n",
       "    <tr>\n",
       "      <th>Tenure</th>\n",
       "      <th></th>\n",
       "      <th></th>\n",
       "      <th></th>\n",
       "    </tr>\n",
       "  </thead>\n",
       "  <tbody>\n",
       "    <tr>\n",
       "      <th>0</th>\n",
       "      <td>3731</td>\n",
       "      <td>1276</td>\n",
       "      <td>0.254843</td>\n",
       "    </tr>\n",
       "    <tr>\n",
       "      <th>1</th>\n",
       "      <td>12970</td>\n",
       "      <td>3790</td>\n",
       "      <td>0.226134</td>\n",
       "    </tr>\n",
       "    <tr>\n",
       "      <th>2</th>\n",
       "      <td>14529</td>\n",
       "      <td>3516</td>\n",
       "      <td>0.194846</td>\n",
       "    </tr>\n",
       "    <tr>\n",
       "      <th>3</th>\n",
       "      <td>12820</td>\n",
       "      <td>3810</td>\n",
       "      <td>0.229104</td>\n",
       "    </tr>\n",
       "    <tr>\n",
       "      <th>4</th>\n",
       "      <td>13580</td>\n",
       "      <td>3974</td>\n",
       "      <td>0.226387</td>\n",
       "    </tr>\n",
       "    <tr>\n",
       "      <th>5</th>\n",
       "      <td>13468</td>\n",
       "      <td>3800</td>\n",
       "      <td>0.220060</td>\n",
       "    </tr>\n",
       "    <tr>\n",
       "      <th>6</th>\n",
       "      <td>12677</td>\n",
       "      <td>3145</td>\n",
       "      <td>0.198774</td>\n",
       "    </tr>\n",
       "    <tr>\n",
       "      <th>7</th>\n",
       "      <td>14469</td>\n",
       "      <td>3341</td>\n",
       "      <td>0.187591</td>\n",
       "    </tr>\n",
       "    <tr>\n",
       "      <th>8</th>\n",
       "      <td>14052</td>\n",
       "      <td>3468</td>\n",
       "      <td>0.197945</td>\n",
       "    </tr>\n",
       "    <tr>\n",
       "      <th>9</th>\n",
       "      <td>13165</td>\n",
       "      <td>3544</td>\n",
       "      <td>0.212101</td>\n",
       "    </tr>\n",
       "    <tr>\n",
       "      <th>10</th>\n",
       "      <td>4652</td>\n",
       "      <td>1257</td>\n",
       "      <td>0.212726</td>\n",
       "    </tr>\n",
       "  </tbody>\n",
       "</table>\n",
       "</div>"
      ],
      "text/plain": [
       "Exited      0     1  Exited_1_ratio\n",
       "Tenure                             \n",
       "0        3731  1276        0.254843\n",
       "1       12970  3790        0.226134\n",
       "2       14529  3516        0.194846\n",
       "3       12820  3810        0.229104\n",
       "4       13580  3974        0.226387\n",
       "5       13468  3800        0.220060\n",
       "6       12677  3145        0.198774\n",
       "7       14469  3341        0.187591\n",
       "8       14052  3468        0.197945\n",
       "9       13165  3544        0.212101\n",
       "10       4652  1257        0.212726"
      ]
     },
     "execution_count": 20,
     "metadata": {},
     "output_type": "execute_result"
    }
   ],
   "source": [
    "# それぞれの割合を計算\n",
    "crosstab_Tenure = pd.crosstab(train_df['Tenure'], train_df['Exited'])\n",
    "crosstab_Tenure['Exited_1_ratio'] = crosstab_Tenure[1] / (crosstab_Tenure[0] + crosstab_Tenure[1])\n",
    "crosstab_Tenure"
   ]
  },
  {
   "cell_type": "markdown",
   "id": "7906370e",
   "metadata": {
    "papermill": {
     "duration": 0.017857,
     "end_time": "2024-12-16T13:02:40.660443",
     "exception": false,
     "start_time": "2024-12-16T13:02:40.642586",
     "status": "completed"
    },
    "tags": []
   },
   "source": [
    "＜考察＞\n",
    "* 思っていたより解約率に影響しないパラメータだった。加工してからデータに投入したい。\n",
    "* 他のカラムと相関があるかもしれない。特に'Age'カラムとの相関がないか検討したい。\n",
    "\n",
    "＜仮説メモ＞\n",
    "* データのままで6〜8年の人は解約率が低い。➡️カラムをそのまま入れてみる。\n",
    "* 6〜8年の人は20代前半で開設して20代後半から30代前半（解約率の低い）である影響が出ているのかも。➡️口座開設の年齢を算出する"
   ]
  },
  {
   "cell_type": "code",
   "execution_count": 21,
   "id": "1eae4654",
   "metadata": {
    "execution": {
     "iopub.execute_input": "2024-12-16T13:02:40.698075Z",
     "iopub.status.busy": "2024-12-16T13:02:40.697646Z",
     "iopub.status.idle": "2024-12-16T13:02:41.658520Z",
     "shell.execute_reply": "2024-12-16T13:02:41.657283Z"
    },
    "papermill": {
     "duration": 0.983372,
     "end_time": "2024-12-16T13:02:41.661757",
     "exception": false,
     "start_time": "2024-12-16T13:02:40.678385",
     "status": "completed"
    },
    "tags": []
   },
   "outputs": [
    {
     "data": {
      "image/png": "[encoded data removed]",
      "text/plain": [
       "<Figure size 1200x600 with 1 Axes>"
      ]
     },
     "metadata": {},
     "output_type": "display_data"
    }
   ],
   "source": [
    "train_df['Age_for_account_opening'] = train_df['Age'] - train_df['Tenure']\n",
    "test_df['Age_for_account_opening'] = test_df['Age'] - test_df['Tenure']\n",
    "\n",
    "plot_histograms(train_df, 'Age_for_account_opening', bins=85) # 1歳ごと"
   ]
  },
  {
   "cell_type": "markdown",
   "id": "e70249c2",
   "metadata": {
    "papermill": {
     "duration": 0.020143,
     "end_time": "2024-12-16T13:02:41.707847",
     "exception": false,
     "start_time": "2024-12-16T13:02:41.687704",
     "status": "completed"
    },
    "tags": []
   },
   "source": [
    "＜考察＞\n",
    "* 18歳以下でも口座開設できている理由が不明だが、特徴量としては精度向上にはならなかった。"
   ]
  },
  {
   "cell_type": "code",
   "execution_count": 22,
   "id": "2db49a27",
   "metadata": {
    "execution": {
     "iopub.execute_input": "2024-12-16T13:02:41.751245Z",
     "iopub.status.busy": "2024-12-16T13:02:41.750674Z",
     "iopub.status.idle": "2024-12-16T13:02:41.773825Z",
     "shell.execute_reply": "2024-12-16T13:02:41.772483Z"
    },
    "papermill": {
     "duration": 0.046844,
     "end_time": "2024-12-16T13:02:41.776569",
     "exception": false,
     "start_time": "2024-12-16T13:02:41.729725",
     "status": "completed"
    },
    "tags": []
   },
   "outputs": [],
   "source": [
    "# ビンの範囲を設定\n",
    "bins = [10, 20, 30, 40, 50, 60, 70, 80, 100]\n",
    "labels = ['10-19', '20-29', '30-39', '40-49', '50-59', '60-69', '70-79', '80-99']\n",
    "\n",
    "\n",
    "train_df['Age_for_account_opening'] = train_df['Age_for_account_opening'].astype(int)\n",
    "test_df['Age_for_account_opening'] = test_df['Age_for_account_opening'].astype(int)\n",
    "\n",
    "# pd.cut()を使って年齢をビンに分ける\n",
    "train_df['Age_for_account_opening_group'] = pd.cut(train_df['Age_for_account_opening'], bins=bins, labels=labels, right=False)\n",
    "test_df['Age_for_account_opening_group'] = pd.cut(test_df['Age_for_account_opening'], bins=bins, labels=labels, right=False)"
   ]
  },
  {
   "cell_type": "code",
   "execution_count": 23,
   "id": "380f312d",
   "metadata": {
    "execution": {
     "iopub.execute_input": "2024-12-16T13:02:41.818953Z",
     "iopub.status.busy": "2024-12-16T13:02:41.818409Z",
     "iopub.status.idle": "2024-12-16T13:02:42.126038Z",
     "shell.execute_reply": "2024-12-16T13:02:42.124654Z"
    },
    "papermill": {
     "duration": 0.332039,
     "end_time": "2024-12-16T13:02:42.128816",
     "exception": false,
     "start_time": "2024-12-16T13:02:41.796777",
     "status": "completed"
    },
    "tags": []
   },
   "outputs": [
    {
     "data": {
      "image/png": "[encoded data removed]",
      "text/plain": [
       "<Figure size 800x600 with 1 Axes>"
      ]
     },
     "metadata": {},
     "output_type": "display_data"
    }
   ],
   "source": [
    "# NumOfProducts\n",
    "barplots(train_df, 'NumOfProducts')"
   ]
  },
  {
   "cell_type": "code",
   "execution_count": 24,
   "id": "c21e6ed4",
   "metadata": {
    "execution": {
     "iopub.execute_input": "2024-12-16T13:02:42.174033Z",
     "iopub.status.busy": "2024-12-16T13:02:42.173479Z",
     "iopub.status.idle": "2024-12-16T13:02:42.207561Z",
     "shell.execute_reply": "2024-12-16T13:02:42.206229Z"
    },
    "papermill": {
     "duration": 0.059333,
     "end_time": "2024-12-16T13:02:42.210042",
     "exception": false,
     "start_time": "2024-12-16T13:02:42.150709",
     "status": "completed"
    },
    "tags": []
   },
   "outputs": [
    {
     "data": {
      "text/html": [
       "<div>\n",
       "<style scoped>\n",
       "    .dataframe tbody tr th:only-of-type {\n",
       "        vertical-align: middle;\n",
       "    }\n",
       "\n",
       "    .dataframe tbody tr th {\n",
       "        vertical-align: top;\n",
       "    }\n",
       "\n",
       "    .dataframe thead th {\n",
       "        text-align: right;\n",
       "    }\n",
       "</style>\n",
       "<table border=\"1\" class=\"dataframe\">\n",
       "  <thead>\n",
       "    <tr style=\"text-align: right;\">\n",
       "      <th>Exited</th>\n",
       "      <th>0</th>\n",
       "      <th>1</th>\n",
       "      <th>Exited_1_ratio</th>\n",
       "    </tr>\n",
       "    <tr>\n",
       "      <th>NumOfProducts</th>\n",
       "      <th></th>\n",
       "      <th></th>\n",
       "      <th></th>\n",
       "    </tr>\n",
       "  </thead>\n",
       "  <tbody>\n",
       "    <tr>\n",
       "      <th>1</th>\n",
       "      <td>50516</td>\n",
       "      <td>26858</td>\n",
       "      <td>0.347119</td>\n",
       "    </tr>\n",
       "    <tr>\n",
       "      <th>2</th>\n",
       "      <td>79198</td>\n",
       "      <td>5093</td>\n",
       "      <td>0.060422</td>\n",
       "    </tr>\n",
       "    <tr>\n",
       "      <th>3</th>\n",
       "      <td>340</td>\n",
       "      <td>2554</td>\n",
       "      <td>0.882516</td>\n",
       "    </tr>\n",
       "    <tr>\n",
       "      <th>4</th>\n",
       "      <td>59</td>\n",
       "      <td>416</td>\n",
       "      <td>0.875789</td>\n",
       "    </tr>\n",
       "  </tbody>\n",
       "</table>\n",
       "</div>"
      ],
      "text/plain": [
       "Exited             0      1  Exited_1_ratio\n",
       "NumOfProducts                              \n",
       "1              50516  26858        0.347119\n",
       "2              79198   5093        0.060422\n",
       "3                340   2554        0.882516\n",
       "4                 59    416        0.875789"
      ]
     },
     "execution_count": 24,
     "metadata": {},
     "output_type": "execute_result"
    }
   ],
   "source": [
    "# それぞれの割合を計算\n",
    "crosstab_NumOfProducts = pd.crosstab(train_df['NumOfProducts'], train_df['Exited'])\n",
    "crosstab_NumOfProducts['Exited_1_ratio'] = crosstab_NumOfProducts[1] / (crosstab_NumOfProducts[0] + crosstab_NumOfProducts[1])\n",
    "crosstab_NumOfProducts"
   ]
  },
  {
   "cell_type": "markdown",
   "id": "6defa659",
   "metadata": {
    "papermill": {
     "duration": 0.020102,
     "end_time": "2024-12-16T13:02:42.250760",
     "exception": false,
     "start_time": "2024-12-16T13:02:42.230658",
     "status": "completed"
    },
    "tags": []
   },
   "source": [
    "＜考察＞\n",
    "* 2個持ちが解約率がかなり低い。\n",
    "* 1個だけや3個以上になると解約率が多くなる。"
   ]
  },
  {
   "cell_type": "code",
   "execution_count": 25,
   "id": "19ce9440",
   "metadata": {
    "execution": {
     "iopub.execute_input": "2024-12-16T13:02:42.293133Z",
     "iopub.status.busy": "2024-12-16T13:02:42.292712Z",
     "iopub.status.idle": "2024-12-16T13:02:42.882096Z",
     "shell.execute_reply": "2024-12-16T13:02:42.880836Z"
    },
    "papermill": {
     "duration": 0.613713,
     "end_time": "2024-12-16T13:02:42.884711",
     "exception": false,
     "start_time": "2024-12-16T13:02:42.270998",
     "status": "completed"
    },
    "tags": []
   },
   "outputs": [
    {
     "data": {
      "image/png": "[encoded data removed]",
      "text/plain": [
       "<Figure size 1200x600 with 1 Axes>"
      ]
     },
     "metadata": {},
     "output_type": "display_data"
    }
   ],
   "source": [
    "plot_histograms(train_df, 'CreditScore', bins=51)"
   ]
  },
  {
   "cell_type": "markdown",
   "id": "5722e92c",
   "metadata": {
    "papermill": {
     "duration": 0.020652,
     "end_time": "2024-12-16T13:02:42.927437",
     "exception": false,
     "start_time": "2024-12-16T13:02:42.906785",
     "status": "completed"
    },
    "tags": []
   },
   "source": [
    "＜考察＞\n",
    "* 信用スコアで見たとき、まばらだが若干の特徴あり。特徴量として入れてみる。"
   ]
  },
  {
   "cell_type": "code",
   "execution_count": 26,
   "id": "f782a5ed",
   "metadata": {
    "execution": {
     "iopub.execute_input": "2024-12-16T13:02:42.971013Z",
     "iopub.status.busy": "2024-12-16T13:02:42.970584Z",
     "iopub.status.idle": "2024-12-16T13:02:43.315922Z",
     "shell.execute_reply": "2024-12-16T13:02:43.314430Z"
    },
    "papermill": {
     "duration": 0.370695,
     "end_time": "2024-12-16T13:02:43.318945",
     "exception": false,
     "start_time": "2024-12-16T13:02:42.948250",
     "status": "completed"
    },
    "tags": []
   },
   "outputs": [
    {
     "data": {
      "image/png": "[encoded data removed]",
      "text/plain": [
       "<Figure size 1200x600 with 1 Axes>"
      ]
     },
     "metadata": {},
     "output_type": "display_data"
    }
   ],
   "source": [
    "plot_histograms(train_df, 'Balance', bins=20)"
   ]
  },
  {
   "cell_type": "code",
   "execution_count": 27,
   "id": "02cc3c28",
   "metadata": {
    "execution": {
     "iopub.execute_input": "2024-12-16T13:02:43.364324Z",
     "iopub.status.busy": "2024-12-16T13:02:43.363873Z",
     "iopub.status.idle": "2024-12-16T13:02:43.372201Z",
     "shell.execute_reply": "2024-12-16T13:02:43.370999Z"
    },
    "papermill": {
     "duration": 0.033299,
     "end_time": "2024-12-16T13:02:43.374617",
     "exception": false,
     "start_time": "2024-12-16T13:02:43.341318",
     "status": "completed"
    },
    "tags": []
   },
   "outputs": [
    {
     "data": {
      "text/plain": [
       "0.0"
      ]
     },
     "execution_count": 27,
     "metadata": {},
     "output_type": "execute_result"
    }
   ],
   "source": [
    "train_df['Balance'].min()"
   ]
  },
  {
   "cell_type": "markdown",
   "id": "10bd68be",
   "metadata": {
    "papermill": {
     "duration": 0.021339,
     "end_time": "2024-12-16T13:02:43.417396",
     "exception": false,
     "start_time": "2024-12-16T13:02:43.396057",
     "status": "completed"
    },
    "tags": []
   },
   "source": [
    "＜考察＞\n",
    "* 口座の残額が0である人が大多数。➡️残高０をターゲットエンコーディングする。\n",
    "* それ以外の範囲は、解約の傾向は薄い。➡\n",
    "* 口座あたりの残高のカラムも作ってみる"
   ]
  },
  {
   "cell_type": "code",
   "execution_count": 28,
   "id": "20158a02",
   "metadata": {
    "execution": {
     "iopub.execute_input": "2024-12-16T13:02:43.463321Z",
     "iopub.status.busy": "2024-12-16T13:02:43.462484Z",
     "iopub.status.idle": "2024-12-16T13:02:43.473521Z",
     "shell.execute_reply": "2024-12-16T13:02:43.472330Z"
    },
    "papermill": {
     "duration": 0.036871,
     "end_time": "2024-12-16T13:02:43.475898",
     "exception": false,
     "start_time": "2024-12-16T13:02:43.439027",
     "status": "completed"
    },
    "tags": []
   },
   "outputs": [
    {
     "data": {
      "text/plain": [
       "89648"
      ]
     },
     "execution_count": 28,
     "metadata": {},
     "output_type": "execute_result"
    }
   ],
   "source": [
    "train_df['Balance_is_zero'] = np.where(train_df['Balance'] == 0, 1, 0)\n",
    "train_df['Balance_is_zero'].sum()"
   ]
  },
  {
   "cell_type": "markdown",
   "id": "e00112b9",
   "metadata": {
    "papermill": {
     "duration": 0.02192,
     "end_time": "2024-12-16T13:02:43.519358",
     "exception": false,
     "start_time": "2024-12-16T13:02:43.497438",
     "status": "completed"
    },
    "tags": []
   },
   "source": [
    "＜考察＞\n",
    "* 残高ゼロのフラグを付けても、重要度がかなり低く精度改善にならなかった。元のカラムで説明がついていそう。"
   ]
  },
  {
   "cell_type": "code",
   "execution_count": 29,
   "id": "474ee2ab",
   "metadata": {
    "execution": {
     "iopub.execute_input": "2024-12-16T13:02:43.566777Z",
     "iopub.status.busy": "2024-12-16T13:02:43.566318Z",
     "iopub.status.idle": "2024-12-16T13:02:43.915171Z",
     "shell.execute_reply": "2024-12-16T13:02:43.913890Z"
    },
    "papermill": {
     "duration": 0.374891,
     "end_time": "2024-12-16T13:02:43.917444",
     "exception": false,
     "start_time": "2024-12-16T13:02:43.542553",
     "status": "completed"
    },
    "tags": []
   },
   "outputs": [
    {
     "data": {
      "image/png": "[encoded data removed]",
      "text/plain": [
       "<Figure size 1200x600 with 1 Axes>"
      ]
     },
     "metadata": {},
     "output_type": "display_data"
    }
   ],
   "source": [
    "train_df['Balance_per_NumOfProducts'] = train_df['Balance'] / train_df['NumOfProducts']\n",
    "test_df['Balance_per_NumOfProducts'] = test_df['Balance'] / test_df['NumOfProducts']\n",
    "plot_histograms(train_df, 'Balance_per_NumOfProducts', bins=20)"
   ]
  },
  {
   "cell_type": "code",
   "execution_count": 30,
   "id": "163fe535",
   "metadata": {
    "execution": {
     "iopub.execute_input": "2024-12-16T13:02:43.964176Z",
     "iopub.status.busy": "2024-12-16T13:02:43.963545Z",
     "iopub.status.idle": "2024-12-16T13:02:44.235481Z",
     "shell.execute_reply": "2024-12-16T13:02:44.234436Z"
    },
    "papermill": {
     "duration": 0.298086,
     "end_time": "2024-12-16T13:02:44.237739",
     "exception": false,
     "start_time": "2024-12-16T13:02:43.939653",
     "status": "completed"
    },
    "tags": []
   },
   "outputs": [
    {
     "data": {
      "image/png": "[encoded data removed]",
      "text/plain": [
       "<Figure size 800x600 with 1 Axes>"
      ]
     },
     "metadata": {},
     "output_type": "display_data"
    }
   ],
   "source": [
    "# HasCrCard\n",
    "barplots(train_df, 'HasCrCard')"
   ]
  },
  {
   "cell_type": "code",
   "execution_count": 31,
   "id": "86c95dee",
   "metadata": {
    "execution": {
     "iopub.execute_input": "2024-12-16T13:02:44.286060Z",
     "iopub.status.busy": "2024-12-16T13:02:44.285609Z",
     "iopub.status.idle": "2024-12-16T13:02:44.327572Z",
     "shell.execute_reply": "2024-12-16T13:02:44.326363Z"
    },
    "papermill": {
     "duration": 0.068808,
     "end_time": "2024-12-16T13:02:44.329930",
     "exception": false,
     "start_time": "2024-12-16T13:02:44.261122",
     "status": "completed"
    },
    "tags": []
   },
   "outputs": [
    {
     "data": {
      "text/html": [
       "<div>\n",
       "<style scoped>\n",
       "    .dataframe tbody tr th:only-of-type {\n",
       "        vertical-align: middle;\n",
       "    }\n",
       "\n",
       "    .dataframe tbody tr th {\n",
       "        vertical-align: top;\n",
       "    }\n",
       "\n",
       "    .dataframe thead th {\n",
       "        text-align: right;\n",
       "    }\n",
       "</style>\n",
       "<table border=\"1\" class=\"dataframe\">\n",
       "  <thead>\n",
       "    <tr style=\"text-align: right;\">\n",
       "      <th>Exited</th>\n",
       "      <th>0</th>\n",
       "      <th>1</th>\n",
       "      <th>Exited_1_ratio</th>\n",
       "    </tr>\n",
       "    <tr>\n",
       "      <th>HasCrCard</th>\n",
       "      <th></th>\n",
       "      <th></th>\n",
       "      <th></th>\n",
       "    </tr>\n",
       "  </thead>\n",
       "  <tbody>\n",
       "    <tr>\n",
       "      <th>0</th>\n",
       "      <td>31371</td>\n",
       "      <td>9235</td>\n",
       "      <td>0.227429</td>\n",
       "    </tr>\n",
       "    <tr>\n",
       "      <th>1</th>\n",
       "      <td>98742</td>\n",
       "      <td>25686</td>\n",
       "      <td>0.206433</td>\n",
       "    </tr>\n",
       "  </tbody>\n",
       "</table>\n",
       "</div>"
      ],
      "text/plain": [
       "Exited         0      1  Exited_1_ratio\n",
       "HasCrCard                              \n",
       "0          31371   9235        0.227429\n",
       "1          98742  25686        0.206433"
      ]
     },
     "execution_count": 31,
     "metadata": {},
     "output_type": "execute_result"
    }
   ],
   "source": [
    "train_df['HasCrCard'] = train_df['HasCrCard'].astype(int)\n",
    "test_df['HasCrCard'] = test_df['HasCrCard'].astype(int)\n",
    "\n",
    "crosstab_HasCrCard = pd.crosstab(train_df['HasCrCard'], train_df['Exited'])\n",
    "crosstab_HasCrCard['Exited_1_ratio'] = crosstab_HasCrCard[1] / (crosstab_HasCrCard[0] + crosstab_HasCrCard[1])\n",
    "crosstab_HasCrCard"
   ]
  },
  {
   "cell_type": "markdown",
   "id": "6ffb3e35",
   "metadata": {
    "papermill": {
     "duration": 0.023282,
     "end_time": "2024-12-16T13:02:44.376020",
     "exception": false,
     "start_time": "2024-12-16T13:02:44.352738",
     "status": "completed"
    },
    "tags": []
   },
   "source": [
    "＜考察＞\n",
    "* 若干の違いあり。特徴量に入れつつ確認する。"
   ]
  },
  {
   "cell_type": "code",
   "execution_count": 32,
   "id": "de82f3fd",
   "metadata": {
    "execution": {
     "iopub.execute_input": "2024-12-16T13:02:44.423636Z",
     "iopub.status.busy": "2024-12-16T13:02:44.423180Z",
     "iopub.status.idle": "2024-12-16T13:02:44.643822Z",
     "shell.execute_reply": "2024-12-16T13:02:44.642582Z"
    },
    "papermill": {
     "duration": 0.247682,
     "end_time": "2024-12-16T13:02:44.646422",
     "exception": false,
     "start_time": "2024-12-16T13:02:44.398740",
     "status": "completed"
    },
    "tags": []
   },
   "outputs": [
    {
     "data": {
      "image/png": "[encoded data removed]",
      "text/plain": [
       "<Figure size 800x600 with 1 Axes>"
      ]
     },
     "metadata": {},
     "output_type": "display_data"
    }
   ],
   "source": [
    "# IsActiveMember\n",
    "barplots(train_df, 'IsActiveMember')"
   ]
  },
  {
   "cell_type": "code",
   "execution_count": 33,
   "id": "9e327da1",
   "metadata": {
    "execution": {
     "iopub.execute_input": "2024-12-16T13:02:44.696383Z",
     "iopub.status.busy": "2024-12-16T13:02:44.695924Z",
     "iopub.status.idle": "2024-12-16T13:02:44.733316Z",
     "shell.execute_reply": "2024-12-16T13:02:44.732021Z"
    },
    "papermill": {
     "duration": 0.064983,
     "end_time": "2024-12-16T13:02:44.735775",
     "exception": false,
     "start_time": "2024-12-16T13:02:44.670792",
     "status": "completed"
    },
    "tags": []
   },
   "outputs": [
    {
     "data": {
      "text/html": [
       "<div>\n",
       "<style scoped>\n",
       "    .dataframe tbody tr th:only-of-type {\n",
       "        vertical-align: middle;\n",
       "    }\n",
       "\n",
       "    .dataframe tbody tr th {\n",
       "        vertical-align: top;\n",
       "    }\n",
       "\n",
       "    .dataframe thead th {\n",
       "        text-align: right;\n",
       "    }\n",
       "</style>\n",
       "<table border=\"1\" class=\"dataframe\">\n",
       "  <thead>\n",
       "    <tr style=\"text-align: right;\">\n",
       "      <th>Exited</th>\n",
       "      <th>0</th>\n",
       "      <th>1</th>\n",
       "      <th>Exited_1_ratio</th>\n",
       "    </tr>\n",
       "    <tr>\n",
       "      <th>IsActiveMember</th>\n",
       "      <th></th>\n",
       "      <th></th>\n",
       "      <th></th>\n",
       "    </tr>\n",
       "  </thead>\n",
       "  <tbody>\n",
       "    <tr>\n",
       "      <th>0</th>\n",
       "      <td>58261</td>\n",
       "      <td>24624</td>\n",
       "      <td>0.297086</td>\n",
       "    </tr>\n",
       "    <tr>\n",
       "      <th>1</th>\n",
       "      <td>71852</td>\n",
       "      <td>10297</td>\n",
       "      <td>0.125345</td>\n",
       "    </tr>\n",
       "  </tbody>\n",
       "</table>\n",
       "</div>"
      ],
      "text/plain": [
       "Exited              0      1  Exited_1_ratio\n",
       "IsActiveMember                              \n",
       "0               58261  24624        0.297086\n",
       "1               71852  10297        0.125345"
      ]
     },
     "execution_count": 33,
     "metadata": {},
     "output_type": "execute_result"
    }
   ],
   "source": [
    "train_df['IsActiveMember'] = train_df['IsActiveMember'].astype(int)\n",
    "test_df['IsActiveMember'] = test_df['IsActiveMember'].astype(int)\n",
    "\n",
    "crosstab_IsActiveMember = pd.crosstab(train_df['IsActiveMember'], train_df['Exited'])\n",
    "crosstab_IsActiveMember['Exited_1_ratio'] = crosstab_IsActiveMember[1] / (crosstab_IsActiveMember[0] + crosstab_IsActiveMember[1])\n",
    "crosstab_IsActiveMember"
   ]
  },
  {
   "cell_type": "markdown",
   "id": "ad6ab453",
   "metadata": {
    "papermill": {
     "duration": 0.023572,
     "end_time": "2024-12-16T13:02:44.783387",
     "exception": false,
     "start_time": "2024-12-16T13:02:44.759815",
     "status": "completed"
    },
    "tags": []
   },
   "source": [
    "＜考察＞\n",
    "* 会員状態がアクティブになっていない人ほど解約率が高い。\n",
    "* 会員で残高が０の場合はどうなるのか。"
   ]
  },
  {
   "cell_type": "code",
   "execution_count": 34,
   "id": "7f42711b",
   "metadata": {
    "execution": {
     "iopub.execute_input": "2024-12-16T13:02:44.834479Z",
     "iopub.status.busy": "2024-12-16T13:02:44.834058Z",
     "iopub.status.idle": "2024-12-16T13:02:45.437171Z",
     "shell.execute_reply": "2024-12-16T13:02:45.435952Z"
    },
    "papermill": {
     "duration": 0.631862,
     "end_time": "2024-12-16T13:02:45.439407",
     "exception": false,
     "start_time": "2024-12-16T13:02:44.807545",
     "status": "completed"
    },
    "tags": []
   },
   "outputs": [
    {
     "data": {
      "image/png": "[encoded data removed]",
      "text/plain": [
       "<Figure size 1200x600 with 1 Axes>"
      ]
     },
     "metadata": {},
     "output_type": "display_data"
    }
   ],
   "source": [
    "# EstimatedSalary\n",
    "plot_histograms(train_df, 'EstimatedSalary', bins=50)"
   ]
  },
  {
   "cell_type": "markdown",
   "id": "6b85a377",
   "metadata": {
    "papermill": {
     "duration": 0.024799,
     "end_time": "2024-12-16T13:02:45.489841",
     "exception": false,
     "start_time": "2024-12-16T13:02:45.465042",
     "status": "completed"
    },
    "tags": []
   },
   "source": [
    "＜考察＞\n",
    "* 特徴的にはまばらになっている。\n",
    "* サラリーに占める貯金額でメイン口座かどうかを把握できそう。サブだと解約率が高そう。"
   ]
  },
  {
   "cell_type": "code",
   "execution_count": 35,
   "id": "ed53ed17",
   "metadata": {
    "execution": {
     "iopub.execute_input": "2024-12-16T13:02:45.542028Z",
     "iopub.status.busy": "2024-12-16T13:02:45.541612Z",
     "iopub.status.idle": "2024-12-16T13:02:45.549309Z",
     "shell.execute_reply": "2024-12-16T13:02:45.548059Z"
    },
    "papermill": {
     "duration": 0.037279,
     "end_time": "2024-12-16T13:02:45.551749",
     "exception": false,
     "start_time": "2024-12-16T13:02:45.514470",
     "status": "completed"
    },
    "tags": []
   },
   "outputs": [],
   "source": [
    "train_df['Balance_per_salaly'] = train_df['Balance'] / train_df['EstimatedSalary']"
   ]
  },
  {
   "cell_type": "code",
   "execution_count": 36,
   "id": "e3ccf118",
   "metadata": {
    "execution": {
     "iopub.execute_input": "2024-12-16T13:02:45.603105Z",
     "iopub.status.busy": "2024-12-16T13:02:45.602690Z",
     "iopub.status.idle": "2024-12-16T13:02:46.191713Z",
     "shell.execute_reply": "2024-12-16T13:02:46.190583Z"
    },
    "papermill": {
     "duration": 0.618111,
     "end_time": "2024-12-16T13:02:46.194275",
     "exception": false,
     "start_time": "2024-12-16T13:02:45.576164",
     "status": "completed"
    },
    "tags": []
   },
   "outputs": [
    {
     "data": {
      "image/png": "[encoded data removed]",
      "text/plain": [
       "<Figure size 1200x600 with 1 Axes>"
      ]
     },
     "metadata": {},
     "output_type": "display_data"
    }
   ],
   "source": [
    "plot_histograms(train_df, 'Balance_per_salaly', bins=50)"
   ]
  },
  {
   "cell_type": "code",
   "execution_count": 37,
   "id": "9195e074",
   "metadata": {
    "execution": {
     "iopub.execute_input": "2024-12-16T13:02:46.245808Z",
     "iopub.status.busy": "2024-12-16T13:02:46.245437Z",
     "iopub.status.idle": "2024-12-16T13:02:46.253818Z",
     "shell.execute_reply": "2024-12-16T13:02:46.252712Z"
    },
    "papermill": {
     "duration": 0.036693,
     "end_time": "2024-12-16T13:02:46.255924",
     "exception": false,
     "start_time": "2024-12-16T13:02:46.219231",
     "status": "completed"
    },
    "tags": []
   },
   "outputs": [
    {
     "data": {
      "text/plain": [
       "12863.797"
      ]
     },
     "execution_count": 37,
     "metadata": {},
     "output_type": "execute_result"
    }
   ],
   "source": [
    "train_df['Balance_per_salaly'].max()"
   ]
  },
  {
   "cell_type": "markdown",
   "id": "be0bda82",
   "metadata": {
    "papermill": {
     "duration": 0.025839,
     "end_time": "2024-12-16T13:02:46.306768",
     "exception": false,
     "start_time": "2024-12-16T13:02:46.280929",
     "status": "completed"
    },
    "tags": []
   },
   "source": [
    "# モデル用データセット"
   ]
  },
  {
   "cell_type": "code",
   "execution_count": 38,
   "id": "567953c4",
   "metadata": {
    "execution": {
     "iopub.execute_input": "2024-12-16T13:02:46.360917Z",
     "iopub.status.busy": "2024-12-16T13:02:46.360492Z",
     "iopub.status.idle": "2024-12-16T13:02:46.372640Z",
     "shell.execute_reply": "2024-12-16T13:02:46.371521Z"
    },
    "papermill": {
     "duration": 0.041786,
     "end_time": "2024-12-16T13:02:46.375217",
     "exception": false,
     "start_time": "2024-12-16T13:02:46.333431",
     "status": "completed"
    },
    "tags": []
   },
   "outputs": [],
   "source": [
    "features = ['Gender', 'Age', 'NumOfProducts', 'Geography', 'HasCrCard', 'IsActiveMember', 'Tenure', 'EstimatedSalary', 'CreditScore', 'Age_group', 'Age_for_account_opening_group', 'Balance_per_NumOfProducts']\n",
    "x_train = train_df[features]\n",
    "y_train = train_df['Exited']"
   ]
  },
  {
   "cell_type": "code",
   "execution_count": 39,
   "id": "e501da66",
   "metadata": {
    "execution": {
     "iopub.execute_input": "2024-12-16T13:02:46.427756Z",
     "iopub.status.busy": "2024-12-16T13:02:46.427333Z",
     "iopub.status.idle": "2024-12-16T13:02:46.513582Z",
     "shell.execute_reply": "2024-12-16T13:02:46.512303Z"
    },
    "jupyter": {
     "source_hidden": true
    },
    "papermill": {
     "duration": 0.115463,
     "end_time": "2024-12-16T13:02:46.516025",
     "exception": false,
     "start_time": "2024-12-16T13:02:46.400562",
     "status": "completed"
    },
    "tags": []
   },
   "outputs": [
    {
     "name": "stdout",
     "output_type": "stream",
     "text": [
      "(132027, 12)\n",
      "(132027,)\n"
     ]
    }
   ],
   "source": [
    "x_tr, x_va, y_tr, y_va = train_test_split(\n",
    "    x_train,\n",
    "    y_train,\n",
    "    shuffle=True,\n",
    "    test_size=0.2,\n",
    "    stratify=y_train,\n",
    "    random_state=123\n",
    ")\n",
    "\n",
    "print(x_tr.shape)  # 特徴量の形状を確認\n",
    "print(y_tr.shape)  # ターゲットの形状を確認"
   ]
  },
  {
   "cell_type": "markdown",
   "id": "f43296f7",
   "metadata": {
    "papermill": {
     "duration": 0.024623,
     "end_time": "2024-12-16T13:02:46.566364",
     "exception": false,
     "start_time": "2024-12-16T13:02:46.541741",
     "status": "completed"
    },
    "tags": []
   },
   "source": [
    "# モデル試作"
   ]
  },
  {
   "cell_type": "code",
   "execution_count": 40,
   "id": "d3db9b4f",
   "metadata": {
    "execution": {
     "iopub.execute_input": "2024-12-16T13:02:46.618785Z",
     "iopub.status.busy": "2024-12-16T13:02:46.617789Z",
     "iopub.status.idle": "2024-12-16T13:02:46.623936Z",
     "shell.execute_reply": "2024-12-16T13:02:46.622672Z"
    },
    "papermill": {
     "duration": 0.035095,
     "end_time": "2024-12-16T13:02:46.626132",
     "exception": false,
     "start_time": "2024-12-16T13:02:46.591037",
     "status": "completed"
    },
    "tags": []
   },
   "outputs": [],
   "source": [
    "params = {\n",
    "    'boosting_type': 'gbdt',\n",
    "    'objective': 'binary',\n",
    "    'metric': 'auc',\n",
    "    'learning_rate': 0.05,\n",
    "    'random_state': 123,\n",
    "    'num_leaves': 16,\n",
    "    'n_estimators': 1000,\n",
    "    'importance_type': 'gain',\n",
    "    'verbose': 1,\n",
    "    'min_data_in_leaf': 100,\n",
    "    'max_depth': 5,\n",
    "    'lambda_l1': 0.1,    \n",
    "    'lambda_l2': 0.5,\n",
    "    'feature_fraction': 0.6, \n",
    "    'bagging_fraction': 0.6, \n",
    "    'bagging_freq': 4,\n",
    "}"
   ]
  },
  {
   "cell_type": "code",
   "execution_count": 41,
   "id": "3e676ac1",
   "metadata": {
    "execution": {
     "iopub.execute_input": "2024-12-16T13:02:46.678282Z",
     "iopub.status.busy": "2024-12-16T13:02:46.677838Z",
     "iopub.status.idle": "2024-12-16T13:02:58.620405Z",
     "shell.execute_reply": "2024-12-16T13:02:58.619223Z"
    },
    "jupyter": {
     "source_hidden": true
    },
    "papermill": {
     "duration": 11.971749,
     "end_time": "2024-12-16T13:02:58.623066",
     "exception": false,
     "start_time": "2024-12-16T13:02:46.651317",
     "status": "completed"
    },
    "tags": []
   },
   "outputs": [
    {
     "name": "stdout",
     "output_type": "stream",
     "text": [
      "[LightGBM] [Warning] bagging_freq is set=4, subsample_freq=0 will be ignored. Current value: bagging_freq=4\n",
      "[LightGBM] [Warning] min_data_in_leaf is set=100, min_child_samples=20 will be ignored. Current value: min_data_in_leaf=100\n",
      "[LightGBM] [Warning] feature_fraction is set=0.6, colsample_bytree=1.0 will be ignored. Current value: feature_fraction=0.6\n",
      "[LightGBM] [Warning] lambda_l2 is set=0.5, reg_lambda=0.0 will be ignored. Current value: lambda_l2=0.5\n",
      "[LightGBM] [Warning] lambda_l1 is set=0.1, reg_alpha=0.0 will be ignored. Current value: lambda_l1=0.1\n",
      "[LightGBM] [Warning] bagging_fraction is set=0.6, subsample=1.0 will be ignored. Current value: bagging_fraction=0.6\n",
      "[LightGBM] [Warning] bagging_freq is set=4, subsample_freq=0 will be ignored. Current value: bagging_freq=4\n",
      "[LightGBM] [Warning] min_data_in_leaf is set=100, min_child_samples=20 will be ignored. Current value: min_data_in_leaf=100\n",
      "[LightGBM] [Warning] feature_fraction is set=0.6, colsample_bytree=1.0 will be ignored. Current value: feature_fraction=0.6\n",
      "[LightGBM] [Warning] lambda_l2 is set=0.5, reg_lambda=0.0 will be ignored. Current value: lambda_l2=0.5\n",
      "[LightGBM] [Warning] lambda_l1 is set=0.1, reg_alpha=0.0 will be ignored. Current value: lambda_l1=0.1\n",
      "[LightGBM] [Warning] bagging_fraction is set=0.6, subsample=1.0 will be ignored. Current value: bagging_fraction=0.6\n",
      "[LightGBM] [Info] Number of positive: 27937, number of negative: 104090\n",
      "[LightGBM] [Info] Auto-choosing row-wise multi-threading, the overhead of testing was 0.005115 seconds.\n",
      "You can set `force_row_wise=true` to remove the overhead.\n",
      "And if memory is not enough, you can set `force_col_wise=true`.\n",
      "[LightGBM] [Info] Total Bins 876\n",
      "[LightGBM] [Info] Number of data points in the train set: 132027, number of used features: 12\n",
      "[LightGBM] [Warning] bagging_freq is set=4, subsample_freq=0 will be ignored. Current value: bagging_freq=4\n",
      "[LightGBM] [Warning] min_data_in_leaf is set=100, min_child_samples=20 will be ignored. Current value: min_data_in_leaf=100\n",
      "[LightGBM] [Warning] feature_fraction is set=0.6, colsample_bytree=1.0 will be ignored. Current value: feature_fraction=0.6\n",
      "[LightGBM] [Warning] lambda_l2 is set=0.5, reg_lambda=0.0 will be ignored. Current value: lambda_l2=0.5\n",
      "[LightGBM] [Warning] lambda_l1 is set=0.1, reg_alpha=0.0 will be ignored. Current value: lambda_l1=0.1\n",
      "[LightGBM] [Warning] bagging_fraction is set=0.6, subsample=1.0 will be ignored. Current value: bagging_fraction=0.6\n",
      "[LightGBM] [Info] [binary:BoostFromScore]: pavg=0.211601 -> initscore=-1.315304\n",
      "[LightGBM] [Info] Start training from score -1.315304\n",
      "Training until validation scores don't improve for 100 rounds\n",
      "[100]\ttraining's auc: 0.890064\tvalid_1's auc: 0.886384\n",
      "[LightGBM] [Warning] No further splits with positive gain, best gain: -inf\n",
      "[LightGBM] [Warning] No further splits with positive gain, best gain: -inf\n",
      "[LightGBM] [Warning] No further splits with positive gain, best gain: -inf\n",
      "[LightGBM] [Warning] No further splits with positive gain, best gain: -inf\n",
      "[LightGBM] [Warning] No further splits with positive gain, best gain: -inf\n",
      "[200]\ttraining's auc: 0.892828\tvalid_1's auc: 0.887767\n",
      "[LightGBM] [Warning] No further splits with positive gain, best gain: -inf\n",
      "[LightGBM] [Warning] No further splits with positive gain, best gain: -inf\n",
      "[LightGBM] [Warning] No further splits with positive gain, best gain: -inf\n",
      "[LightGBM] [Warning] No further splits with positive gain, best gain: -inf\n",
      "[LightGBM] [Warning] No further splits with positive gain, best gain: -inf\n",
      "[LightGBM] [Warning] No further splits with positive gain, best gain: -inf\n",
      "[300]\ttraining's auc: 0.894545\tvalid_1's auc: 0.888429\n",
      "[LightGBM] [Warning] No further splits with positive gain, best gain: -inf\n",
      "[LightGBM] [Warning] No further splits with positive gain, best gain: -inf\n",
      "[LightGBM] [Warning] No further splits with positive gain, best gain: -inf\n",
      "[LightGBM] [Warning] No further splits with positive gain, best gain: -inf\n",
      "[LightGBM] [Warning] No further splits with positive gain, best gain: -inf\n",
      "[LightGBM] [Warning] No further splits with positive gain, best gain: -inf\n",
      "[400]\ttraining's auc: 0.896002\tvalid_1's auc: 0.888589\n",
      "[LightGBM] [Warning] No further splits with positive gain, best gain: -inf\n",
      "[LightGBM] [Warning] No further splits with positive gain, best gain: -inf\n",
      "[LightGBM] [Warning] No further splits with positive gain, best gain: -inf\n",
      "[LightGBM] [Warning] No further splits with positive gain, best gain: -inf\n",
      "[LightGBM] [Warning] No further splits with positive gain, best gain: -inf\n",
      "[LightGBM] [Warning] No further splits with positive gain, best gain: -inf\n",
      "[LightGBM] [Warning] No further splits with positive gain, best gain: -inf\n",
      "[500]\ttraining's auc: 0.897292\tvalid_1's auc: 0.888547\n",
      "[LightGBM] [Warning] No further splits with positive gain, best gain: -inf\n",
      "[LightGBM] [Warning] No further splits with positive gain, best gain: -inf\n",
      "[LightGBM] [Warning] No further splits with positive gain, best gain: -inf\n",
      "Early stopping, best iteration is:\n",
      "[428]\ttraining's auc: 0.896375\tvalid_1's auc: 0.888617\n"
     ]
    },
    {
     "data": {
      "text/html": [
       "<style>#sk-container-id-1 {color: black;background-color: white;}#sk-container-id-1 pre{padding: 0;}#sk-container-id-1 div.sk-toggleable {background-color: white;}#sk-container-id-1 label.sk-toggleable__label {cursor: pointer;display: block;width: 100%;margin-bottom: 0;padding: 0.3em;box-sizing: border-box;text-align: center;}#sk-container-id-1 label.sk-toggleable__label-arrow:before {content: \"▸\";float: left;margin-right: 0.25em;color: #696969;}#sk-container-id-1 label.sk-toggleable__label-arrow:hover:before {color: black;}#sk-container-id-1 div.sk-estimator:hover label.sk-toggleable__label-arrow:before {color: black;}#sk-container-id-1 div.sk-toggleable__content {max-height: 0;max-width: 0;overflow: hidden;text-align: left;background-color: #f0f8ff;}#sk-container-id-1 div.sk-toggleable__content pre {margin: 0.2em;color: black;border-radius: 0.25em;background-color: #f0f8ff;}#sk-container-id-1 input.sk-toggleable__control:checked~div.sk-toggleable__content {max-height: 200px;max-width: 100%;overflow: auto;}#sk-container-id-1 input.sk-toggleable__control:checked~label.sk-toggleable__label-arrow:before {content: \"▾\";}#sk-container-id-1 div.sk-estimator input.sk-toggleable__control:checked~label.sk-toggleable__label {background-color: #d4ebff;}#sk-container-id-1 div.sk-label input.sk-toggleable__control:checked~label.sk-toggleable__label {background-color: #d4ebff;}#sk-container-id-1 input.sk-hidden--visually {border: 0;clip: rect(1px 1px 1px 1px);clip: rect(1px, 1px, 1px, 1px);height: 1px;margin: -1px;overflow: hidden;padding: 0;position: absolute;width: 1px;}#sk-container-id-1 div.sk-estimator {font-family: monospace;background-color: #f0f8ff;border: 1px dotted black;border-radius: 0.25em;box-sizing: border-box;margin-bottom: 0.5em;}#sk-container-id-1 div.sk-estimator:hover {background-color: #d4ebff;}#sk-container-id-1 div.sk-parallel-item::after {content: \"\";width: 100%;border-bottom: 1px solid gray;flex-grow: 1;}#sk-container-id-1 div.sk-label:hover label.sk-toggleable__label {background-color: #d4ebff;}#sk-container-id-1 div.sk-serial::before {content: \"\";position: absolute;border-left: 1px solid gray;box-sizing: border-box;top: 0;bottom: 0;left: 50%;z-index: 0;}#sk-container-id-1 div.sk-serial {display: flex;flex-direction: column;align-items: center;background-color: white;padding-right: 0.2em;padding-left: 0.2em;position: relative;}#sk-container-id-1 div.sk-item {position: relative;z-index: 1;}#sk-container-id-1 div.sk-parallel {display: flex;align-items: stretch;justify-content: center;background-color: white;position: relative;}#sk-container-id-1 div.sk-item::before, #sk-container-id-1 div.sk-parallel-item::before {content: \"\";position: absolute;border-left: 1px solid gray;box-sizing: border-box;top: 0;bottom: 0;left: 50%;z-index: -1;}#sk-container-id-1 div.sk-parallel-item {display: flex;flex-direction: column;z-index: 1;position: relative;background-color: white;}#sk-container-id-1 div.sk-parallel-item:first-child::after {align-self: flex-end;width: 50%;}#sk-container-id-1 div.sk-parallel-item:last-child::after {align-self: flex-start;width: 50%;}#sk-container-id-1 div.sk-parallel-item:only-child::after {width: 0;}#sk-container-id-1 div.sk-dashed-wrapped {border: 1px dashed gray;margin: 0 0.4em 0.5em 0.4em;box-sizing: border-box;padding-bottom: 0.4em;background-color: white;}#sk-container-id-1 div.sk-label label {font-family: monospace;font-weight: bold;display: inline-block;line-height: 1.2em;}#sk-container-id-1 div.sk-label-container {text-align: center;}#sk-container-id-1 div.sk-container {/* jupyter's `normalize.less` sets `[hidden] { display: none; }` but bootstrap.min.css set `[hidden] { display: none !important; }` so we also need the `!important` here to be able to override the default hidden behavior on the sphinx rendered scikit-learn.org. See: https://github.com/scikit-learn/scikit-learn/issues/21755 */display: inline-block !important;position: relative;}#sk-container-id-1 div.sk-text-repr-fallback {display: none;}</style><div id=\"sk-container-id-1\" class=\"sk-top-container\"><div class=\"sk-text-repr-fallback\"><pre>LGBMClassifier(bagging_fraction=0.6, bagging_freq=4, feature_fraction=0.6,\n",
       "               importance_type=&#x27;gain&#x27;, lambda_l1=0.1, lambda_l2=0.5,\n",
       "               learning_rate=0.05, max_depth=5, metric=&#x27;auc&#x27;,\n",
       "               min_data_in_leaf=100, n_estimators=1000, num_leaves=16,\n",
       "               objective=&#x27;binary&#x27;, random_state=123, verbose=1)</pre><b>In a Jupyter environment, please rerun this cell to show the HTML representation or trust the notebook. <br />On GitHub, the HTML representation is unable to render, please try loading this page with nbviewer.org.</b></div><div class=\"sk-container\" hidden><div class=\"sk-item\"><div class=\"sk-estimator sk-toggleable\"><input class=\"sk-toggleable__control sk-hidden--visually\" id=\"sk-estimator-id-1\" type=\"checkbox\" checked><label for=\"sk-estimator-id-1\" class=\"sk-toggleable__label sk-toggleable__label-arrow\">LGBMClassifier</label><div class=\"sk-toggleable__content\"><pre>LGBMClassifier(bagging_fraction=0.6, bagging_freq=4, feature_fraction=0.6,\n",
       "               importance_type=&#x27;gain&#x27;, lambda_l1=0.1, lambda_l2=0.5,\n",
       "               learning_rate=0.05, max_depth=5, metric=&#x27;auc&#x27;,\n",
       "               min_data_in_leaf=100, n_estimators=1000, num_leaves=16,\n",
       "               objective=&#x27;binary&#x27;, random_state=123, verbose=1)</pre></div></div></div></div></div>"
      ],
      "text/plain": [
       "LGBMClassifier(bagging_fraction=0.6, bagging_freq=4, feature_fraction=0.6,\n",
       "               importance_type='gain', lambda_l1=0.1, lambda_l2=0.5,\n",
       "               learning_rate=0.05, max_depth=5, metric='auc',\n",
       "               min_data_in_leaf=100, n_estimators=1000, num_leaves=16,\n",
       "               objective='binary', random_state=123, verbose=1)"
      ]
     },
     "execution_count": 41,
     "metadata": {},
     "output_type": "execute_result"
    }
   ],
   "source": [
    "model = lgb.LGBMClassifier(**params)\n",
    "model.fit(\n",
    "    x_tr, y_tr,\n",
    "    eval_set= [(x_tr, y_tr), (x_va, y_va)],\n",
    "    callbacks=[\n",
    "        lgb.callback.early_stopping(stopping_rounds=100),\n",
    "        lgb.callback.log_evaluation(period=100)\n",
    "    ]\n",
    ")"
   ]
  },
  {
   "cell_type": "code",
   "execution_count": 42,
   "id": "e524a973",
   "metadata": {
    "execution": {
     "iopub.execute_input": "2024-12-16T13:02:58.677918Z",
     "iopub.status.busy": "2024-12-16T13:02:58.677494Z",
     "iopub.status.idle": "2024-12-16T13:03:03.276018Z",
     "shell.execute_reply": "2024-12-16T13:03:03.274585Z"
    },
    "jupyter": {
     "source_hidden": true
    },
    "papermill": {
     "duration": 4.629072,
     "end_time": "2024-12-16T13:03:03.278693",
     "exception": false,
     "start_time": "2024-12-16T13:02:58.649621",
     "status": "completed"
    },
    "tags": []
   },
   "outputs": [
    {
     "name": "stdout",
     "output_type": "stream",
     "text": [
      "[LightGBM] [Warning] bagging_freq is set=4, subsample_freq=0 will be ignored. Current value: bagging_freq=4\n",
      "[LightGBM] [Warning] min_data_in_leaf is set=100, min_child_samples=20 will be ignored. Current value: min_data_in_leaf=100\n",
      "[LightGBM] [Warning] feature_fraction is set=0.6, colsample_bytree=1.0 will be ignored. Current value: feature_fraction=0.6\n",
      "[LightGBM] [Warning] lambda_l2 is set=0.5, reg_lambda=0.0 will be ignored. Current value: lambda_l2=0.5\n",
      "[LightGBM] [Warning] lambda_l1 is set=0.1, reg_alpha=0.0 will be ignored. Current value: lambda_l1=0.1\n",
      "[LightGBM] [Warning] bagging_fraction is set=0.6, subsample=1.0 will be ignored. Current value: bagging_fraction=0.6\n",
      "[LightGBM] [Warning] bagging_freq is set=4, subsample_freq=0 will be ignored. Current value: bagging_freq=4\n",
      "[LightGBM] [Warning] min_data_in_leaf is set=100, min_child_samples=20 will be ignored. Current value: min_data_in_leaf=100\n",
      "[LightGBM] [Warning] feature_fraction is set=0.6, colsample_bytree=1.0 will be ignored. Current value: feature_fraction=0.6\n",
      "[LightGBM] [Warning] lambda_l2 is set=0.5, reg_lambda=0.0 will be ignored. Current value: lambda_l2=0.5\n",
      "[LightGBM] [Warning] lambda_l1 is set=0.1, reg_alpha=0.0 will be ignored. Current value: lambda_l1=0.1\n",
      "[LightGBM] [Warning] bagging_fraction is set=0.6, subsample=1.0 will be ignored. Current value: bagging_fraction=0.6\n",
      "Tr: 0.8963752238496158\n",
      "Va: 0.8886174448332536\n"
     ]
    }
   ],
   "source": [
    "y_tr_pred = model.predict_proba(x_tr)[:, 1]\n",
    "y_va_pred = model.predict_proba(x_va)[:, 1]\n",
    "\n",
    "metric_tr = roc_auc_score(y_tr, y_tr_pred)\n",
    "metric_va = roc_auc_score(y_va, y_va_pred)\n",
    "\n",
    "print(\"Tr:\", metric_tr)\n",
    "print(\"Va:\", metric_va)"
   ]
  },
  {
   "cell_type": "markdown",
   "id": "e3a84ecf",
   "metadata": {
    "papermill": {
     "duration": 0.02635,
     "end_time": "2024-12-16T13:03:03.333084",
     "exception": false,
     "start_time": "2024-12-16T13:03:03.306734",
     "status": "completed"
    },
    "tags": []
   },
   "source": [
    "# クロスバリデーション"
   ]
  },
  {
   "cell_type": "code",
   "execution_count": 43,
   "id": "9fe3f1d0",
   "metadata": {
    "execution": {
     "iopub.execute_input": "2024-12-16T13:03:03.447594Z",
     "iopub.status.busy": "2024-12-16T13:03:03.447175Z",
     "iopub.status.idle": "2024-12-16T13:05:05.624257Z",
     "shell.execute_reply": "2024-12-16T13:05:05.623110Z"
    },
    "papermill": {
     "duration": 122.240543,
     "end_time": "2024-12-16T13:05:05.659767",
     "exception": false,
     "start_time": "2024-12-16T13:03:03.419224",
     "status": "completed"
    },
    "tags": []
   },
   "outputs": [
    {
     "name": "stdout",
     "output_type": "stream",
     "text": [
      "-------------------- 0 --------------------\n",
      "[LightGBM] [Warning] bagging_freq is set=4, subsample_freq=0 will be ignored. Current value: bagging_freq=4\n",
      "[LightGBM] [Warning] min_data_in_leaf is set=100, min_child_samples=20 will be ignored. Current value: min_data_in_leaf=100\n",
      "[LightGBM] [Warning] feature_fraction is set=0.6, colsample_bytree=1.0 will be ignored. Current value: feature_fraction=0.6\n",
      "[LightGBM] [Warning] lambda_l2 is set=0.5, reg_lambda=0.0 will be ignored. Current value: lambda_l2=0.5\n",
      "[LightGBM] [Warning] lambda_l1 is set=0.1, reg_alpha=0.0 will be ignored. Current value: lambda_l1=0.1\n",
      "[LightGBM] [Warning] bagging_fraction is set=0.6, subsample=1.0 will be ignored. Current value: bagging_fraction=0.6\n",
      "[LightGBM] [Warning] bagging_freq is set=4, subsample_freq=0 will be ignored. Current value: bagging_freq=4\n",
      "[LightGBM] [Warning] min_data_in_leaf is set=100, min_child_samples=20 will be ignored. Current value: min_data_in_leaf=100\n",
      "[LightGBM] [Warning] feature_fraction is set=0.6, colsample_bytree=1.0 will be ignored. Current value: feature_fraction=0.6\n",
      "[LightGBM] [Warning] lambda_l2 is set=0.5, reg_lambda=0.0 will be ignored. Current value: lambda_l2=0.5\n",
      "[LightGBM] [Warning] lambda_l1 is set=0.1, reg_alpha=0.0 will be ignored. Current value: lambda_l1=0.1\n",
      "[LightGBM] [Warning] bagging_fraction is set=0.6, subsample=1.0 will be ignored. Current value: bagging_fraction=0.6\n",
      "[LightGBM] [Info] Number of positive: 27937, number of negative: 104090\n",
      "[LightGBM] [Info] Auto-choosing row-wise multi-threading, the overhead of testing was 0.003511 seconds.\n",
      "You can set `force_row_wise=true` to remove the overhead.\n",
      "And if memory is not enough, you can set `force_col_wise=true`.\n",
      "[LightGBM] [Info] Total Bins 878\n",
      "[LightGBM] [Info] Number of data points in the train set: 132027, number of used features: 12\n",
      "[LightGBM] [Warning] bagging_freq is set=4, subsample_freq=0 will be ignored. Current value: bagging_freq=4\n",
      "[LightGBM] [Warning] min_data_in_leaf is set=100, min_child_samples=20 will be ignored. Current value: min_data_in_leaf=100\n",
      "[LightGBM] [Warning] feature_fraction is set=0.6, colsample_bytree=1.0 will be ignored. Current value: feature_fraction=0.6\n",
      "[LightGBM] [Warning] lambda_l2 is set=0.5, reg_lambda=0.0 will be ignored. Current value: lambda_l2=0.5\n",
      "[LightGBM] [Warning] lambda_l1 is set=0.1, reg_alpha=0.0 will be ignored. Current value: lambda_l1=0.1\n",
      "[LightGBM] [Warning] bagging_fraction is set=0.6, subsample=1.0 will be ignored. Current value: bagging_fraction=0.6\n",
      "[LightGBM] [Info] [binary:BoostFromScore]: pavg=0.211601 -> initscore=-1.315304\n",
      "[LightGBM] [Info] Start training from score -1.315304\n",
      "Training until validation scores don't improve for 100 rounds\n",
      "[100]\ttraining's auc: 0.890123\tvalid_1's auc: 0.886725\n",
      "[LightGBM] [Warning] No further splits with positive gain, best gain: -inf\n",
      "[LightGBM] [Warning] No further splits with positive gain, best gain: -inf\n",
      "[LightGBM] [Warning] No further splits with positive gain, best gain: -inf\n",
      "[LightGBM] [Warning] No further splits with positive gain, best gain: -inf\n",
      "[LightGBM] [Warning] No further splits with positive gain, best gain: -inf\n",
      "[200]\ttraining's auc: 0.892929\tvalid_1's auc: 0.887969\n",
      "[LightGBM] [Warning] No further splits with positive gain, best gain: -inf\n",
      "[LightGBM] [Warning] No further splits with positive gain, best gain: -inf\n",
      "[LightGBM] [Warning] No further splits with positive gain, best gain: -inf\n",
      "[LightGBM] [Warning] No further splits with positive gain, best gain: -inf\n",
      "[300]\ttraining's auc: 0.894696\tvalid_1's auc: 0.888333\n",
      "[LightGBM] [Warning] No further splits with positive gain, best gain: -inf\n",
      "[LightGBM] [Warning] No further splits with positive gain, best gain: -inf\n",
      "[LightGBM] [Warning] No further splits with positive gain, best gain: -inf\n",
      "[LightGBM] [Warning] No further splits with positive gain, best gain: -inf\n",
      "[LightGBM] [Warning] No further splits with positive gain, best gain: -inf\n",
      "[LightGBM] [Warning] No further splits with positive gain, best gain: -inf\n",
      "[LightGBM] [Warning] No further splits with positive gain, best gain: -inf\n",
      "[LightGBM] [Warning] No further splits with positive gain, best gain: -inf\n",
      "[LightGBM] [Warning] No further splits with positive gain, best gain: -inf\n",
      "[LightGBM] [Warning] No further splits with positive gain, best gain: -inf\n",
      "[400]\ttraining's auc: 0.896163\tvalid_1's auc: 0.88848\n",
      "[LightGBM] [Warning] No further splits with positive gain, best gain: -inf\n",
      "[LightGBM] [Warning] No further splits with positive gain, best gain: -inf\n",
      "[LightGBM] [Warning] No further splits with positive gain, best gain: -inf\n",
      "[LightGBM] [Warning] No further splits with positive gain, best gain: -inf\n",
      "[LightGBM] [Warning] No further splits with positive gain, best gain: -inf\n",
      "Early stopping, best iteration is:\n",
      "[390]\ttraining's auc: 0.896003\tvalid_1's auc: 0.888498\n",
      "[LightGBM] [Warning] bagging_freq is set=4, subsample_freq=0 will be ignored. Current value: bagging_freq=4\n",
      "[LightGBM] [Warning] min_data_in_leaf is set=100, min_child_samples=20 will be ignored. Current value: min_data_in_leaf=100\n",
      "[LightGBM] [Warning] feature_fraction is set=0.6, colsample_bytree=1.0 will be ignored. Current value: feature_fraction=0.6\n",
      "[LightGBM] [Warning] lambda_l2 is set=0.5, reg_lambda=0.0 will be ignored. Current value: lambda_l2=0.5\n",
      "[LightGBM] [Warning] lambda_l1 is set=0.1, reg_alpha=0.0 will be ignored. Current value: lambda_l1=0.1\n",
      "[LightGBM] [Warning] bagging_fraction is set=0.6, subsample=1.0 will be ignored. Current value: bagging_fraction=0.6\n",
      "[LightGBM] [Warning] bagging_freq is set=4, subsample_freq=0 will be ignored. Current value: bagging_freq=4\n",
      "[LightGBM] [Warning] min_data_in_leaf is set=100, min_child_samples=20 will be ignored. Current value: min_data_in_leaf=100\n",
      "[LightGBM] [Warning] feature_fraction is set=0.6, colsample_bytree=1.0 will be ignored. Current value: feature_fraction=0.6\n",
      "[LightGBM] [Warning] lambda_l2 is set=0.5, reg_lambda=0.0 will be ignored. Current value: lambda_l2=0.5\n",
      "[LightGBM] [Warning] lambda_l1 is set=0.1, reg_alpha=0.0 will be ignored. Current value: lambda_l1=0.1\n",
      "[LightGBM] [Warning] bagging_fraction is set=0.6, subsample=1.0 will be ignored. Current value: bagging_fraction=0.6\n",
      "Tr: 0.8960034318945251\n",
      "Va: 0.8884977411602452\n",
      "-------------------- 1 --------------------\n",
      "[LightGBM] [Warning] bagging_freq is set=4, subsample_freq=0 will be ignored. Current value: bagging_freq=4\n",
      "[LightGBM] [Warning] min_data_in_leaf is set=100, min_child_samples=20 will be ignored. Current value: min_data_in_leaf=100\n",
      "[LightGBM] [Warning] feature_fraction is set=0.6, colsample_bytree=1.0 will be ignored. Current value: feature_fraction=0.6\n",
      "[LightGBM] [Warning] lambda_l2 is set=0.5, reg_lambda=0.0 will be ignored. Current value: lambda_l2=0.5\n",
      "[LightGBM] [Warning] lambda_l1 is set=0.1, reg_alpha=0.0 will be ignored. Current value: lambda_l1=0.1\n",
      "[LightGBM] [Warning] bagging_fraction is set=0.6, subsample=1.0 will be ignored. Current value: bagging_fraction=0.6\n",
      "[LightGBM] [Warning] bagging_freq is set=4, subsample_freq=0 will be ignored. Current value: bagging_freq=4\n",
      "[LightGBM] [Warning] min_data_in_leaf is set=100, min_child_samples=20 will be ignored. Current value: min_data_in_leaf=100\n",
      "[LightGBM] [Warning] feature_fraction is set=0.6, colsample_bytree=1.0 will be ignored. Current value: feature_fraction=0.6\n",
      "[LightGBM] [Warning] lambda_l2 is set=0.5, reg_lambda=0.0 will be ignored. Current value: lambda_l2=0.5\n",
      "[LightGBM] [Warning] lambda_l1 is set=0.1, reg_alpha=0.0 will be ignored. Current value: lambda_l1=0.1\n",
      "[LightGBM] [Warning] bagging_fraction is set=0.6, subsample=1.0 will be ignored. Current value: bagging_fraction=0.6\n",
      "[LightGBM] [Info] Number of positive: 27937, number of negative: 104090\n",
      "[LightGBM] [Info] Auto-choosing row-wise multi-threading, the overhead of testing was 0.003765 seconds.\n",
      "You can set `force_row_wise=true` to remove the overhead.\n",
      "And if memory is not enough, you can set `force_col_wise=true`.\n",
      "[LightGBM] [Info] Total Bins 876\n",
      "[LightGBM] [Info] Number of data points in the train set: 132027, number of used features: 12\n",
      "[LightGBM] [Warning] bagging_freq is set=4, subsample_freq=0 will be ignored. Current value: bagging_freq=4\n",
      "[LightGBM] [Warning] min_data_in_leaf is set=100, min_child_samples=20 will be ignored. Current value: min_data_in_leaf=100\n",
      "[LightGBM] [Warning] feature_fraction is set=0.6, colsample_bytree=1.0 will be ignored. Current value: feature_fraction=0.6\n",
      "[LightGBM] [Warning] lambda_l2 is set=0.5, reg_lambda=0.0 will be ignored. Current value: lambda_l2=0.5\n",
      "[LightGBM] [Warning] lambda_l1 is set=0.1, reg_alpha=0.0 will be ignored. Current value: lambda_l1=0.1\n",
      "[LightGBM] [Warning] bagging_fraction is set=0.6, subsample=1.0 will be ignored. Current value: bagging_fraction=0.6\n",
      "[LightGBM] [Info] [binary:BoostFromScore]: pavg=0.211601 -> initscore=-1.315304\n",
      "[LightGBM] [Info] Start training from score -1.315304\n",
      "Training until validation scores don't improve for 100 rounds\n",
      "[100]\ttraining's auc: 0.889292\tvalid_1's auc: 0.889817\n",
      "[LightGBM] [Warning] No further splits with positive gain, best gain: -inf\n",
      "[LightGBM] [Warning] No further splits with positive gain, best gain: -inf\n",
      "[LightGBM] [Warning] No further splits with positive gain, best gain: -inf\n",
      "[LightGBM] [Warning] No further splits with positive gain, best gain: -inf\n",
      "[200]\ttraining's auc: 0.892196\tvalid_1's auc: 0.890686\n",
      "[LightGBM] [Warning] No further splits with positive gain, best gain: -inf\n",
      "[LightGBM] [Warning] No further splits with positive gain, best gain: -inf\n",
      "[LightGBM] [Warning] No further splits with positive gain, best gain: -inf\n",
      "[LightGBM] [Warning] No further splits with positive gain, best gain: -inf\n",
      "[300]\ttraining's auc: 0.89395\tvalid_1's auc: 0.890887\n",
      "[LightGBM] [Warning] No further splits with positive gain, best gain: -inf\n",
      "[LightGBM] [Warning] No further splits with positive gain, best gain: -inf\n",
      "[LightGBM] [Warning] No further splits with positive gain, best gain: -inf\n",
      "[LightGBM] [Warning] No further splits with positive gain, best gain: -inf\n",
      "[400]\ttraining's auc: 0.89548\tvalid_1's auc: 0.890918\n",
      "[LightGBM] [Warning] No further splits with positive gain, best gain: -inf\n",
      "Early stopping, best iteration is:\n",
      "[365]\ttraining's auc: 0.894984\tvalid_1's auc: 0.890955\n",
      "[LightGBM] [Warning] bagging_freq is set=4, subsample_freq=0 will be ignored. Current value: bagging_freq=4\n",
      "[LightGBM] [Warning] min_data_in_leaf is set=100, min_child_samples=20 will be ignored. Current value: min_data_in_leaf=100\n",
      "[LightGBM] [Warning] feature_fraction is set=0.6, colsample_bytree=1.0 will be ignored. Current value: feature_fraction=0.6\n",
      "[LightGBM] [Warning] lambda_l2 is set=0.5, reg_lambda=0.0 will be ignored. Current value: lambda_l2=0.5\n",
      "[LightGBM] [Warning] lambda_l1 is set=0.1, reg_alpha=0.0 will be ignored. Current value: lambda_l1=0.1\n",
      "[LightGBM] [Warning] bagging_fraction is set=0.6, subsample=1.0 will be ignored. Current value: bagging_fraction=0.6\n",
      "[LightGBM] [Warning] bagging_freq is set=4, subsample_freq=0 will be ignored. Current value: bagging_freq=4\n",
      "[LightGBM] [Warning] min_data_in_leaf is set=100, min_child_samples=20 will be ignored. Current value: min_data_in_leaf=100\n",
      "[LightGBM] [Warning] feature_fraction is set=0.6, colsample_bytree=1.0 will be ignored. Current value: feature_fraction=0.6\n",
      "[LightGBM] [Warning] lambda_l2 is set=0.5, reg_lambda=0.0 will be ignored. Current value: lambda_l2=0.5\n",
      "[LightGBM] [Warning] lambda_l1 is set=0.1, reg_alpha=0.0 will be ignored. Current value: lambda_l1=0.1\n",
      "[LightGBM] [Warning] bagging_fraction is set=0.6, subsample=1.0 will be ignored. Current value: bagging_fraction=0.6\n",
      "Tr: 0.8949837866366033\n",
      "Va: 0.8909545785099171\n",
      "-------------------- 2 --------------------\n",
      "[LightGBM] [Warning] bagging_freq is set=4, subsample_freq=0 will be ignored. Current value: bagging_freq=4\n",
      "[LightGBM] [Warning] min_data_in_leaf is set=100, min_child_samples=20 will be ignored. Current value: min_data_in_leaf=100\n",
      "[LightGBM] [Warning] feature_fraction is set=0.6, colsample_bytree=1.0 will be ignored. Current value: feature_fraction=0.6\n",
      "[LightGBM] [Warning] lambda_l2 is set=0.5, reg_lambda=0.0 will be ignored. Current value: lambda_l2=0.5\n",
      "[LightGBM] [Warning] lambda_l1 is set=0.1, reg_alpha=0.0 will be ignored. Current value: lambda_l1=0.1\n",
      "[LightGBM] [Warning] bagging_fraction is set=0.6, subsample=1.0 will be ignored. Current value: bagging_fraction=0.6\n",
      "[LightGBM] [Warning] bagging_freq is set=4, subsample_freq=0 will be ignored. Current value: bagging_freq=4\n",
      "[LightGBM] [Warning] min_data_in_leaf is set=100, min_child_samples=20 will be ignored. Current value: min_data_in_leaf=100\n",
      "[LightGBM] [Warning] feature_fraction is set=0.6, colsample_bytree=1.0 will be ignored. Current value: feature_fraction=0.6\n",
      "[LightGBM] [Warning] lambda_l2 is set=0.5, reg_lambda=0.0 will be ignored. Current value: lambda_l2=0.5\n",
      "[LightGBM] [Warning] lambda_l1 is set=0.1, reg_alpha=0.0 will be ignored. Current value: lambda_l1=0.1\n",
      "[LightGBM] [Warning] bagging_fraction is set=0.6, subsample=1.0 will be ignored. Current value: bagging_fraction=0.6\n",
      "[LightGBM] [Info] Number of positive: 27937, number of negative: 104090\n",
      "[LightGBM] [Info] Auto-choosing row-wise multi-threading, the overhead of testing was 0.003487 seconds.\n",
      "You can set `force_row_wise=true` to remove the overhead.\n",
      "And if memory is not enough, you can set `force_col_wise=true`.\n",
      "[LightGBM] [Info] Total Bins 877\n",
      "[LightGBM] [Info] Number of data points in the train set: 132027, number of used features: 12\n",
      "[LightGBM] [Warning] bagging_freq is set=4, subsample_freq=0 will be ignored. Current value: bagging_freq=4\n",
      "[LightGBM] [Warning] min_data_in_leaf is set=100, min_child_samples=20 will be ignored. Current value: min_data_in_leaf=100\n",
      "[LightGBM] [Warning] feature_fraction is set=0.6, colsample_bytree=1.0 will be ignored. Current value: feature_fraction=0.6\n",
      "[LightGBM] [Warning] lambda_l2 is set=0.5, reg_lambda=0.0 will be ignored. Current value: lambda_l2=0.5\n",
      "[LightGBM] [Warning] lambda_l1 is set=0.1, reg_alpha=0.0 will be ignored. Current value: lambda_l1=0.1\n",
      "[LightGBM] [Warning] bagging_fraction is set=0.6, subsample=1.0 will be ignored. Current value: bagging_fraction=0.6\n",
      "[LightGBM] [Info] [binary:BoostFromScore]: pavg=0.211601 -> initscore=-1.315304\n",
      "[LightGBM] [Info] Start training from score -1.315304\n",
      "Training until validation scores don't improve for 100 rounds\n",
      "[100]\ttraining's auc: 0.889213\tvalid_1's auc: 0.889796\n",
      "[LightGBM] [Warning] No further splits with positive gain, best gain: -inf\n",
      "[200]\ttraining's auc: 0.892067\tvalid_1's auc: 0.891246\n",
      "[LightGBM] [Warning] No further splits with positive gain, best gain: -inf\n",
      "[LightGBM] [Warning] No further splits with positive gain, best gain: -inf\n",
      "[LightGBM] [Warning] No further splits with positive gain, best gain: -inf\n",
      "[300]\ttraining's auc: 0.89384\tvalid_1's auc: 0.891642\n",
      "[LightGBM] [Warning] No further splits with positive gain, best gain: -inf\n",
      "[LightGBM] [Warning] No further splits with positive gain, best gain: -inf\n",
      "[LightGBM] [Warning] No further splits with positive gain, best gain: -inf\n",
      "[400]\ttraining's auc: 0.895305\tvalid_1's auc: 0.89183\n",
      "[LightGBM] [Warning] No further splits with positive gain, best gain: -inf\n",
      "[LightGBM] [Warning] No further splits with positive gain, best gain: -inf\n",
      "[LightGBM] [Warning] No further splits with positive gain, best gain: -inf\n",
      "[500]\ttraining's auc: 0.896545\tvalid_1's auc: 0.891906\n",
      "[LightGBM] [Warning] No further splits with positive gain, best gain: -inf\n",
      "[LightGBM] [Warning] No further splits with positive gain, best gain: -inf\n",
      "[LightGBM] [Warning] No further splits with positive gain, best gain: -inf\n",
      "[LightGBM] [Warning] No further splits with positive gain, best gain: -inf\n",
      "[LightGBM] [Warning] No further splits with positive gain, best gain: -inf\n",
      "[LightGBM] [Warning] No further splits with positive gain, best gain: -inf\n",
      "[LightGBM] [Warning] No further splits with positive gain, best gain: -inf\n",
      "[600]\ttraining's auc: 0.897726\tvalid_1's auc: 0.89192\n",
      "[LightGBM] [Warning] No further splits with positive gain, best gain: -inf\n",
      "[LightGBM] [Warning] No further splits with positive gain, best gain: -inf\n",
      "[LightGBM] [Warning] No further splits with positive gain, best gain: -inf\n",
      "Early stopping, best iteration is:\n",
      "[585]\ttraining's auc: 0.897527\tvalid_1's auc: 0.891982\n",
      "[LightGBM] [Warning] bagging_freq is set=4, subsample_freq=0 will be ignored. Current value: bagging_freq=4\n",
      "[LightGBM] [Warning] min_data_in_leaf is set=100, min_child_samples=20 will be ignored. Current value: min_data_in_leaf=100\n",
      "[LightGBM] [Warning] feature_fraction is set=0.6, colsample_bytree=1.0 will be ignored. Current value: feature_fraction=0.6\n",
      "[LightGBM] [Warning] lambda_l2 is set=0.5, reg_lambda=0.0 will be ignored. Current value: lambda_l2=0.5\n",
      "[LightGBM] [Warning] lambda_l1 is set=0.1, reg_alpha=0.0 will be ignored. Current value: lambda_l1=0.1\n",
      "[LightGBM] [Warning] bagging_fraction is set=0.6, subsample=1.0 will be ignored. Current value: bagging_fraction=0.6\n",
      "[LightGBM] [Warning] bagging_freq is set=4, subsample_freq=0 will be ignored. Current value: bagging_freq=4\n",
      "[LightGBM] [Warning] min_data_in_leaf is set=100, min_child_samples=20 will be ignored. Current value: min_data_in_leaf=100\n",
      "[LightGBM] [Warning] feature_fraction is set=0.6, colsample_bytree=1.0 will be ignored. Current value: feature_fraction=0.6\n",
      "[LightGBM] [Warning] lambda_l2 is set=0.5, reg_lambda=0.0 will be ignored. Current value: lambda_l2=0.5\n",
      "[LightGBM] [Warning] lambda_l1 is set=0.1, reg_alpha=0.0 will be ignored. Current value: lambda_l1=0.1\n",
      "[LightGBM] [Warning] bagging_fraction is set=0.6, subsample=1.0 will be ignored. Current value: bagging_fraction=0.6\n",
      "Tr: 0.897526838320495\n",
      "Va: 0.8919820338902774\n",
      "-------------------- 3 --------------------\n",
      "[LightGBM] [Warning] bagging_freq is set=4, subsample_freq=0 will be ignored. Current value: bagging_freq=4\n",
      "[LightGBM] [Warning] min_data_in_leaf is set=100, min_child_samples=20 will be ignored. Current value: min_data_in_leaf=100\n",
      "[LightGBM] [Warning] feature_fraction is set=0.6, colsample_bytree=1.0 will be ignored. Current value: feature_fraction=0.6\n",
      "[LightGBM] [Warning] lambda_l2 is set=0.5, reg_lambda=0.0 will be ignored. Current value: lambda_l2=0.5\n",
      "[LightGBM] [Warning] lambda_l1 is set=0.1, reg_alpha=0.0 will be ignored. Current value: lambda_l1=0.1\n",
      "[LightGBM] [Warning] bagging_fraction is set=0.6, subsample=1.0 will be ignored. Current value: bagging_fraction=0.6\n",
      "[LightGBM] [Warning] bagging_freq is set=4, subsample_freq=0 will be ignored. Current value: bagging_freq=4\n",
      "[LightGBM] [Warning] min_data_in_leaf is set=100, min_child_samples=20 will be ignored. Current value: min_data_in_leaf=100\n",
      "[LightGBM] [Warning] feature_fraction is set=0.6, colsample_bytree=1.0 will be ignored. Current value: feature_fraction=0.6\n",
      "[LightGBM] [Warning] lambda_l2 is set=0.5, reg_lambda=0.0 will be ignored. Current value: lambda_l2=0.5\n",
      "[LightGBM] [Warning] lambda_l1 is set=0.1, reg_alpha=0.0 will be ignored. Current value: lambda_l1=0.1\n",
      "[LightGBM] [Warning] bagging_fraction is set=0.6, subsample=1.0 will be ignored. Current value: bagging_fraction=0.6\n",
      "[LightGBM] [Info] Number of positive: 27936, number of negative: 104091\n",
      "[LightGBM] [Info] Auto-choosing row-wise multi-threading, the overhead of testing was 0.003516 seconds.\n",
      "You can set `force_row_wise=true` to remove the overhead.\n",
      "And if memory is not enough, you can set `force_col_wise=true`.\n",
      "[LightGBM] [Info] Total Bins 877\n",
      "[LightGBM] [Info] Number of data points in the train set: 132027, number of used features: 12\n",
      "[LightGBM] [Warning] bagging_freq is set=4, subsample_freq=0 will be ignored. Current value: bagging_freq=4\n",
      "[LightGBM] [Warning] min_data_in_leaf is set=100, min_child_samples=20 will be ignored. Current value: min_data_in_leaf=100\n",
      "[LightGBM] [Warning] feature_fraction is set=0.6, colsample_bytree=1.0 will be ignored. Current value: feature_fraction=0.6\n",
      "[LightGBM] [Warning] lambda_l2 is set=0.5, reg_lambda=0.0 will be ignored. Current value: lambda_l2=0.5\n",
      "[LightGBM] [Warning] lambda_l1 is set=0.1, reg_alpha=0.0 will be ignored. Current value: lambda_l1=0.1\n",
      "[LightGBM] [Warning] bagging_fraction is set=0.6, subsample=1.0 will be ignored. Current value: bagging_fraction=0.6\n",
      "[LightGBM] [Info] [binary:BoostFromScore]: pavg=0.211593 -> initscore=-1.315349\n",
      "[LightGBM] [Info] Start training from score -1.315349\n",
      "Training until validation scores don't improve for 100 rounds\n",
      "[100]\ttraining's auc: 0.889897\tvalid_1's auc: 0.88736\n",
      "[LightGBM] [Warning] No further splits with positive gain, best gain: -inf\n",
      "[LightGBM] [Warning] No further splits with positive gain, best gain: -inf\n",
      "[LightGBM] [Warning] No further splits with positive gain, best gain: -inf\n",
      "[200]\ttraining's auc: 0.892644\tvalid_1's auc: 0.88854\n",
      "[LightGBM] [Warning] No further splits with positive gain, best gain: -inf\n",
      "[LightGBM] [Warning] No further splits with positive gain, best gain: -inf\n",
      "[LightGBM] [Warning] No further splits with positive gain, best gain: -inf\n",
      "[LightGBM] [Warning] No further splits with positive gain, best gain: -inf\n",
      "[LightGBM] [Warning] No further splits with positive gain, best gain: -inf\n",
      "[300]\ttraining's auc: 0.894381\tvalid_1's auc: 0.888893\n",
      "[LightGBM] [Warning] No further splits with positive gain, best gain: -inf\n",
      "[LightGBM] [Warning] No further splits with positive gain, best gain: -inf\n",
      "[LightGBM] [Warning] No further splits with positive gain, best gain: -inf\n",
      "[LightGBM] [Warning] No further splits with positive gain, best gain: -inf\n",
      "[400]\ttraining's auc: 0.895821\tvalid_1's auc: 0.888946\n",
      "[LightGBM] [Warning] No further splits with positive gain, best gain: -inf\n",
      "[LightGBM] [Warning] No further splits with positive gain, best gain: -inf\n",
      "[LightGBM] [Warning] No further splits with positive gain, best gain: -inf\n",
      "[LightGBM] [Warning] No further splits with positive gain, best gain: -inf\n",
      "[LightGBM] [Warning] No further splits with positive gain, best gain: -inf\n",
      "[LightGBM] [Warning] No further splits with positive gain, best gain: -inf\n",
      "[LightGBM] [Warning] No further splits with positive gain, best gain: -inf\n",
      "Early stopping, best iteration is:\n",
      "[394]\ttraining's auc: 0.895738\tvalid_1's auc: 0.888968\n",
      "[LightGBM] [Warning] bagging_freq is set=4, subsample_freq=0 will be ignored. Current value: bagging_freq=4\n",
      "[LightGBM] [Warning] min_data_in_leaf is set=100, min_child_samples=20 will be ignored. Current value: min_data_in_leaf=100\n",
      "[LightGBM] [Warning] feature_fraction is set=0.6, colsample_bytree=1.0 will be ignored. Current value: feature_fraction=0.6\n",
      "[LightGBM] [Warning] lambda_l2 is set=0.5, reg_lambda=0.0 will be ignored. Current value: lambda_l2=0.5\n",
      "[LightGBM] [Warning] lambda_l1 is set=0.1, reg_alpha=0.0 will be ignored. Current value: lambda_l1=0.1\n",
      "[LightGBM] [Warning] bagging_fraction is set=0.6, subsample=1.0 will be ignored. Current value: bagging_fraction=0.6\n",
      "[LightGBM] [Warning] bagging_freq is set=4, subsample_freq=0 will be ignored. Current value: bagging_freq=4\n",
      "[LightGBM] [Warning] min_data_in_leaf is set=100, min_child_samples=20 will be ignored. Current value: min_data_in_leaf=100\n",
      "[LightGBM] [Warning] feature_fraction is set=0.6, colsample_bytree=1.0 will be ignored. Current value: feature_fraction=0.6\n",
      "[LightGBM] [Warning] lambda_l2 is set=0.5, reg_lambda=0.0 will be ignored. Current value: lambda_l2=0.5\n",
      "[LightGBM] [Warning] lambda_l1 is set=0.1, reg_alpha=0.0 will be ignored. Current value: lambda_l1=0.1\n",
      "[LightGBM] [Warning] bagging_fraction is set=0.6, subsample=1.0 will be ignored. Current value: bagging_fraction=0.6\n",
      "Tr: 0.8957380887180917\n",
      "Va: 0.8889678861567881\n",
      "-------------------- 4 --------------------\n",
      "[LightGBM] [Warning] bagging_freq is set=4, subsample_freq=0 will be ignored. Current value: bagging_freq=4\n",
      "[LightGBM] [Warning] min_data_in_leaf is set=100, min_child_samples=20 will be ignored. Current value: min_data_in_leaf=100\n",
      "[LightGBM] [Warning] feature_fraction is set=0.6, colsample_bytree=1.0 will be ignored. Current value: feature_fraction=0.6\n",
      "[LightGBM] [Warning] lambda_l2 is set=0.5, reg_lambda=0.0 will be ignored. Current value: lambda_l2=0.5\n",
      "[LightGBM] [Warning] lambda_l1 is set=0.1, reg_alpha=0.0 will be ignored. Current value: lambda_l1=0.1\n",
      "[LightGBM] [Warning] bagging_fraction is set=0.6, subsample=1.0 will be ignored. Current value: bagging_fraction=0.6\n",
      "[LightGBM] [Warning] bagging_freq is set=4, subsample_freq=0 will be ignored. Current value: bagging_freq=4\n",
      "[LightGBM] [Warning] min_data_in_leaf is set=100, min_child_samples=20 will be ignored. Current value: min_data_in_leaf=100\n",
      "[LightGBM] [Warning] feature_fraction is set=0.6, colsample_bytree=1.0 will be ignored. Current value: feature_fraction=0.6\n",
      "[LightGBM] [Warning] lambda_l2 is set=0.5, reg_lambda=0.0 will be ignored. Current value: lambda_l2=0.5\n",
      "[LightGBM] [Warning] lambda_l1 is set=0.1, reg_alpha=0.0 will be ignored. Current value: lambda_l1=0.1\n",
      "[LightGBM] [Warning] bagging_fraction is set=0.6, subsample=1.0 will be ignored. Current value: bagging_fraction=0.6\n",
      "[LightGBM] [Info] Number of positive: 27937, number of negative: 104091\n",
      "[LightGBM] [Info] Auto-choosing row-wise multi-threading, the overhead of testing was 0.003420 seconds.\n",
      "You can set `force_row_wise=true` to remove the overhead.\n",
      "And if memory is not enough, you can set `force_col_wise=true`.\n",
      "[LightGBM] [Info] Total Bins 877\n",
      "[LightGBM] [Info] Number of data points in the train set: 132028, number of used features: 12\n",
      "[LightGBM] [Warning] bagging_freq is set=4, subsample_freq=0 will be ignored. Current value: bagging_freq=4\n",
      "[LightGBM] [Warning] min_data_in_leaf is set=100, min_child_samples=20 will be ignored. Current value: min_data_in_leaf=100\n",
      "[LightGBM] [Warning] feature_fraction is set=0.6, colsample_bytree=1.0 will be ignored. Current value: feature_fraction=0.6\n",
      "[LightGBM] [Warning] lambda_l2 is set=0.5, reg_lambda=0.0 will be ignored. Current value: lambda_l2=0.5\n",
      "[LightGBM] [Warning] lambda_l1 is set=0.1, reg_alpha=0.0 will be ignored. Current value: lambda_l1=0.1\n",
      "[LightGBM] [Warning] bagging_fraction is set=0.6, subsample=1.0 will be ignored. Current value: bagging_fraction=0.6\n",
      "[LightGBM] [Info] [binary:BoostFromScore]: pavg=0.211599 -> initscore=-1.315314\n",
      "[LightGBM] [Info] Start training from score -1.315314\n",
      "Training until validation scores don't improve for 100 rounds\n",
      "[100]\ttraining's auc: 0.889704\tvalid_1's auc: 0.888004\n",
      "[LightGBM] [Warning] No further splits with positive gain, best gain: -inf\n",
      "[200]\ttraining's auc: 0.892565\tvalid_1's auc: 0.889155\n",
      "[LightGBM] [Warning] No further splits with positive gain, best gain: -inf\n",
      "[LightGBM] [Warning] No further splits with positive gain, best gain: -inf\n",
      "[LightGBM] [Warning] No further splits with positive gain, best gain: -inf\n",
      "[300]\ttraining's auc: 0.894237\tvalid_1's auc: 0.889569\n",
      "[LightGBM] [Warning] No further splits with positive gain, best gain: -inf\n",
      "[LightGBM] [Warning] No further splits with positive gain, best gain: -inf\n",
      "[LightGBM] [Warning] No further splits with positive gain, best gain: -inf\n",
      "[LightGBM] [Warning] No further splits with positive gain, best gain: -inf\n",
      "[LightGBM] [Warning] No further splits with positive gain, best gain: -inf\n",
      "[LightGBM] [Warning] No further splits with positive gain, best gain: -inf\n",
      "[400]\ttraining's auc: 0.895645\tvalid_1's auc: 0.889756\n",
      "[LightGBM] [Warning] No further splits with positive gain, best gain: -inf\n",
      "[LightGBM] [Warning] No further splits with positive gain, best gain: -inf\n",
      "[LightGBM] [Warning] No further splits with positive gain, best gain: -inf\n",
      "[LightGBM] [Warning] No further splits with positive gain, best gain: -inf\n",
      "[LightGBM] [Warning] No further splits with positive gain, best gain: -inf\n",
      "[500]\ttraining's auc: 0.896871\tvalid_1's auc: 0.889737\n",
      "[LightGBM] [Warning] No further splits with positive gain, best gain: -inf\n",
      "[LightGBM] [Warning] No further splits with positive gain, best gain: -inf\n",
      "[LightGBM] [Warning] No further splits with positive gain, best gain: -inf\n",
      "[LightGBM] [Warning] No further splits with positive gain, best gain: -inf\n",
      "[LightGBM] [Warning] No further splits with positive gain, best gain: -inf\n",
      "[LightGBM] [Warning] No further splits with positive gain, best gain: -inf\n",
      "[LightGBM] [Warning] No further splits with positive gain, best gain: -inf\n",
      "[LightGBM] [Warning] No further splits with positive gain, best gain: -inf\n",
      "[LightGBM] [Warning] No further splits with positive gain, best gain: -inf\n",
      "Early stopping, best iteration is:\n",
      "[476]\ttraining's auc: 0.89662\tvalid_1's auc: 0.889779\n",
      "[LightGBM] [Warning] bagging_freq is set=4, subsample_freq=0 will be ignored. Current value: bagging_freq=4\n",
      "[LightGBM] [Warning] min_data_in_leaf is set=100, min_child_samples=20 will be ignored. Current value: min_data_in_leaf=100\n",
      "[LightGBM] [Warning] feature_fraction is set=0.6, colsample_bytree=1.0 will be ignored. Current value: feature_fraction=0.6\n",
      "[LightGBM] [Warning] lambda_l2 is set=0.5, reg_lambda=0.0 will be ignored. Current value: lambda_l2=0.5\n",
      "[LightGBM] [Warning] lambda_l1 is set=0.1, reg_alpha=0.0 will be ignored. Current value: lambda_l1=0.1\n",
      "[LightGBM] [Warning] bagging_fraction is set=0.6, subsample=1.0 will be ignored. Current value: bagging_fraction=0.6\n",
      "[LightGBM] [Warning] bagging_freq is set=4, subsample_freq=0 will be ignored. Current value: bagging_freq=4\n",
      "[LightGBM] [Warning] min_data_in_leaf is set=100, min_child_samples=20 will be ignored. Current value: min_data_in_leaf=100\n",
      "[LightGBM] [Warning] feature_fraction is set=0.6, colsample_bytree=1.0 will be ignored. Current value: feature_fraction=0.6\n",
      "[LightGBM] [Warning] lambda_l2 is set=0.5, reg_lambda=0.0 will be ignored. Current value: lambda_l2=0.5\n",
      "[LightGBM] [Warning] lambda_l1 is set=0.1, reg_alpha=0.0 will be ignored. Current value: lambda_l1=0.1\n",
      "[LightGBM] [Warning] bagging_fraction is set=0.6, subsample=1.0 will be ignored. Current value: bagging_fraction=0.6\n",
      "Tr: 0.8966197045390594\n",
      "Va: 0.8897785917203023\n",
      "--------------------------------------------------\n",
      "   Fold     Train        Va\n",
      "0     0  0.896003  0.888498\n",
      "1     1  0.894984  0.890955\n",
      "2     2  0.897527  0.891982\n",
      "3     3  0.895738  0.888968\n",
      "4     4  0.896620  0.889779\n",
      "--------------------------------------------------\n",
      "[tr]: 0.896174+-0.000856 [va]: 0.890036+-0.001281\n"
     ]
    }
   ],
   "source": [
    "metric=[]\n",
    "imp=pd.DataFrame()\n",
    "n_splits = 5\n",
    "cv = StratifiedKFold(n_splits=n_splits, shuffle=True, random_state=123)\n",
    "\n",
    "for nfold, (train_index, val_index) in enumerate(cv.split(x_train, y_train)):\n",
    "    print('-'*20, nfold, '-'*20)\n",
    "    x_tr, y_tr = x_train.iloc[train_index], y_train.iloc[train_index]\n",
    "    x_va, y_va = x_train.iloc[val_index], y_train.iloc[val_index]\n",
    "\n",
    "    model = lgb.LGBMClassifier(**params)\n",
    "    model.fit(\n",
    "        x_tr, y_tr,\n",
    "        eval_set= [(x_tr, y_tr), (x_va, y_va)],\n",
    "        callbacks=[\n",
    "            lgb.callback.early_stopping(stopping_rounds=100),\n",
    "            lgb.callback.log_evaluation(period=100)\n",
    "        ]\n",
    "    )\n",
    "    \n",
    "    y_tr_pred = model.predict_proba(x_tr)[:, 1]\n",
    "    y_va_pred = model.predict_proba(x_va)[:, 1]\n",
    "    \n",
    "    metric_tr = roc_auc_score(y_tr, y_tr_pred)\n",
    "    metric_va = roc_auc_score(y_va, y_va_pred)\n",
    "\n",
    "    metric.append((nfold, metric_tr, metric_va))\n",
    "    \n",
    "    print(\"Tr:\", metric_tr)\n",
    "    print(\"Va:\", metric_va)\n",
    "    \n",
    "    _imp = pd.DataFrame({\n",
    "        'col': x_train.columns,\n",
    "        'imp': model.feature_importances_,\n",
    "        'fold': nfold\n",
    "    })\n",
    "    imp = pd.concat([imp, _imp], axis=0, ignore_index=True)\n",
    "\n",
    "print('-'*50)\n",
    "print(pd.DataFrame(metric, columns=[\"Fold\", \"Train\", \"Va\"]))\n",
    "print('-'*50)\n",
    "\n",
    "metric = np.array(metric)\n",
    "print('[tr]: {:3f}+-{:2f}'.format(metric[:, 1].mean(), metric[:, 1].std()), '[va]: {:3f}+-{:2f}'.format(metric[:, 2].mean(), metric[:, 2].std()))"
   ]
  },
  {
   "cell_type": "code",
   "execution_count": 44,
   "id": "3a374fa3",
   "metadata": {
    "execution": {
     "iopub.execute_input": "2024-12-16T13:05:05.728281Z",
     "iopub.status.busy": "2024-12-16T13:05:05.727069Z",
     "iopub.status.idle": "2024-12-16T13:05:05.749106Z",
     "shell.execute_reply": "2024-12-16T13:05:05.748112Z"
    },
    "papermill": {
     "duration": 0.058536,
     "end_time": "2024-12-16T13:05:05.751505",
     "exception": false,
     "start_time": "2024-12-16T13:05:05.692969",
     "status": "completed"
    },
    "tags": []
   },
   "outputs": [
    {
     "data": {
      "text/html": [
       "<div>\n",
       "<style scoped>\n",
       "    .dataframe tbody tr th:only-of-type {\n",
       "        vertical-align: middle;\n",
       "    }\n",
       "\n",
       "    .dataframe tbody tr th {\n",
       "        vertical-align: top;\n",
       "    }\n",
       "\n",
       "    .dataframe thead th {\n",
       "        text-align: right;\n",
       "    }\n",
       "</style>\n",
       "<table border=\"1\" class=\"dataframe\">\n",
       "  <thead>\n",
       "    <tr style=\"text-align: right;\">\n",
       "      <th></th>\n",
       "      <th>imp</th>\n",
       "      <th>imp_std</th>\n",
       "    </tr>\n",
       "    <tr>\n",
       "      <th>col</th>\n",
       "      <th></th>\n",
       "      <th></th>\n",
       "    </tr>\n",
       "  </thead>\n",
       "  <tbody>\n",
       "    <tr>\n",
       "      <th>NumOfProducts</th>\n",
       "      <td>116523.496782</td>\n",
       "      <td>923.163288</td>\n",
       "    </tr>\n",
       "    <tr>\n",
       "      <th>Age</th>\n",
       "      <td>88661.415230</td>\n",
       "      <td>433.015903</td>\n",
       "    </tr>\n",
       "    <tr>\n",
       "      <th>IsActiveMember</th>\n",
       "      <td>33687.729221</td>\n",
       "      <td>205.964545</td>\n",
       "    </tr>\n",
       "    <tr>\n",
       "      <th>Balance_per_NumOfProducts</th>\n",
       "      <td>24563.668620</td>\n",
       "      <td>943.561206</td>\n",
       "    </tr>\n",
       "    <tr>\n",
       "      <th>Geography</th>\n",
       "      <td>19992.891499</td>\n",
       "      <td>405.913507</td>\n",
       "    </tr>\n",
       "    <tr>\n",
       "      <th>Age_for_account_opening_group</th>\n",
       "      <td>19948.296976</td>\n",
       "      <td>254.469909</td>\n",
       "    </tr>\n",
       "    <tr>\n",
       "      <th>Age_group</th>\n",
       "      <td>16537.009135</td>\n",
       "      <td>105.378694</td>\n",
       "    </tr>\n",
       "    <tr>\n",
       "      <th>Gender</th>\n",
       "      <td>10202.989100</td>\n",
       "      <td>250.086333</td>\n",
       "    </tr>\n",
       "    <tr>\n",
       "      <th>CreditScore</th>\n",
       "      <td>7017.137276</td>\n",
       "      <td>1298.353595</td>\n",
       "    </tr>\n",
       "    <tr>\n",
       "      <th>EstimatedSalary</th>\n",
       "      <td>6128.737340</td>\n",
       "      <td>1146.125828</td>\n",
       "    </tr>\n",
       "    <tr>\n",
       "      <th>Tenure</th>\n",
       "      <td>2119.377269</td>\n",
       "      <td>291.001892</td>\n",
       "    </tr>\n",
       "    <tr>\n",
       "      <th>HasCrCard</th>\n",
       "      <td>1228.677519</td>\n",
       "      <td>156.355032</td>\n",
       "    </tr>\n",
       "  </tbody>\n",
       "</table>\n",
       "</div>"
      ],
      "text/plain": [
       "                                         imp      imp_std\n",
       "col                                                      \n",
       "NumOfProducts                  116523.496782   923.163288\n",
       "Age                             88661.415230   433.015903\n",
       "IsActiveMember                  33687.729221   205.964545\n",
       "Balance_per_NumOfProducts       24563.668620   943.561206\n",
       "Geography                       19992.891499   405.913507\n",
       "Age_for_account_opening_group   19948.296976   254.469909\n",
       "Age_group                       16537.009135   105.378694\n",
       "Gender                          10202.989100   250.086333\n",
       "CreditScore                      7017.137276  1298.353595\n",
       "EstimatedSalary                  6128.737340  1146.125828\n",
       "Tenure                           2119.377269   291.001892\n",
       "HasCrCard                        1228.677519   156.355032"
      ]
     },
     "execution_count": 44,
     "metadata": {},
     "output_type": "execute_result"
    }
   ],
   "source": [
    "imp_df = imp.groupby('col')['imp'].agg(['mean', 'std'])\n",
    "imp_df.columns = ['imp', 'imp_std']\n",
    "imp_df.reset_index(drop=False)\n",
    "imp_df.sort_values('imp', ascending=False)"
   ]
  },
  {
   "cell_type": "code",
   "execution_count": 45,
   "id": "f6ad0168",
   "metadata": {
    "execution": {
     "iopub.execute_input": "2024-12-16T13:05:05.820733Z",
     "iopub.status.busy": "2024-12-16T13:05:05.820292Z",
     "iopub.status.idle": "2024-12-16T13:05:11.498026Z",
     "shell.execute_reply": "2024-12-16T13:05:11.496838Z"
    },
    "papermill": {
     "duration": 5.714788,
     "end_time": "2024-12-16T13:05:11.500488",
     "exception": false,
     "start_time": "2024-12-16T13:05:05.785700",
     "status": "completed"
    },
    "tags": []
   },
   "outputs": [
    {
     "name": "stdout",
     "output_type": "stream",
     "text": [
      "[LightGBM] [Warning] bagging_freq is set=4, subsample_freq=0 will be ignored. Current value: bagging_freq=4\n",
      "[LightGBM] [Warning] min_data_in_leaf is set=100, min_child_samples=20 will be ignored. Current value: min_data_in_leaf=100\n",
      "[LightGBM] [Warning] feature_fraction is set=0.6, colsample_bytree=1.0 will be ignored. Current value: feature_fraction=0.6\n",
      "[LightGBM] [Warning] lambda_l2 is set=0.5, reg_lambda=0.0 will be ignored. Current value: lambda_l2=0.5\n",
      "[LightGBM] [Warning] lambda_l1 is set=0.1, reg_alpha=0.0 will be ignored. Current value: lambda_l1=0.1\n",
      "[LightGBM] [Warning] bagging_fraction is set=0.6, subsample=1.0 will be ignored. Current value: bagging_fraction=0.6\n",
      "[LightGBM] [Warning] bagging_freq is set=4, subsample_freq=0 will be ignored. Current value: bagging_freq=4\n",
      "[LightGBM] [Warning] min_data_in_leaf is set=100, min_child_samples=20 will be ignored. Current value: min_data_in_leaf=100\n",
      "[LightGBM] [Warning] feature_fraction is set=0.6, colsample_bytree=1.0 will be ignored. Current value: feature_fraction=0.6\n",
      "[LightGBM] [Warning] lambda_l2 is set=0.5, reg_lambda=0.0 will be ignored. Current value: lambda_l2=0.5\n",
      "[LightGBM] [Warning] lambda_l1 is set=0.1, reg_alpha=0.0 will be ignored. Current value: lambda_l1=0.1\n",
      "[LightGBM] [Warning] bagging_fraction is set=0.6, subsample=1.0 will be ignored. Current value: bagging_fraction=0.6\n"
     ]
    },
    {
     "data": {
      "image/png": "[encoded data removed]",
      "text/plain": [
       "<Figure size 800x800 with 1 Axes>"
      ]
     },
     "metadata": {},
     "output_type": "display_data"
    }
   ],
   "source": [
    "from sklearn.metrics import roc_curve, roc_auc_score\n",
    "\n",
    "y_tr_score = model.predict_proba(x_tr)[:, 1]\n",
    "y_va_score = model.predict_proba(x_va)[:, 1]\n",
    "\n",
    "fpr_tr, tpr_tr, _ = roc_curve(y_tr, y_tr_score)\n",
    "auc_tr = roc_auc_score(y_tr, y_tr_score)\n",
    "\n",
    "fpr_va, tpr_va, _ = roc_curve(y_va, y_va_score)\n",
    "auc_va = roc_auc_score(y_va, y_va_score)\n",
    "\n",
    "plt.figure(figsize=(8, 8))\n",
    "plt.plot(fpr_tr, tpr_tr, label=f'Training ROC (AUC = {auc_tr:.2f})', color='blue')\n",
    "plt.plot(fpr_va, tpr_va, label=f'Validation ROC (AUC = {auc_va:.2f})', color='orange')\n",
    "plt.plot([0, 1], [0, 1], linestyle='--', color='gray', label='Random Guess')\n",
    "plt.xlabel('False Positive Rate (FPR)')\n",
    "plt.ylabel('True Positive Rate (TPR)')\n",
    "plt.title('ROC Curve (Training and Validation)')\n",
    "plt.legend(loc='lower right')\n",
    "plt.grid()\n",
    "plt.show()\n"
   ]
  },
  {
   "cell_type": "markdown",
   "id": "6c08422b",
   "metadata": {
    "papermill": {
     "duration": 0.035598,
     "end_time": "2024-12-16T13:05:11.572102",
     "exception": false,
     "start_time": "2024-12-16T13:05:11.536504",
     "status": "completed"
    },
    "tags": []
   },
   "source": [
    "# Optuna"
   ]
  },
  {
   "cell_type": "code",
   "execution_count": 46,
   "id": "6cb972fb",
   "metadata": {
    "execution": {
     "iopub.execute_input": "2024-12-16T13:05:11.644522Z",
     "iopub.status.busy": "2024-12-16T13:05:11.644087Z",
     "iopub.status.idle": "2024-12-16T13:05:55.659927Z",
     "shell.execute_reply": "2024-12-16T13:05:55.658453Z"
    },
    "papermill": {
     "duration": 44.089883,
     "end_time": "2024-12-16T13:05:55.696594",
     "exception": false,
     "start_time": "2024-12-16T13:05:11.606711",
     "status": "completed"
    },
    "tags": []
   },
   "outputs": [
    {
     "name": "stdout",
     "output_type": "stream",
     "text": [
      "Requirement already satisfied: optuna in /opt/conda/lib/python3.10/site-packages (4.1.0)\r\n",
      "Requirement already satisfied: alembic>=1.5.0 in /opt/conda/lib/python3.10/site-packages (from optuna) (1.14.0)\r\n",
      "Requirement already satisfied: colorlog in /opt/conda/lib/python3.10/site-packages (from optuna) (6.9.0)\r\n",
      "Requirement already satisfied: numpy in /opt/conda/lib/python3.10/site-packages (from optuna) (1.26.4)\r\n",
      "Requirement already satisfied: packaging>=20.0 in /opt/conda/lib/python3.10/site-packages (from optuna) (21.3)\r\n",
      "Requirement already satisfied: sqlalchemy>=1.4.2 in /opt/conda/lib/python3.10/site-packages (from optuna) (2.0.30)\r\n",
      "Requirement already satisfied: tqdm in /opt/conda/lib/python3.10/site-packages (from optuna) (4.66.4)\r\n",
      "Requirement already satisfied: PyYAML in /opt/conda/lib/python3.10/site-packages (from optuna) (6.0.2)\r\n",
      "Requirement already satisfied: Mako in /opt/conda/lib/python3.10/site-packages (from alembic>=1.5.0->optuna) (1.3.6)\r\n",
      "Requirement already satisfied: typing-extensions>=4 in /opt/conda/lib/python3.10/site-packages (from alembic>=1.5.0->optuna) (4.12.2)\r\n",
      "Requirement already satisfied: pyparsing!=3.0.5,>=2.0.2 in /opt/conda/lib/python3.10/site-packages (from packaging>=20.0->optuna) (3.1.2)\r\n",
      "Requirement already satisfied: greenlet!=0.4.17 in /opt/conda/lib/python3.10/site-packages (from sqlalchemy>=1.4.2->optuna) (3.0.3)\r\n",
      "Requirement already satisfied: MarkupSafe>=0.9.2 in /opt/conda/lib/python3.10/site-packages (from Mako->alembic>=1.5.0->optuna) (2.1.5)\r\n",
      "Note: you may need to restart the kernel to use updated packages.\n"
     ]
    }
   ],
   "source": [
    "pip install optuna"
   ]
  },
  {
   "cell_type": "code",
   "execution_count": 47,
   "id": "ee92b6ec",
   "metadata": {
    "execution": {
     "iopub.execute_input": "2024-12-16T13:05:55.769382Z",
     "iopub.status.busy": "2024-12-16T13:05:55.768879Z",
     "iopub.status.idle": "2024-12-16T13:09:48.103111Z",
     "shell.execute_reply": "2024-12-16T13:09:48.101615Z"
    },
    "papermill": {
     "duration": 232.375695,
     "end_time": "2024-12-16T13:09:48.107016",
     "exception": false,
     "start_time": "2024-12-16T13:05:55.731321",
     "status": "completed"
    },
    "tags": []
   },
   "outputs": [
    {
     "name": "stderr",
     "output_type": "stream",
     "text": [
      "[I 2024-12-16 13:05:55,945] A new study created in memory with name: no-name-78cabadd-34f7-4ded-9c5a-ccbabaa8211e\n"
     ]
    },
    {
     "name": "stdout",
     "output_type": "stream",
     "text": [
      "-------------------- 0 --------------------\n",
      "Training until validation scores don't improve for 100 rounds\n",
      "[100]\ttraining's auc: 0.87602\tvalid_1's auc: 0.873204\n",
      "Did not meet early stopping. Best iteration is:\n",
      "[99]\ttraining's auc: 0.87606\tvalid_1's auc: 0.873276\n",
      "Tr: 0.8760603592481887\n",
      "Va: 0.8732756849731882\n",
      "-------------------- 1 --------------------\n",
      "Training until validation scores don't improve for 100 rounds\n",
      "[100]\ttraining's auc: 0.875188\tvalid_1's auc: 0.877664\n",
      "Did not meet early stopping. Best iteration is:\n",
      "[99]\ttraining's auc: 0.875267\tvalid_1's auc: 0.877743\n",
      "Tr: 0.8752666328383971\n",
      "Va: 0.8777428182858242\n",
      "-------------------- 2 --------------------\n",
      "Training until validation scores don't improve for 100 rounds\n",
      "[100]\ttraining's auc: 0.875029\tvalid_1's auc: 0.87711\n",
      "Did not meet early stopping. Best iteration is:\n",
      "[100]\ttraining's auc: 0.875029\tvalid_1's auc: 0.87711\n",
      "Tr: 0.8750293242278693\n",
      "Va: 0.8771103539388168\n",
      "-------------------- 3 --------------------\n",
      "Training until validation scores don't improve for 100 rounds\n",
      "[100]\ttraining's auc: 0.875886\tvalid_1's auc: 0.873911\n",
      "Did not meet early stopping. Best iteration is:\n",
      "[100]\ttraining's auc: 0.875886\tvalid_1's auc: 0.873911\n",
      "Tr: 0.8758858543093125\n",
      "Va: 0.8739111259142159\n",
      "-------------------- 4 --------------------\n",
      "Training until validation scores don't improve for 100 rounds\n",
      "[100]\ttraining's auc: 0.875424\tvalid_1's auc: 0.875101\n",
      "Did not meet early stopping. Best iteration is:\n",
      "[100]\ttraining's auc: 0.875424\tvalid_1's auc: 0.875101\n"
     ]
    },
    {
     "name": "stderr",
     "output_type": "stream",
     "text": [
      "[I 2024-12-16 13:06:08,882] Trial 0 finished with value: 0.8754282709026177 and parameters: {'lambda_l1': 0.022323746824962326, 'lambda_l2': 0.14322183419494536, 'num_leaves': 2, 'feature_fraction': 0.4137544232921691, 'bagging_fraction': 0.9664624798601138, 'bagging_freq': 1, 'min_child_samples': 15}. Best is trial 0 with value: 0.8754282709026177.\n"
     ]
    },
    {
     "name": "stdout",
     "output_type": "stream",
     "text": [
      "Tr: 0.8754240562250135\n",
      "Va: 0.8751013714010429\n",
      "--------------------------------------------------\n",
      "   Fold     Train        Va\n",
      "0     0  0.876060  0.873276\n",
      "1     1  0.875267  0.877743\n",
      "2     2  0.875029  0.877110\n",
      "3     3  0.875886  0.873911\n",
      "4     4  0.875424  0.875101\n",
      "--------------------------------------------------\n",
      "[tr]: 0.875533+-0.000384 [va]: 0.875428+-0.001745\n",
      "-------------------- 0 --------------------\n",
      "Training until validation scores don't improve for 100 rounds\n",
      "[100]\ttraining's auc: 0.893954\tvalid_1's auc: 0.887718\n",
      "Did not meet early stopping. Best iteration is:\n",
      "[99]\ttraining's auc: 0.893885\tvalid_1's auc: 0.887729\n",
      "Tr: 0.8938850645290168\n",
      "Va: 0.8877291600007202\n",
      "-------------------- 1 --------------------\n",
      "Training until validation scores don't improve for 100 rounds\n",
      "[100]\ttraining's auc: 0.893063\tvalid_1's auc: 0.890946\n",
      "Did not meet early stopping. Best iteration is:\n",
      "[100]\ttraining's auc: 0.893063\tvalid_1's auc: 0.890946\n",
      "Tr: 0.893063181633443\n",
      "Va: 0.8909458629842779\n",
      "-------------------- 2 --------------------\n",
      "Training until validation scores don't improve for 100 rounds\n",
      "[100]\ttraining's auc: 0.892775\tvalid_1's auc: 0.891309\n",
      "Did not meet early stopping. Best iteration is:\n",
      "[100]\ttraining's auc: 0.892775\tvalid_1's auc: 0.891309\n",
      "Tr: 0.8927748935110862\n",
      "Va: 0.8913088393169157\n",
      "-------------------- 3 --------------------\n",
      "Training until validation scores don't improve for 100 rounds\n",
      "[100]\ttraining's auc: 0.89361\tvalid_1's auc: 0.888688\n",
      "Did not meet early stopping. Best iteration is:\n",
      "[98]\ttraining's auc: 0.893511\tvalid_1's auc: 0.8887\n",
      "Tr: 0.8935114116378673\n",
      "Va: 0.8887002474146787\n",
      "-------------------- 4 --------------------\n",
      "Training until validation scores don't improve for 100 rounds\n",
      "[100]\ttraining's auc: 0.893363\tvalid_1's auc: 0.889113\n",
      "Did not meet early stopping. Best iteration is:\n",
      "[96]\ttraining's auc: 0.893183\tvalid_1's auc: 0.88914\n"
     ]
    },
    {
     "name": "stderr",
     "output_type": "stream",
     "text": [
      "[I 2024-12-16 13:06:32,330] Trial 1 finished with value: 0.8895648336715214 and parameters: {'lambda_l1': 0.015348175305668442, 'lambda_l2': 0.4063579090207974, 'num_leaves': 17, 'feature_fraction': 0.7821239672641185, 'bagging_fraction': 0.703279543113702, 'bagging_freq': 1, 'min_child_samples': 47}. Best is trial 1 with value: 0.8895648336715214.\n"
     ]
    },
    {
     "name": "stdout",
     "output_type": "stream",
     "text": [
      "Tr: 0.8931825922786008\n",
      "Va: 0.8891400586410142\n",
      "--------------------------------------------------\n",
      "   Fold     Train        Va\n",
      "0     0  0.893885  0.887729\n",
      "1     1  0.893063  0.890946\n",
      "2     2  0.892775  0.891309\n",
      "3     3  0.893511  0.888700\n",
      "4     4  0.893183  0.889140\n",
      "--------------------------------------------------\n",
      "[tr]: 0.893283+-0.000382 [va]: 0.889565+-0.001360\n",
      "-------------------- 0 --------------------\n",
      "Training until validation scores don't improve for 100 rounds\n",
      "[100]\ttraining's auc: 0.894268\tvalid_1's auc: 0.887625\n",
      "Did not meet early stopping. Best iteration is:\n",
      "[96]\ttraining's auc: 0.894076\tvalid_1's auc: 0.887631\n",
      "Tr: 0.8940756476374301\n",
      "Va: 0.8876306839147801\n",
      "-------------------- 1 --------------------\n",
      "Training until validation scores don't improve for 100 rounds\n",
      "[100]\ttraining's auc: 0.893504\tvalid_1's auc: 0.890772\n",
      "Did not meet early stopping. Best iteration is:\n",
      "[100]\ttraining's auc: 0.893504\tvalid_1's auc: 0.890772\n",
      "Tr: 0.8935036931857366\n",
      "Va: 0.8907717340449428\n",
      "-------------------- 2 --------------------\n",
      "Training until validation scores don't improve for 100 rounds\n",
      "[100]\ttraining's auc: 0.893419\tvalid_1's auc: 0.890893\n",
      "Did not meet early stopping. Best iteration is:\n",
      "[100]\ttraining's auc: 0.893419\tvalid_1's auc: 0.890893\n",
      "Tr: 0.8934185724132129\n",
      "Va: 0.8908932396968952\n",
      "-------------------- 3 --------------------\n",
      "Training until validation scores don't improve for 100 rounds\n",
      "[100]\ttraining's auc: 0.893961\tvalid_1's auc: 0.888485\n",
      "Did not meet early stopping. Best iteration is:\n",
      "[100]\ttraining's auc: 0.893961\tvalid_1's auc: 0.888485\n",
      "Tr: 0.8939610702286306\n",
      "Va: 0.8884845882568282\n",
      "-------------------- 4 --------------------\n",
      "Training until validation scores don't improve for 100 rounds\n",
      "[100]\ttraining's auc: 0.893922\tvalid_1's auc: 0.889269\n",
      "Did not meet early stopping. Best iteration is:\n",
      "[99]\ttraining's auc: 0.893879\tvalid_1's auc: 0.889272\n"
     ]
    },
    {
     "name": "stderr",
     "output_type": "stream",
     "text": [
      "[I 2024-12-16 13:06:58,129] Trial 2 finished with value: 0.8894103598096212 and parameters: {'lambda_l1': 0.16156882260617952, 'lambda_l2': 0.2946397025426784, 'num_leaves': 19, 'feature_fraction': 0.8140638497384362, 'bagging_fraction': 0.7816666165527433, 'bagging_freq': 6, 'min_child_samples': 81}. Best is trial 1 with value: 0.8895648336715214.\n"
     ]
    },
    {
     "name": "stdout",
     "output_type": "stream",
     "text": [
      "Tr: 0.8938794666880501\n",
      "Va: 0.8892715531346593\n",
      "--------------------------------------------------\n",
      "   Fold     Train        Va\n",
      "0     0  0.894076  0.887631\n",
      "1     1  0.893504  0.890772\n",
      "2     2  0.893419  0.890893\n",
      "3     3  0.893961  0.888485\n",
      "4     4  0.893879  0.889272\n",
      "--------------------------------------------------\n",
      "[tr]: 0.893768+-0.000259 [va]: 0.889410+-0.001272\n",
      "-------------------- 0 --------------------\n",
      "Training until validation scores don't improve for 100 rounds\n",
      "[100]\ttraining's auc: 0.893721\tvalid_1's auc: 0.887712\n",
      "Did not meet early stopping. Best iteration is:\n",
      "[97]\ttraining's auc: 0.893572\tvalid_1's auc: 0.887764\n",
      "Tr: 0.8935722429045359\n",
      "Va: 0.8877635929296663\n",
      "-------------------- 1 --------------------\n",
      "Training until validation scores don't improve for 100 rounds\n",
      "[100]\ttraining's auc: 0.892992\tvalid_1's auc: 0.890798\n",
      "Did not meet early stopping. Best iteration is:\n",
      "[100]\ttraining's auc: 0.892992\tvalid_1's auc: 0.890798\n",
      "Tr: 0.8929920091158815\n",
      "Va: 0.8907978338529416\n",
      "-------------------- 2 --------------------\n",
      "Training until validation scores don't improve for 100 rounds\n",
      "[100]\ttraining's auc: 0.892745\tvalid_1's auc: 0.891084\n",
      "Did not meet early stopping. Best iteration is:\n",
      "[100]\ttraining's auc: 0.892745\tvalid_1's auc: 0.891084\n",
      "Tr: 0.8927450473541725\n",
      "Va: 0.8910839688514156\n",
      "-------------------- 3 --------------------\n",
      "Training until validation scores don't improve for 100 rounds\n",
      "[100]\ttraining's auc: 0.893445\tvalid_1's auc: 0.888444\n",
      "Did not meet early stopping. Best iteration is:\n",
      "[99]\ttraining's auc: 0.893399\tvalid_1's auc: 0.888447\n",
      "Tr: 0.8933993453531932\n",
      "Va: 0.8884472430601781\n",
      "-------------------- 4 --------------------\n",
      "Training until validation scores don't improve for 100 rounds\n",
      "[100]\ttraining's auc: 0.893285\tvalid_1's auc: 0.889307\n",
      "Did not meet early stopping. Best iteration is:\n",
      "[100]\ttraining's auc: 0.893285\tvalid_1's auc: 0.889307\n"
     ]
    },
    {
     "name": "stderr",
     "output_type": "stream",
     "text": [
      "[I 2024-12-16 13:07:21,437] Trial 3 finished with value: 0.8894800063907484 and parameters: {'lambda_l1': 0.01385801103135859, 'lambda_l2': 0.9968730034713179, 'num_leaves': 17, 'feature_fraction': 0.7245141921053736, 'bagging_fraction': 0.7282408604259257, 'bagging_freq': 1, 'min_child_samples': 51}. Best is trial 1 with value: 0.8895648336715214.\n"
     ]
    },
    {
     "name": "stdout",
     "output_type": "stream",
     "text": [
      "Tr: 0.8932845429293179\n",
      "Va: 0.8893073932595408\n",
      "--------------------------------------------------\n",
      "   Fold     Train        Va\n",
      "0     0  0.893572  0.887764\n",
      "1     1  0.892992  0.890798\n",
      "2     2  0.892745  0.891084\n",
      "3     3  0.893399  0.888447\n",
      "4     4  0.893285  0.889307\n",
      "--------------------------------------------------\n",
      "[tr]: 0.893199+-0.000295 [va]: 0.889480+-0.001292\n",
      "-------------------- 0 --------------------\n",
      "Training until validation scores don't improve for 100 rounds\n",
      "[100]\ttraining's auc: 0.894976\tvalid_1's auc: 0.88807\n",
      "Did not meet early stopping. Best iteration is:\n",
      "[98]\ttraining's auc: 0.894842\tvalid_1's auc: 0.888096\n",
      "Tr: 0.8948420306737604\n",
      "Va: 0.8880961006870343\n",
      "-------------------- 1 --------------------\n",
      "Training until validation scores don't improve for 100 rounds\n",
      "[100]\ttraining's auc: 0.894301\tvalid_1's auc: 0.890807\n",
      "Did not meet early stopping. Best iteration is:\n",
      "[94]\ttraining's auc: 0.893896\tvalid_1's auc: 0.890833\n",
      "Tr: 0.8938955283853351\n",
      "Va: 0.8908328830311754\n",
      "-------------------- 2 --------------------\n",
      "Training until validation scores don't improve for 100 rounds\n",
      "[100]\ttraining's auc: 0.894053\tvalid_1's auc: 0.891088\n",
      "Did not meet early stopping. Best iteration is:\n",
      "[100]\ttraining's auc: 0.894053\tvalid_1's auc: 0.891088\n",
      "Tr: 0.89405310367277\n",
      "Va: 0.891088260587526\n",
      "-------------------- 3 --------------------\n",
      "Training until validation scores don't improve for 100 rounds\n",
      "[100]\ttraining's auc: 0.894645\tvalid_1's auc: 0.888541\n",
      "Did not meet early stopping. Best iteration is:\n",
      "[95]\ttraining's auc: 0.89437\tvalid_1's auc: 0.888556\n",
      "Tr: 0.8943700465186296\n",
      "Va: 0.8885555045185873\n",
      "-------------------- 4 --------------------\n",
      "Training until validation scores don't improve for 100 rounds\n",
      "[100]\ttraining's auc: 0.894616\tvalid_1's auc: 0.889337\n",
      "Did not meet early stopping. Best iteration is:\n",
      "[100]\ttraining's auc: 0.894616\tvalid_1's auc: 0.889337\n"
     ]
    },
    {
     "name": "stderr",
     "output_type": "stream",
     "text": [
      "[I 2024-12-16 13:07:45,953] Trial 4 finished with value: 0.8895818565982843 and parameters: {'lambda_l1': 1.437088615639336, 'lambda_l2': 0.057675645984925514, 'num_leaves': 22, 'feature_fraction': 0.931834329489435, 'bagging_fraction': 0.8571683389472671, 'bagging_freq': 1, 'min_child_samples': 86}. Best is trial 4 with value: 0.8895818565982843.\n"
     ]
    },
    {
     "name": "stdout",
     "output_type": "stream",
     "text": [
      "Tr: 0.8946157879282888\n",
      "Va: 0.8893365341670978\n",
      "--------------------------------------------------\n",
      "   Fold     Train        Va\n",
      "0     0  0.894842  0.888096\n",
      "1     1  0.893896  0.890833\n",
      "2     2  0.894053  0.891088\n",
      "3     3  0.894370  0.888556\n",
      "4     4  0.894616  0.889337\n",
      "--------------------------------------------------\n",
      "[tr]: 0.894355+-0.000349 [va]: 0.889582+-0.001196\n",
      "-------------------- 0 --------------------\n",
      "Training until validation scores don't improve for 100 rounds\n",
      "[100]\ttraining's auc: 0.894966\tvalid_1's auc: 0.88744\n",
      "Did not meet early stopping. Best iteration is:\n",
      "[96]\ttraining's auc: 0.894788\tvalid_1's auc: 0.887463\n",
      "Tr: 0.8947878965474769\n",
      "Va: 0.887462896290659\n",
      "-------------------- 1 --------------------\n",
      "Training until validation scores don't improve for 100 rounds\n",
      "[100]\ttraining's auc: 0.894074\tvalid_1's auc: 0.890826\n",
      "Did not meet early stopping. Best iteration is:\n",
      "[99]\ttraining's auc: 0.894018\tvalid_1's auc: 0.890836\n",
      "Tr: 0.8940179782177576\n",
      "Va: 0.890835722179679\n",
      "-------------------- 2 --------------------\n",
      "Training until validation scores don't improve for 100 rounds\n",
      "[100]\ttraining's auc: 0.893942\tvalid_1's auc: 0.890941\n",
      "Did not meet early stopping. Best iteration is:\n",
      "[100]\ttraining's auc: 0.893942\tvalid_1's auc: 0.890941\n",
      "Tr: 0.8939424325348809\n",
      "Va: 0.8909413511591364\n",
      "-------------------- 3 --------------------\n",
      "Training until validation scores don't improve for 100 rounds\n",
      "[100]\ttraining's auc: 0.894653\tvalid_1's auc: 0.888485\n",
      "Did not meet early stopping. Best iteration is:\n",
      "[87]\ttraining's auc: 0.893881\tvalid_1's auc: 0.888505\n",
      "Tr: 0.893881113694596\n",
      "Va: 0.8885051314159755\n",
      "-------------------- 4 --------------------\n",
      "Training until validation scores don't improve for 100 rounds\n",
      "[100]\ttraining's auc: 0.894418\tvalid_1's auc: 0.8892\n",
      "Did not meet early stopping. Best iteration is:\n",
      "[92]\ttraining's auc: 0.893889\tvalid_1's auc: 0.889205\n"
     ]
    },
    {
     "name": "stderr",
     "output_type": "stream",
     "text": [
      "[I 2024-12-16 13:08:11,453] Trial 5 finished with value: 0.8893900044833005 and parameters: {'lambda_l1': 0.027252183004405767, 'lambda_l2': 0.15194681128327311, 'num_leaves': 20, 'feature_fraction': 0.8227622030775896, 'bagging_fraction': 0.7856850751198656, 'bagging_freq': 5, 'min_child_samples': 21}. Best is trial 4 with value: 0.8895818565982843.\n"
     ]
    },
    {
     "name": "stdout",
     "output_type": "stream",
     "text": [
      "Tr: 0.893889112525011\n",
      "Va: 0.8892049213710523\n",
      "--------------------------------------------------\n",
      "   Fold     Train        Va\n",
      "0     0  0.894788  0.887463\n",
      "1     1  0.894018  0.890836\n",
      "2     2  0.893942  0.890941\n",
      "3     3  0.893881  0.888505\n",
      "4     4  0.893889  0.889205\n",
      "--------------------------------------------------\n",
      "[tr]: 0.894104+-0.000346 [va]: 0.889390+-0.001344\n",
      "-------------------- 0 --------------------\n",
      "Training until validation scores don't improve for 100 rounds\n",
      "[100]\ttraining's auc: 0.889091\tvalid_1's auc: 0.886303\n",
      "Did not meet early stopping. Best iteration is:\n",
      "[100]\ttraining's auc: 0.889091\tvalid_1's auc: 0.886303\n",
      "Tr: 0.8890906683443867\n",
      "Va: 0.8863026887088472\n",
      "-------------------- 1 --------------------\n",
      "Training until validation scores don't improve for 100 rounds\n",
      "[100]\ttraining's auc: 0.888477\tvalid_1's auc: 0.889782\n",
      "Did not meet early stopping. Best iteration is:\n",
      "[100]\ttraining's auc: 0.888477\tvalid_1's auc: 0.889782\n",
      "Tr: 0.8884770634219322\n",
      "Va: 0.8897817818355153\n",
      "-------------------- 2 --------------------\n",
      "Training until validation scores don't improve for 100 rounds\n",
      "[100]\ttraining's auc: 0.8884\tvalid_1's auc: 0.889723\n",
      "Did not meet early stopping. Best iteration is:\n",
      "[100]\ttraining's auc: 0.8884\tvalid_1's auc: 0.889723\n",
      "Tr: 0.8883999972585614\n",
      "Va: 0.8897231638731427\n",
      "-------------------- 3 --------------------\n",
      "Training until validation scores don't improve for 100 rounds\n",
      "[100]\ttraining's auc: 0.889044\tvalid_1's auc: 0.886835\n",
      "Did not meet early stopping. Best iteration is:\n",
      "[100]\ttraining's auc: 0.889044\tvalid_1's auc: 0.886835\n",
      "Tr: 0.8890437362497368\n",
      "Va: 0.8868345913129945\n",
      "-------------------- 4 --------------------\n",
      "Training until validation scores don't improve for 100 rounds\n",
      "[100]\ttraining's auc: 0.888892\tvalid_1's auc: 0.887831\n",
      "Did not meet early stopping. Best iteration is:\n",
      "[100]\ttraining's auc: 0.888892\tvalid_1's auc: 0.887831\n"
     ]
    },
    {
     "name": "stderr",
     "output_type": "stream",
     "text": [
      "[I 2024-12-16 13:08:32,386] Trial 6 finished with value: 0.8880945518671466 and parameters: {'lambda_l1': 0.7657753731472318, 'lambda_l2': 0.25510148422902507, 'num_leaves': 6, 'feature_fraction': 0.5757463319083947, 'bagging_fraction': 0.9958903780319627, 'bagging_freq': 7, 'min_child_samples': 26}. Best is trial 4 with value: 0.8895818565982843.\n"
     ]
    },
    {
     "name": "stdout",
     "output_type": "stream",
     "text": [
      "Tr: 0.8888922479670734\n",
      "Va: 0.887830533605233\n",
      "--------------------------------------------------\n",
      "   Fold     Train        Va\n",
      "0     0  0.889091  0.886303\n",
      "1     1  0.888477  0.889782\n",
      "2     2  0.888400  0.889723\n",
      "3     3  0.889044  0.886835\n",
      "4     4  0.888892  0.887831\n",
      "--------------------------------------------------\n",
      "[tr]: 0.888781+-0.000288 [va]: 0.888095+-0.001440\n",
      "-------------------- 0 --------------------\n",
      "Training until validation scores don't improve for 100 rounds\n",
      "[100]\ttraining's auc: 0.892538\tvalid_1's auc: 0.887747\n",
      "Did not meet early stopping. Best iteration is:\n",
      "[100]\ttraining's auc: 0.892538\tvalid_1's auc: 0.887747\n",
      "Tr: 0.8925375499963921\n",
      "Va: 0.8877467561187723\n",
      "-------------------- 1 --------------------\n",
      "Training until validation scores don't improve for 100 rounds\n",
      "[100]\ttraining's auc: 0.891792\tvalid_1's auc: 0.890386\n",
      "Did not meet early stopping. Best iteration is:\n",
      "[100]\ttraining's auc: 0.891792\tvalid_1's auc: 0.890386\n",
      "Tr: 0.8917922157196583\n",
      "Va: 0.8903863471466933\n",
      "-------------------- 2 --------------------\n",
      "Training until validation scores don't improve for 100 rounds\n",
      "[100]\ttraining's auc: 0.891603\tvalid_1's auc: 0.89091\n",
      "Did not meet early stopping. Best iteration is:\n",
      "[100]\ttraining's auc: 0.891603\tvalid_1's auc: 0.89091\n",
      "Tr: 0.8916027278799035\n",
      "Va: 0.8909099967255153\n",
      "-------------------- 3 --------------------\n",
      "Training until validation scores don't improve for 100 rounds\n",
      "[100]\ttraining's auc: 0.892176\tvalid_1's auc: 0.888277\n",
      "Did not meet early stopping. Best iteration is:\n",
      "[100]\ttraining's auc: 0.892176\tvalid_1's auc: 0.888277\n",
      "Tr: 0.8921757919591966\n",
      "Va: 0.888277239340513\n",
      "-------------------- 4 --------------------\n",
      "Training until validation scores don't improve for 100 rounds\n",
      "[100]\ttraining's auc: 0.892049\tvalid_1's auc: 0.888729\n",
      "Did not meet early stopping. Best iteration is:\n",
      "[95]\ttraining's auc: 0.891848\tvalid_1's auc: 0.888755\n"
     ]
    },
    {
     "name": "stderr",
     "output_type": "stream",
     "text": [
      "[I 2024-12-16 13:08:57,945] Trial 7 finished with value: 0.8892151269093871 and parameters: {'lambda_l1': 9.04670156751912, 'lambda_l2': 0.01236909425080382, 'num_leaves': 20, 'feature_fraction': 0.4790297035870643, 'bagging_fraction': 0.45558011383916813, 'bagging_freq': 5, 'min_child_samples': 12}. Best is trial 4 with value: 0.8895818565982843.\n"
     ]
    },
    {
     "name": "stdout",
     "output_type": "stream",
     "text": [
      "Tr: 0.8918475195501746\n",
      "Va: 0.8887552952154417\n",
      "--------------------------------------------------\n",
      "   Fold     Train        Va\n",
      "0     0  0.892538  0.887747\n",
      "1     1  0.891792  0.890386\n",
      "2     2  0.891603  0.890910\n",
      "3     3  0.892176  0.888277\n",
      "4     4  0.891848  0.888755\n",
      "--------------------------------------------------\n",
      "[tr]: 0.891991+-0.000330 [va]: 0.889215+-0.001224\n",
      "-------------------- 0 --------------------\n",
      "Training until validation scores don't improve for 100 rounds\n",
      "[100]\ttraining's auc: 0.892046\tvalid_1's auc: 0.887503\n",
      "Did not meet early stopping. Best iteration is:\n",
      "[96]\ttraining's auc: 0.891871\tvalid_1's auc: 0.887552\n",
      "Tr: 0.8918707200034465\n",
      "Va: 0.8875520378505596\n",
      "-------------------- 1 --------------------\n",
      "Training until validation scores don't improve for 100 rounds\n",
      "[100]\ttraining's auc: 0.891265\tvalid_1's auc: 0.890602\n",
      "Did not meet early stopping. Best iteration is:\n",
      "[100]\ttraining's auc: 0.891265\tvalid_1's auc: 0.890602\n",
      "Tr: 0.8912653866805765\n",
      "Va: 0.8906023122597645\n",
      "-------------------- 2 --------------------\n",
      "Training until validation scores don't improve for 100 rounds\n",
      "[100]\ttraining's auc: 0.891182\tvalid_1's auc: 0.890818\n",
      "Did not meet early stopping. Best iteration is:\n",
      "[100]\ttraining's auc: 0.891182\tvalid_1's auc: 0.890818\n",
      "Tr: 0.8911815415435591\n",
      "Va: 0.8908184974618673\n",
      "-------------------- 3 --------------------\n",
      "Training until validation scores don't improve for 100 rounds\n",
      "[100]\ttraining's auc: 0.891703\tvalid_1's auc: 0.888431\n",
      "Did not meet early stopping. Best iteration is:\n",
      "[99]\ttraining's auc: 0.891668\tvalid_1's auc: 0.888431\n",
      "Tr: 0.8916676523998853\n",
      "Va: 0.8884308921579324\n",
      "-------------------- 4 --------------------\n",
      "Training until validation scores don't improve for 100 rounds\n",
      "[100]\ttraining's auc: 0.891531\tvalid_1's auc: 0.888893\n",
      "Did not meet early stopping. Best iteration is:\n",
      "[100]\ttraining's auc: 0.891531\tvalid_1's auc: 0.888893\n"
     ]
    },
    {
     "name": "stderr",
     "output_type": "stream",
     "text": [
      "[I 2024-12-16 13:09:21,946] Trial 8 finished with value: 0.889259419869852 and parameters: {'lambda_l1': 1.9803349860930282, 'lambda_l2': 1.0163541374903777, 'num_leaves': 12, 'feature_fraction': 0.8715650469247608, 'bagging_fraction': 0.7428109626729686, 'bagging_freq': 6, 'min_child_samples': 36}. Best is trial 4 with value: 0.8895818565982843.\n"
     ]
    },
    {
     "name": "stdout",
     "output_type": "stream",
     "text": [
      "Tr: 0.891531022101595\n",
      "Va: 0.8888933596191362\n",
      "--------------------------------------------------\n",
      "   Fold     Train        Va\n",
      "0     0  0.891871  0.887552\n",
      "1     1  0.891265  0.890602\n",
      "2     2  0.891182  0.890818\n",
      "3     3  0.891668  0.888431\n",
      "4     4  0.891531  0.888893\n",
      "--------------------------------------------------\n",
      "[tr]: 0.891503+-0.000254 [va]: 0.889259+-0.001263\n",
      "-------------------- 0 --------------------\n",
      "Training until validation scores don't improve for 100 rounds\n",
      "[100]\ttraining's auc: 0.895717\tvalid_1's auc: 0.887805\n",
      "Did not meet early stopping. Best iteration is:\n",
      "[90]\ttraining's auc: 0.895131\tvalid_1's auc: 0.887891\n",
      "Tr: 0.8951305655324634\n",
      "Va: 0.8878906310696428\n",
      "-------------------- 1 --------------------\n",
      "Training until validation scores don't improve for 100 rounds\n",
      "[100]\ttraining's auc: 0.89512\tvalid_1's auc: 0.890338\n",
      "Did not meet early stopping. Best iteration is:\n",
      "[93]\ttraining's auc: 0.894641\tvalid_1's auc: 0.890432\n",
      "Tr: 0.894641094955312\n",
      "Va: 0.8904324805587656\n",
      "-------------------- 2 --------------------\n",
      "Training until validation scores don't improve for 100 rounds\n",
      "[100]\ttraining's auc: 0.894897\tvalid_1's auc: 0.890794\n",
      "Did not meet early stopping. Best iteration is:\n",
      "[82]\ttraining's auc: 0.893686\tvalid_1's auc: 0.890861\n",
      "Tr: 0.8936863668037955\n",
      "Va: 0.8908610901916487\n",
      "-------------------- 3 --------------------\n",
      "Training until validation scores don't improve for 100 rounds\n",
      "[100]\ttraining's auc: 0.89534\tvalid_1's auc: 0.888182\n",
      "Did not meet early stopping. Best iteration is:\n",
      "[79]\ttraining's auc: 0.893985\tvalid_1's auc: 0.888272\n",
      "Tr: 0.8939853096574575\n",
      "Va: 0.888271935750417\n",
      "-------------------- 4 --------------------\n",
      "Training until validation scores don't improve for 100 rounds\n",
      "[100]\ttraining's auc: 0.895339\tvalid_1's auc: 0.889082\n",
      "Did not meet early stopping. Best iteration is:\n",
      "[99]\ttraining's auc: 0.895273\tvalid_1's auc: 0.889095\n"
     ]
    },
    {
     "name": "stderr",
     "output_type": "stream",
     "text": [
      "[I 2024-12-16 13:09:48,089] Trial 9 finished with value: 0.8893103054852152 and parameters: {'lambda_l1': 0.010991841798037428, 'lambda_l2': 2.0877725064900465, 'num_leaves': 26, 'feature_fraction': 0.6609083837698586, 'bagging_fraction': 0.5766208200737022, 'bagging_freq': 6, 'min_child_samples': 74}. Best is trial 4 with value: 0.8895818565982843.\n"
     ]
    },
    {
     "name": "stdout",
     "output_type": "stream",
     "text": [
      "Tr: 0.8952727894394977\n",
      "Va: 0.889095389855601\n",
      "--------------------------------------------------\n",
      "   Fold     Train        Va\n",
      "0     0  0.895131  0.887891\n",
      "1     1  0.894641  0.890432\n",
      "2     2  0.893686  0.890861\n",
      "3     3  0.893985  0.888272\n",
      "4     4  0.895273  0.889095\n",
      "--------------------------------------------------\n",
      "[tr]: 0.894543+-0.000622 [va]: 0.889310+-0.001167\n",
      "Best Parameters:  {'lambda_l1': 1.437088615639336, 'lambda_l2': 0.057675645984925514, 'num_leaves': 22, 'feature_fraction': 0.931834329489435, 'bagging_fraction': 0.8571683389472671, 'bagging_freq': 1, 'min_child_samples': 86}\n",
      "Best Value:  0.8895818565982843\n",
      "Feature Importances:\n",
      "                              col            imp\n",
      "10                  NumOfProducts  116523.496782\n",
      "0                             Age   88661.415230\n",
      "9                  IsActiveMember   33687.729221\n",
      "3       Balance_per_NumOfProducts   24563.668620\n",
      "7                       Geography   19992.891499\n",
      "1   Age_for_account_opening_group   19948.296976\n",
      "2                       Age_group   16537.009135\n",
      "6                          Gender   10202.989100\n",
      "4                     CreditScore    7017.137276\n",
      "5                 EstimatedSalary    6128.737340\n",
      "11                         Tenure    2119.377269\n",
      "8                       HasCrCard    1228.677519\n"
     ]
    }
   ],
   "source": [
    "import optuna\n",
    "import gc\n",
    "import pandas as pd\n",
    "import numpy as np\n",
    "import lightgbm as lgb\n",
    "from sklearn.model_selection import StratifiedKFold\n",
    "from sklearn.metrics import roc_auc_score\n",
    "\n",
    "# Objective function for Optuna optimization\n",
    "def objective(trial, x_train, y_train):\n",
    "    lgbm_params = {\n",
    "        'boosting_type': 'gbdt',\n",
    "        'objective': 'binary',\n",
    "        'metric': 'auc',\n",
    "        'lambda_l1': trial.suggest_loguniform('lambda_l1', 1e-2, 10.0),\n",
    "        'lambda_l2': trial.suggest_loguniform('lambda_l2', 1e-2, 10.0),\n",
    "        'num_leaves': trial.suggest_int('num_leaves', 2, 32),\n",
    "        'feature_fraction': trial.suggest_uniform('feature_fraction', 0.4, 1.0),\n",
    "        'bagging_fraction': trial.suggest_uniform('bagging_fraction', 0.4, 1.0),\n",
    "        'bagging_freq': trial.suggest_int('bagging_freq', 1, 7),\n",
    "        'min_child_samples': trial.suggest_int('min_child_samples', 5, 100),\n",
    "        'verbose': -1,\n",
    "    }\n",
    "\n",
    "    metric = []\n",
    "    imp = pd.DataFrame()\n",
    "    n_splits = 5\n",
    "    cv = StratifiedKFold(n_splits=n_splits, shuffle=True, random_state=123)\n",
    "\n",
    "    for nfold, (train_index, val_index) in enumerate(cv.split(x_train, y_train)):\n",
    "        print('-'*20, nfold, '-'*20)\n",
    "        x_tr, y_tr = x_train.iloc[train_index], y_train.iloc[train_index]\n",
    "        x_va, y_va = x_train.iloc[val_index], y_train.iloc[val_index]\n",
    "\n",
    "        model = lgb.LGBMClassifier(**lgbm_params)\n",
    "        model.fit(\n",
    "            x_tr, y_tr,\n",
    "            eval_set=[(x_tr, y_tr), (x_va, y_va)],\n",
    "            callbacks=[\n",
    "                lgb.callback.early_stopping(stopping_rounds=100),\n",
    "                lgb.callback.log_evaluation(period=100)\n",
    "            ]\n",
    "        )\n",
    "        \n",
    "        y_tr_pred = model.predict_proba(x_tr)[:, 1]\n",
    "        y_va_pred = model.predict_proba(x_va)[:, 1]\n",
    "        \n",
    "        metric_tr = roc_auc_score(y_tr, y_tr_pred)\n",
    "        metric_va = roc_auc_score(y_va, y_va_pred)\n",
    "\n",
    "        metric.append((nfold, metric_tr, metric_va))\n",
    "        \n",
    "        print(\"Tr:\", metric_tr)\n",
    "        print(\"Va:\", metric_va)\n",
    "        \n",
    "        _imp = pd.DataFrame({\n",
    "            'col': x_train.columns,\n",
    "            'imp': model.feature_importances_,\n",
    "            'fold': nfold\n",
    "        })\n",
    "        imp = pd.concat([imp, _imp], axis=0, ignore_index=True)\n",
    "\n",
    "    print('-'*50)\n",
    "    print(pd.DataFrame(metric, columns=[\"Fold\", \"Train\", \"Va\"]))\n",
    "    print('-'*50)\n",
    "\n",
    "    metric = np.array(metric)\n",
    "    print('[tr]: {:3f}+-{:2f}'.format(metric[:, 1].mean(), metric[:, 1].std()), '[va]: {:3f}+-{:2f}'.format(metric[:, 2].mean(), metric[:, 2].std()))\n",
    "\n",
    "    return np.mean(metric[:, 2])  # Return the validation AUC as the optimization target\n",
    "\n",
    "# Optunaでのハイパーパラメータ最適化\n",
    "study = optuna.create_study(direction=\"maximize\")\n",
    "study.optimize(lambda trial: objective(trial, x_train, y_train), n_trials=10)\n",
    "\n",
    "# 最良のパラメータをリストに格納\n",
    "params_list = [trial.params for trial in study.trials]\n",
    "\n",
    "# 結果表示\n",
    "print(\"Best Parameters: \", study.best_params)\n",
    "print(\"Best Value: \", study.best_value)\n",
    "\n",
    "# 選択した範囲のRMSLEスコアを格納するリスト（必要に応じて）\n",
    "valid_params_with_rmsle = []\n",
    "\n",
    "# ここで特徴量の重要度を保存して後で分析する\n",
    "imp = imp.groupby('col').agg({'imp': 'mean'}).reset_index()\n",
    "print(\"Feature Importances:\")\n",
    "print(imp.sort_values(by='imp', ascending=False))\n"
   ]
  },
  {
   "cell_type": "code",
   "execution_count": 48,
   "id": "b36df393",
   "metadata": {
    "execution": {
     "iopub.execute_input": "2024-12-16T13:09:48.202422Z",
     "iopub.status.busy": "2024-12-16T13:09:48.201975Z",
     "iopub.status.idle": "2024-12-16T13:09:52.047009Z",
     "shell.execute_reply": "2024-12-16T13:09:52.045939Z"
    },
    "papermill": {
     "duration": 3.89605,
     "end_time": "2024-12-16T13:09:52.049389",
     "exception": false,
     "start_time": "2024-12-16T13:09:48.153339",
     "status": "completed"
    },
    "tags": []
   },
   "outputs": [
    {
     "name": "stdout",
     "output_type": "stream",
     "text": [
      "[LightGBM] [Warning] bagging_freq is set=4, subsample_freq=0 will be ignored. Current value: bagging_freq=4\n",
      "[LightGBM] [Warning] min_data_in_leaf is set=100, min_child_samples=20 will be ignored. Current value: min_data_in_leaf=100\n",
      "[LightGBM] [Warning] feature_fraction is set=0.6, colsample_bytree=1.0 will be ignored. Current value: feature_fraction=0.6\n",
      "[LightGBM] [Warning] lambda_l2 is set=0.5, reg_lambda=0.0 will be ignored. Current value: lambda_l2=0.5\n",
      "[LightGBM] [Warning] lambda_l1 is set=0.1, reg_alpha=0.0 will be ignored. Current value: lambda_l1=0.1\n",
      "[LightGBM] [Warning] bagging_fraction is set=0.6, subsample=1.0 will be ignored. Current value: bagging_fraction=0.6\n"
     ]
    },
    {
     "data": {
      "text/html": [
       "<div>\n",
       "<style scoped>\n",
       "    .dataframe tbody tr th:only-of-type {\n",
       "        vertical-align: middle;\n",
       "    }\n",
       "\n",
       "    .dataframe tbody tr th {\n",
       "        vertical-align: top;\n",
       "    }\n",
       "\n",
       "    .dataframe thead th {\n",
       "        text-align: right;\n",
       "    }\n",
       "</style>\n",
       "<table border=\"1\" class=\"dataframe\">\n",
       "  <thead>\n",
       "    <tr style=\"text-align: right;\">\n",
       "      <th></th>\n",
       "      <th>id</th>\n",
       "      <th>Exited</th>\n",
       "    </tr>\n",
       "  </thead>\n",
       "  <tbody>\n",
       "    <tr>\n",
       "      <th>0</th>\n",
       "      <td>165034</td>\n",
       "      <td>0.025022</td>\n",
       "    </tr>\n",
       "    <tr>\n",
       "      <th>1</th>\n",
       "      <td>165035</td>\n",
       "      <td>0.790352</td>\n",
       "    </tr>\n",
       "    <tr>\n",
       "      <th>2</th>\n",
       "      <td>165036</td>\n",
       "      <td>0.022825</td>\n",
       "    </tr>\n",
       "    <tr>\n",
       "      <th>3</th>\n",
       "      <td>165037</td>\n",
       "      <td>0.239463</td>\n",
       "    </tr>\n",
       "    <tr>\n",
       "      <th>4</th>\n",
       "      <td>165038</td>\n",
       "      <td>0.340465</td>\n",
       "    </tr>\n",
       "  </tbody>\n",
       "</table>\n",
       "</div>"
      ],
      "text/plain": [
       "       id    Exited\n",
       "0  165034  0.025022\n",
       "1  165035  0.790352\n",
       "2  165036  0.022825\n",
       "3  165037  0.239463\n",
       "4  165038  0.340465"
      ]
     },
     "execution_count": 48,
     "metadata": {},
     "output_type": "execute_result"
    }
   ],
   "source": [
    "y_pred_prob = model.predict_proba(test_df[features])[:, 1]  \n",
    "\n",
    "\n",
    "sub = pd.read_csv('/kaggle/input/playground-series-s4e1/sample_submission.csv')\n",
    "test_ids = sub['id'] \n",
    "\n",
    "submission = pd.DataFrame({\n",
    "    'id': test_ids,\n",
    "    'Exited': y_pred_prob\n",
    "})\n",
    "\n",
    "submission_name = \"bank_submission4\"\n",
    "\n",
    "submission.to_csv(f'{submission_name}.csv', index=False)\n",
    "submission.head()"
   ]
  }
 ],
 "metadata": {
  "kaggle": {
   "accelerator": "none",
   "dataSources": [
    {
     "databundleVersionId": 7405009,
     "sourceId": 65711,
     "sourceType": "competition"
    }
   ],
   "dockerImageVersionId": 30804,
   "isGpuEnabled": false,
   "isInternetEnabled": false,
   "language": "python",
   "sourceType": "notebook"
  },
  "kernelspec": {
   "display_name": "Python 3",
   "language": "python",
   "name": "python3"
  },
  "language_info": {
   "codemirror_mode": {
    "name": "ipython",
    "version": 3
   },
   "file_extension": ".py",
   "mimetype": "text/x-python",
   "name": "python",
   "nbconvert_exporter": "python",
   "pygments_lexer": "ipython3",
   "version": "3.10.14"
  },
  "papermill": {
   "default_parameters": {},
   "duration": 444.025916,
   "end_time": "2024-12-16T13:09:53.016983",
   "environment_variables": {},
   "exception": null,
   "input_path": "__notebook__.ipynb",
   "output_path": "__notebook__.ipynb",
   "parameters": {},
   "start_time": "2024-12-16T13:02:28.991067",
   "version": "2.6.0"
  }
 },
 "nbformat": 4,
 "nbformat_minor": 5
}
