{
 "cells": [
  {
   "cell_type": "markdown",
   "id": "5eec071e",
   "metadata": {
    "papermill": {
     "duration": 0.011785,
     "end_time": "2024-12-09T14:46:09.958052",
     "exception": false,
     "start_time": "2024-12-09T14:46:09.946267",
     "status": "completed"
    },
    "tags": []
   },
   "source": [
    "# ライブラリのインポート"
   ]
  },
  {
   "cell_type": "code",
   "execution_count": 1,
   "id": "9fd4089b",
   "metadata": {
    "execution": {
     "iopub.execute_input": "2024-12-09T14:46:09.983113Z",
     "iopub.status.busy": "2024-12-09T14:46:09.982588Z",
     "iopub.status.idle": "2024-12-09T14:46:14.238449Z",
     "shell.execute_reply": "2024-12-09T14:46:14.237149Z"
    },
    "papermill": {
     "duration": 4.271259,
     "end_time": "2024-12-09T14:46:14.241336",
     "exception": false,
     "start_time": "2024-12-09T14:46:09.970077",
     "status": "completed"
    },
    "tags": []
   },
   "outputs": [],
   "source": [
    "import numpy as np\n",
    "import pandas as pd\n",
    "import matplotlib.pyplot as plt\n",
    "import seaborn as sns\n",
    "\n",
    "from sklearn.preprocessing import LabelEncoder\n",
    "\n",
    "import lightgbm as lgb\n",
    "from lightgbm import LGBMClassifier\n",
    "from sklearn.model_selection import train_test_split, StratifiedKFold\n",
    "from sklearn.metrics import accuracy_score\n",
    "from sklearn.metrics import roc_auc_score\n",
    "\n",
    "import warnings\n",
    "warnings.filterwarnings('ignore')\n",
    "\n",
    "%matplotlib inline"
   ]
  },
  {
   "cell_type": "markdown",
   "id": "0492560e",
   "metadata": {
    "papermill": {
     "duration": 0.013089,
     "end_time": "2024-12-09T14:46:14.266941",
     "exception": false,
     "start_time": "2024-12-09T14:46:14.253852",
     "status": "completed"
    },
    "tags": []
   },
   "source": [
    "# データの読み込み"
   ]
  },
  {
   "cell_type": "code",
   "execution_count": 2,
   "id": "8d28f010",
   "metadata": {
    "execution": {
     "iopub.execute_input": "2024-12-09T14:46:14.292532Z",
     "iopub.status.busy": "2024-12-09T14:46:14.291832Z",
     "iopub.status.idle": "2024-12-09T14:46:14.745181Z",
     "shell.execute_reply": "2024-12-09T14:46:14.743638Z"
    },
    "papermill": {
     "duration": 0.468822,
     "end_time": "2024-12-09T14:46:14.747875",
     "exception": false,
     "start_time": "2024-12-09T14:46:14.279053",
     "status": "completed"
    },
    "tags": []
   },
   "outputs": [
    {
     "data": {
      "text/html": [
       "<div>\n",
       "<style scoped>\n",
       "    .dataframe tbody tr th:only-of-type {\n",
       "        vertical-align: middle;\n",
       "    }\n",
       "\n",
       "    .dataframe tbody tr th {\n",
       "        vertical-align: top;\n",
       "    }\n",
       "\n",
       "    .dataframe thead th {\n",
       "        text-align: right;\n",
       "    }\n",
       "</style>\n",
       "<table border=\"1\" class=\"dataframe\">\n",
       "  <thead>\n",
       "    <tr style=\"text-align: right;\">\n",
       "      <th></th>\n",
       "      <th>id</th>\n",
       "      <th>CustomerId</th>\n",
       "      <th>Surname</th>\n",
       "      <th>CreditScore</th>\n",
       "      <th>Geography</th>\n",
       "      <th>Gender</th>\n",
       "      <th>Age</th>\n",
       "      <th>Tenure</th>\n",
       "      <th>Balance</th>\n",
       "      <th>NumOfProducts</th>\n",
       "      <th>HasCrCard</th>\n",
       "      <th>IsActiveMember</th>\n",
       "      <th>EstimatedSalary</th>\n",
       "      <th>Exited</th>\n",
       "    </tr>\n",
       "  </thead>\n",
       "  <tbody>\n",
       "    <tr>\n",
       "      <th>0</th>\n",
       "      <td>0</td>\n",
       "      <td>15674932</td>\n",
       "      <td>Okwudilichukwu</td>\n",
       "      <td>668</td>\n",
       "      <td>France</td>\n",
       "      <td>Male</td>\n",
       "      <td>33.0</td>\n",
       "      <td>3</td>\n",
       "      <td>0.00</td>\n",
       "      <td>2</td>\n",
       "      <td>1.0</td>\n",
       "      <td>0.0</td>\n",
       "      <td>181449.97</td>\n",
       "      <td>0</td>\n",
       "    </tr>\n",
       "    <tr>\n",
       "      <th>1</th>\n",
       "      <td>1</td>\n",
       "      <td>15749177</td>\n",
       "      <td>Okwudiliolisa</td>\n",
       "      <td>627</td>\n",
       "      <td>France</td>\n",
       "      <td>Male</td>\n",
       "      <td>33.0</td>\n",
       "      <td>1</td>\n",
       "      <td>0.00</td>\n",
       "      <td>2</td>\n",
       "      <td>1.0</td>\n",
       "      <td>1.0</td>\n",
       "      <td>49503.50</td>\n",
       "      <td>0</td>\n",
       "    </tr>\n",
       "    <tr>\n",
       "      <th>2</th>\n",
       "      <td>2</td>\n",
       "      <td>15694510</td>\n",
       "      <td>Hsueh</td>\n",
       "      <td>678</td>\n",
       "      <td>France</td>\n",
       "      <td>Male</td>\n",
       "      <td>40.0</td>\n",
       "      <td>10</td>\n",
       "      <td>0.00</td>\n",
       "      <td>2</td>\n",
       "      <td>1.0</td>\n",
       "      <td>0.0</td>\n",
       "      <td>184866.69</td>\n",
       "      <td>0</td>\n",
       "    </tr>\n",
       "    <tr>\n",
       "      <th>3</th>\n",
       "      <td>3</td>\n",
       "      <td>15741417</td>\n",
       "      <td>Kao</td>\n",
       "      <td>581</td>\n",
       "      <td>France</td>\n",
       "      <td>Male</td>\n",
       "      <td>34.0</td>\n",
       "      <td>2</td>\n",
       "      <td>148882.54</td>\n",
       "      <td>1</td>\n",
       "      <td>1.0</td>\n",
       "      <td>1.0</td>\n",
       "      <td>84560.88</td>\n",
       "      <td>0</td>\n",
       "    </tr>\n",
       "    <tr>\n",
       "      <th>4</th>\n",
       "      <td>4</td>\n",
       "      <td>15766172</td>\n",
       "      <td>Chiemenam</td>\n",
       "      <td>716</td>\n",
       "      <td>Spain</td>\n",
       "      <td>Male</td>\n",
       "      <td>33.0</td>\n",
       "      <td>5</td>\n",
       "      <td>0.00</td>\n",
       "      <td>2</td>\n",
       "      <td>1.0</td>\n",
       "      <td>1.0</td>\n",
       "      <td>15068.83</td>\n",
       "      <td>0</td>\n",
       "    </tr>\n",
       "  </tbody>\n",
       "</table>\n",
       "</div>"
      ],
      "text/plain": [
       "   id  CustomerId         Surname  CreditScore Geography Gender   Age  Tenure  \\\n",
       "0   0    15674932  Okwudilichukwu          668    France   Male  33.0       3   \n",
       "1   1    15749177   Okwudiliolisa          627    France   Male  33.0       1   \n",
       "2   2    15694510           Hsueh          678    France   Male  40.0      10   \n",
       "3   3    15741417             Kao          581    France   Male  34.0       2   \n",
       "4   4    15766172       Chiemenam          716     Spain   Male  33.0       5   \n",
       "\n",
       "     Balance  NumOfProducts  HasCrCard  IsActiveMember  EstimatedSalary  \\\n",
       "0       0.00              2        1.0             0.0        181449.97   \n",
       "1       0.00              2        1.0             1.0         49503.50   \n",
       "2       0.00              2        1.0             0.0        184866.69   \n",
       "3  148882.54              1        1.0             1.0         84560.88   \n",
       "4       0.00              2        1.0             1.0         15068.83   \n",
       "\n",
       "   Exited  \n",
       "0       0  \n",
       "1       0  \n",
       "2       0  \n",
       "3       0  \n",
       "4       0  "
      ]
     },
     "execution_count": 2,
     "metadata": {},
     "output_type": "execute_result"
    }
   ],
   "source": [
    "train_df = pd.read_csv('/kaggle/input/playground-series-s4e1/train.csv')\n",
    "train_df.head()"
   ]
  },
  {
   "cell_type": "code",
   "execution_count": 3,
   "id": "e65e3d14",
   "metadata": {
    "execution": {
     "iopub.execute_input": "2024-12-09T14:46:14.776494Z",
     "iopub.status.busy": "2024-12-09T14:46:14.776052Z",
     "iopub.status.idle": "2024-12-09T14:46:15.024467Z",
     "shell.execute_reply": "2024-12-09T14:46:15.023106Z"
    },
    "papermill": {
     "duration": 0.265354,
     "end_time": "2024-12-09T14:46:15.026993",
     "exception": false,
     "start_time": "2024-12-09T14:46:14.761639",
     "status": "completed"
    },
    "tags": []
   },
   "outputs": [
    {
     "data": {
      "text/html": [
       "<div>\n",
       "<style scoped>\n",
       "    .dataframe tbody tr th:only-of-type {\n",
       "        vertical-align: middle;\n",
       "    }\n",
       "\n",
       "    .dataframe tbody tr th {\n",
       "        vertical-align: top;\n",
       "    }\n",
       "\n",
       "    .dataframe thead th {\n",
       "        text-align: right;\n",
       "    }\n",
       "</style>\n",
       "<table border=\"1\" class=\"dataframe\">\n",
       "  <thead>\n",
       "    <tr style=\"text-align: right;\">\n",
       "      <th></th>\n",
       "      <th>id</th>\n",
       "      <th>CustomerId</th>\n",
       "      <th>Surname</th>\n",
       "      <th>CreditScore</th>\n",
       "      <th>Geography</th>\n",
       "      <th>Gender</th>\n",
       "      <th>Age</th>\n",
       "      <th>Tenure</th>\n",
       "      <th>Balance</th>\n",
       "      <th>NumOfProducts</th>\n",
       "      <th>HasCrCard</th>\n",
       "      <th>IsActiveMember</th>\n",
       "      <th>EstimatedSalary</th>\n",
       "    </tr>\n",
       "  </thead>\n",
       "  <tbody>\n",
       "    <tr>\n",
       "      <th>0</th>\n",
       "      <td>165034</td>\n",
       "      <td>15773898</td>\n",
       "      <td>Lucchese</td>\n",
       "      <td>586</td>\n",
       "      <td>France</td>\n",
       "      <td>Female</td>\n",
       "      <td>23.0</td>\n",
       "      <td>2</td>\n",
       "      <td>0.00</td>\n",
       "      <td>2</td>\n",
       "      <td>0.0</td>\n",
       "      <td>1.0</td>\n",
       "      <td>160976.75</td>\n",
       "    </tr>\n",
       "    <tr>\n",
       "      <th>1</th>\n",
       "      <td>165035</td>\n",
       "      <td>15782418</td>\n",
       "      <td>Nott</td>\n",
       "      <td>683</td>\n",
       "      <td>France</td>\n",
       "      <td>Female</td>\n",
       "      <td>46.0</td>\n",
       "      <td>2</td>\n",
       "      <td>0.00</td>\n",
       "      <td>1</td>\n",
       "      <td>1.0</td>\n",
       "      <td>0.0</td>\n",
       "      <td>72549.27</td>\n",
       "    </tr>\n",
       "    <tr>\n",
       "      <th>2</th>\n",
       "      <td>165036</td>\n",
       "      <td>15807120</td>\n",
       "      <td>K?</td>\n",
       "      <td>656</td>\n",
       "      <td>France</td>\n",
       "      <td>Female</td>\n",
       "      <td>34.0</td>\n",
       "      <td>7</td>\n",
       "      <td>0.00</td>\n",
       "      <td>2</td>\n",
       "      <td>1.0</td>\n",
       "      <td>0.0</td>\n",
       "      <td>138882.09</td>\n",
       "    </tr>\n",
       "    <tr>\n",
       "      <th>3</th>\n",
       "      <td>165037</td>\n",
       "      <td>15808905</td>\n",
       "      <td>O'Donnell</td>\n",
       "      <td>681</td>\n",
       "      <td>France</td>\n",
       "      <td>Male</td>\n",
       "      <td>36.0</td>\n",
       "      <td>8</td>\n",
       "      <td>0.00</td>\n",
       "      <td>1</td>\n",
       "      <td>1.0</td>\n",
       "      <td>0.0</td>\n",
       "      <td>113931.57</td>\n",
       "    </tr>\n",
       "    <tr>\n",
       "      <th>4</th>\n",
       "      <td>165038</td>\n",
       "      <td>15607314</td>\n",
       "      <td>Higgins</td>\n",
       "      <td>752</td>\n",
       "      <td>Germany</td>\n",
       "      <td>Male</td>\n",
       "      <td>38.0</td>\n",
       "      <td>10</td>\n",
       "      <td>121263.62</td>\n",
       "      <td>1</td>\n",
       "      <td>1.0</td>\n",
       "      <td>0.0</td>\n",
       "      <td>139431.00</td>\n",
       "    </tr>\n",
       "  </tbody>\n",
       "</table>\n",
       "</div>"
      ],
      "text/plain": [
       "       id  CustomerId    Surname  CreditScore Geography  Gender   Age  Tenure  \\\n",
       "0  165034    15773898   Lucchese          586    France  Female  23.0       2   \n",
       "1  165035    15782418       Nott          683    France  Female  46.0       2   \n",
       "2  165036    15807120         K?          656    France  Female  34.0       7   \n",
       "3  165037    15808905  O'Donnell          681    France    Male  36.0       8   \n",
       "4  165038    15607314    Higgins          752   Germany    Male  38.0      10   \n",
       "\n",
       "     Balance  NumOfProducts  HasCrCard  IsActiveMember  EstimatedSalary  \n",
       "0       0.00              2        0.0             1.0        160976.75  \n",
       "1       0.00              1        1.0             0.0         72549.27  \n",
       "2       0.00              2        1.0             0.0        138882.09  \n",
       "3       0.00              1        1.0             0.0        113931.57  \n",
       "4  121263.62              1        1.0             0.0        139431.00  "
      ]
     },
     "execution_count": 3,
     "metadata": {},
     "output_type": "execute_result"
    }
   ],
   "source": [
    "test_df = pd.read_csv('/kaggle/input/playground-series-s4e1/test.csv')\n",
    "test_df.head()"
   ]
  },
  {
   "cell_type": "markdown",
   "id": "9dc2a340",
   "metadata": {
    "papermill": {
     "duration": 0.011926,
     "end_time": "2024-12-09T14:46:15.050511",
     "exception": false,
     "start_time": "2024-12-09T14:46:15.038585",
     "status": "completed"
    },
    "tags": []
   },
   "source": [
    "# 簡単なデータの確認"
   ]
  },
  {
   "cell_type": "code",
   "execution_count": 4,
   "id": "d8181cb5",
   "metadata": {
    "execution": {
     "iopub.execute_input": "2024-12-09T14:46:15.077205Z",
     "iopub.status.busy": "2024-12-09T14:46:15.076763Z",
     "iopub.status.idle": "2024-12-09T14:46:15.272508Z",
     "shell.execute_reply": "2024-12-09T14:46:15.271115Z"
    },
    "papermill": {
     "duration": 0.211308,
     "end_time": "2024-12-09T14:46:15.275106",
     "exception": false,
     "start_time": "2024-12-09T14:46:15.063798",
     "status": "completed"
    },
    "tags": []
   },
   "outputs": [
    {
     "name": "stdout",
     "output_type": "stream",
     "text": [
      "(index, col) : (165034, 14)\n"
     ]
    },
    {
     "data": {
      "text/html": [
       "<div>\n",
       "<style scoped>\n",
       "    .dataframe tbody tr th:only-of-type {\n",
       "        vertical-align: middle;\n",
       "    }\n",
       "\n",
       "    .dataframe tbody tr th {\n",
       "        vertical-align: top;\n",
       "    }\n",
       "\n",
       "    .dataframe thead th {\n",
       "        text-align: right;\n",
       "    }\n",
       "</style>\n",
       "<table border=\"1\" class=\"dataframe\">\n",
       "  <thead>\n",
       "    <tr style=\"text-align: right;\">\n",
       "      <th></th>\n",
       "      <th>dtypes</th>\n",
       "      <th>NaN Count</th>\n",
       "      <th>Nunique</th>\n",
       "      <th>Unique Values</th>\n",
       "    </tr>\n",
       "  </thead>\n",
       "  <tbody>\n",
       "    <tr>\n",
       "      <th>id</th>\n",
       "      <td>int64</td>\n",
       "      <td>0</td>\n",
       "      <td>165034</td>\n",
       "      <td>[0, 1, 2, 3, 4, 5, 6, 7, 8, 9, 10, 11, 12, 13,...</td>\n",
       "    </tr>\n",
       "    <tr>\n",
       "      <th>CustomerId</th>\n",
       "      <td>int64</td>\n",
       "      <td>0</td>\n",
       "      <td>23221</td>\n",
       "      <td>[15674932, 15749177, 15694510, 15741417, 15766...</td>\n",
       "    </tr>\n",
       "    <tr>\n",
       "      <th>Surname</th>\n",
       "      <td>object</td>\n",
       "      <td>0</td>\n",
       "      <td>2797</td>\n",
       "      <td>[Okwudilichukwu, Okwudiliolisa, Hsueh, Kao, Ch...</td>\n",
       "    </tr>\n",
       "    <tr>\n",
       "      <th>CreditScore</th>\n",
       "      <td>int64</td>\n",
       "      <td>0</td>\n",
       "      <td>457</td>\n",
       "      <td>[668, 627, 678, 581, 716, 588, 593, 676, 583, ...</td>\n",
       "    </tr>\n",
       "    <tr>\n",
       "      <th>Geography</th>\n",
       "      <td>object</td>\n",
       "      <td>0</td>\n",
       "      <td>3</td>\n",
       "      <td>[France, Spain, Germany]</td>\n",
       "    </tr>\n",
       "    <tr>\n",
       "      <th>Gender</th>\n",
       "      <td>object</td>\n",
       "      <td>0</td>\n",
       "      <td>2</td>\n",
       "      <td>[Male, Female]</td>\n",
       "    </tr>\n",
       "    <tr>\n",
       "      <th>Age</th>\n",
       "      <td>float64</td>\n",
       "      <td>0</td>\n",
       "      <td>71</td>\n",
       "      <td>[33.0, 40.0, 34.0, 36.0, 30.0, 37.0, 43.0, 27....</td>\n",
       "    </tr>\n",
       "    <tr>\n",
       "      <th>Tenure</th>\n",
       "      <td>int64</td>\n",
       "      <td>0</td>\n",
       "      <td>11</td>\n",
       "      <td>[3, 1, 10, 2, 5, 4, 8, 6, 9, 7, 0]</td>\n",
       "    </tr>\n",
       "    <tr>\n",
       "      <th>Balance</th>\n",
       "      <td>float64</td>\n",
       "      <td>0</td>\n",
       "      <td>30075</td>\n",
       "      <td>[0.0, 148882.54, 131778.58, 144772.69, 138476....</td>\n",
       "    </tr>\n",
       "    <tr>\n",
       "      <th>NumOfProducts</th>\n",
       "      <td>int64</td>\n",
       "      <td>0</td>\n",
       "      <td>4</td>\n",
       "      <td>[2, 1, 3, 4]</td>\n",
       "    </tr>\n",
       "    <tr>\n",
       "      <th>HasCrCard</th>\n",
       "      <td>float64</td>\n",
       "      <td>0</td>\n",
       "      <td>2</td>\n",
       "      <td>[1.0, 0.0]</td>\n",
       "    </tr>\n",
       "    <tr>\n",
       "      <th>IsActiveMember</th>\n",
       "      <td>float64</td>\n",
       "      <td>0</td>\n",
       "      <td>2</td>\n",
       "      <td>[0.0, 1.0]</td>\n",
       "    </tr>\n",
       "    <tr>\n",
       "      <th>EstimatedSalary</th>\n",
       "      <td>float64</td>\n",
       "      <td>0</td>\n",
       "      <td>55298</td>\n",
       "      <td>[181449.97, 49503.5, 184866.69, 84560.88, 1506...</td>\n",
       "    </tr>\n",
       "    <tr>\n",
       "      <th>Exited</th>\n",
       "      <td>int64</td>\n",
       "      <td>0</td>\n",
       "      <td>2</td>\n",
       "      <td>[0, 1]</td>\n",
       "    </tr>\n",
       "  </tbody>\n",
       "</table>\n",
       "</div>"
      ],
      "text/plain": [
       "                  dtypes  NaN Count  Nunique  \\\n",
       "id                 int64          0   165034   \n",
       "CustomerId         int64          0    23221   \n",
       "Surname           object          0     2797   \n",
       "CreditScore        int64          0      457   \n",
       "Geography         object          0        3   \n",
       "Gender            object          0        2   \n",
       "Age              float64          0       71   \n",
       "Tenure             int64          0       11   \n",
       "Balance          float64          0    30075   \n",
       "NumOfProducts      int64          0        4   \n",
       "HasCrCard        float64          0        2   \n",
       "IsActiveMember   float64          0        2   \n",
       "EstimatedSalary  float64          0    55298   \n",
       "Exited             int64          0        2   \n",
       "\n",
       "                                                     Unique Values  \n",
       "id               [0, 1, 2, 3, 4, 5, 6, 7, 8, 9, 10, 11, 12, 13,...  \n",
       "CustomerId       [15674932, 15749177, 15694510, 15741417, 15766...  \n",
       "Surname          [Okwudilichukwu, Okwudiliolisa, Hsueh, Kao, Ch...  \n",
       "CreditScore      [668, 627, 678, 581, 716, 588, 593, 676, 583, ...  \n",
       "Geography                                 [France, Spain, Germany]  \n",
       "Gender                                              [Male, Female]  \n",
       "Age              [33.0, 40.0, 34.0, 36.0, 30.0, 37.0, 43.0, 27....  \n",
       "Tenure                          [3, 1, 10, 2, 5, 4, 8, 6, 9, 7, 0]  \n",
       "Balance          [0.0, 148882.54, 131778.58, 144772.69, 138476....  \n",
       "NumOfProducts                                         [2, 1, 3, 4]  \n",
       "HasCrCard                                               [1.0, 0.0]  \n",
       "IsActiveMember                                          [0.0, 1.0]  \n",
       "EstimatedSalary  [181449.97, 49503.5, 184866.69, 84560.88, 1506...  \n",
       "Exited                                                      [0, 1]  "
      ]
     },
     "execution_count": 4,
     "metadata": {},
     "output_type": "execute_result"
    }
   ],
   "source": [
    "def information_df(df):\n",
    "    pd.set_option('display.max_rows', None)\n",
    "    type_series = df.dtypes\n",
    "    nunique_series = df.nunique()\n",
    "    nan_count_series = df.isnull().sum()\n",
    "    unique_values_series = df.apply(lambda col: list(col.unique()))\n",
    "    info_df = pd.DataFrame({\n",
    "        'dtypes': type_series,\n",
    "        'NaN Count': nan_count_series,\n",
    "        'Nunique': nunique_series,\n",
    "        'Unique Values': unique_values_series,\n",
    "    })\n",
    "    print(f'(index, col) : {df.shape}')\n",
    "    return info_df\n",
    "\n",
    "information_df(train_df)"
   ]
  },
  {
   "cell_type": "code",
   "execution_count": 5,
   "id": "30b08b5b",
   "metadata": {
    "execution": {
     "iopub.execute_input": "2024-12-09T14:46:15.300228Z",
     "iopub.status.busy": "2024-12-09T14:46:15.299200Z",
     "iopub.status.idle": "2024-12-09T14:46:15.312223Z",
     "shell.execute_reply": "2024-12-09T14:46:15.311114Z"
    },
    "papermill": {
     "duration": 0.027698,
     "end_time": "2024-12-09T14:46:15.314318",
     "exception": false,
     "start_time": "2024-12-09T14:46:15.286620",
     "status": "completed"
    },
    "tags": []
   },
   "outputs": [
    {
     "data": {
      "text/plain": [
       "Exited\n",
       "0    130113\n",
       "1     34921\n",
       "Name: count, dtype: int64"
      ]
     },
     "execution_count": 5,
     "metadata": {},
     "output_type": "execute_result"
    }
   ],
   "source": [
    "# (0：解約していない、1：解約)\n",
    "train_df['Exited'].value_counts()"
   ]
  },
  {
   "cell_type": "code",
   "execution_count": 6,
   "id": "f3b0f9ef",
   "metadata": {
    "execution": {
     "iopub.execute_input": "2024-12-09T14:46:15.338956Z",
     "iopub.status.busy": "2024-12-09T14:46:15.338550Z",
     "iopub.status.idle": "2024-12-09T14:46:15.470953Z",
     "shell.execute_reply": "2024-12-09T14:46:15.469841Z"
    },
    "papermill": {
     "duration": 0.147869,
     "end_time": "2024-12-09T14:46:15.473518",
     "exception": false,
     "start_time": "2024-12-09T14:46:15.325649",
     "status": "completed"
    },
    "tags": []
   },
   "outputs": [
    {
     "name": "stdout",
     "output_type": "stream",
     "text": [
      "(index, col) : (110023, 13)\n"
     ]
    },
    {
     "data": {
      "text/html": [
       "<div>\n",
       "<style scoped>\n",
       "    .dataframe tbody tr th:only-of-type {\n",
       "        vertical-align: middle;\n",
       "    }\n",
       "\n",
       "    .dataframe tbody tr th {\n",
       "        vertical-align: top;\n",
       "    }\n",
       "\n",
       "    .dataframe thead th {\n",
       "        text-align: right;\n",
       "    }\n",
       "</style>\n",
       "<table border=\"1\" class=\"dataframe\">\n",
       "  <thead>\n",
       "    <tr style=\"text-align: right;\">\n",
       "      <th></th>\n",
       "      <th>dtypes</th>\n",
       "      <th>NaN Count</th>\n",
       "      <th>Nunique</th>\n",
       "      <th>Unique Values</th>\n",
       "    </tr>\n",
       "  </thead>\n",
       "  <tbody>\n",
       "    <tr>\n",
       "      <th>id</th>\n",
       "      <td>int64</td>\n",
       "      <td>0</td>\n",
       "      <td>110023</td>\n",
       "      <td>[165034, 165035, 165036, 165037, 165038, 16503...</td>\n",
       "    </tr>\n",
       "    <tr>\n",
       "      <th>CustomerId</th>\n",
       "      <td>int64</td>\n",
       "      <td>0</td>\n",
       "      <td>19698</td>\n",
       "      <td>[15773898, 15782418, 15807120, 15808905, 15607...</td>\n",
       "    </tr>\n",
       "    <tr>\n",
       "      <th>Surname</th>\n",
       "      <td>object</td>\n",
       "      <td>0</td>\n",
       "      <td>2708</td>\n",
       "      <td>[Lucchese, Nott, K?, O'Donnell, Higgins, Pears...</td>\n",
       "    </tr>\n",
       "    <tr>\n",
       "      <th>CreditScore</th>\n",
       "      <td>int64</td>\n",
       "      <td>0</td>\n",
       "      <td>454</td>\n",
       "      <td>[586, 683, 656, 681, 752, 593, 682, 539, 845, ...</td>\n",
       "    </tr>\n",
       "    <tr>\n",
       "      <th>Geography</th>\n",
       "      <td>object</td>\n",
       "      <td>0</td>\n",
       "      <td>3</td>\n",
       "      <td>[France, Germany, Spain]</td>\n",
       "    </tr>\n",
       "    <tr>\n",
       "      <th>Gender</th>\n",
       "      <td>object</td>\n",
       "      <td>0</td>\n",
       "      <td>2</td>\n",
       "      <td>[Female, Male]</td>\n",
       "    </tr>\n",
       "    <tr>\n",
       "      <th>Age</th>\n",
       "      <td>float64</td>\n",
       "      <td>0</td>\n",
       "      <td>74</td>\n",
       "      <td>[23.0, 46.0, 34.0, 36.0, 38.0, 22.0, 45.0, 47....</td>\n",
       "    </tr>\n",
       "    <tr>\n",
       "      <th>Tenure</th>\n",
       "      <td>int64</td>\n",
       "      <td>0</td>\n",
       "      <td>11</td>\n",
       "      <td>[2, 7, 8, 10, 9, 4, 3, 5, 1, 6, 0]</td>\n",
       "    </tr>\n",
       "    <tr>\n",
       "      <th>Balance</th>\n",
       "      <td>float64</td>\n",
       "      <td>0</td>\n",
       "      <td>22513</td>\n",
       "      <td>[0.0, 121263.62, 111096.91, 130878.75, 135070....</td>\n",
       "    </tr>\n",
       "    <tr>\n",
       "      <th>NumOfProducts</th>\n",
       "      <td>int64</td>\n",
       "      <td>0</td>\n",
       "      <td>4</td>\n",
       "      <td>[2, 1, 4, 3]</td>\n",
       "    </tr>\n",
       "    <tr>\n",
       "      <th>HasCrCard</th>\n",
       "      <td>float64</td>\n",
       "      <td>0</td>\n",
       "      <td>2</td>\n",
       "      <td>[0.0, 1.0]</td>\n",
       "    </tr>\n",
       "    <tr>\n",
       "      <th>IsActiveMember</th>\n",
       "      <td>float64</td>\n",
       "      <td>0</td>\n",
       "      <td>2</td>\n",
       "      <td>[1.0, 0.0]</td>\n",
       "    </tr>\n",
       "    <tr>\n",
       "      <th>EstimatedSalary</th>\n",
       "      <td>float64</td>\n",
       "      <td>0</td>\n",
       "      <td>41670</td>\n",
       "      <td>[160976.75, 72549.27, 138882.09, 113931.57, 13...</td>\n",
       "    </tr>\n",
       "  </tbody>\n",
       "</table>\n",
       "</div>"
      ],
      "text/plain": [
       "                  dtypes  NaN Count  Nunique  \\\n",
       "id                 int64          0   110023   \n",
       "CustomerId         int64          0    19698   \n",
       "Surname           object          0     2708   \n",
       "CreditScore        int64          0      454   \n",
       "Geography         object          0        3   \n",
       "Gender            object          0        2   \n",
       "Age              float64          0       74   \n",
       "Tenure             int64          0       11   \n",
       "Balance          float64          0    22513   \n",
       "NumOfProducts      int64          0        4   \n",
       "HasCrCard        float64          0        2   \n",
       "IsActiveMember   float64          0        2   \n",
       "EstimatedSalary  float64          0    41670   \n",
       "\n",
       "                                                     Unique Values  \n",
       "id               [165034, 165035, 165036, 165037, 165038, 16503...  \n",
       "CustomerId       [15773898, 15782418, 15807120, 15808905, 15607...  \n",
       "Surname          [Lucchese, Nott, K?, O'Donnell, Higgins, Pears...  \n",
       "CreditScore      [586, 683, 656, 681, 752, 593, 682, 539, 845, ...  \n",
       "Geography                                 [France, Germany, Spain]  \n",
       "Gender                                              [Female, Male]  \n",
       "Age              [23.0, 46.0, 34.0, 36.0, 38.0, 22.0, 45.0, 47....  \n",
       "Tenure                          [2, 7, 8, 10, 9, 4, 3, 5, 1, 6, 0]  \n",
       "Balance          [0.0, 121263.62, 111096.91, 130878.75, 135070....  \n",
       "NumOfProducts                                         [2, 1, 4, 3]  \n",
       "HasCrCard                                               [0.0, 1.0]  \n",
       "IsActiveMember                                          [1.0, 0.0]  \n",
       "EstimatedSalary  [160976.75, 72549.27, 138882.09, 113931.57, 13...  "
      ]
     },
     "execution_count": 6,
     "metadata": {},
     "output_type": "execute_result"
    }
   ],
   "source": [
    "information_df(test_df)"
   ]
  },
  {
   "cell_type": "markdown",
   "id": "e41a0f64",
   "metadata": {
    "papermill": {
     "duration": 0.011049,
     "end_time": "2024-12-09T14:46:15.496874",
     "exception": false,
     "start_time": "2024-12-09T14:46:15.485825",
     "status": "completed"
    },
    "tags": []
   },
   "source": [
    "＜データの考察＞\n",
    "* trainとtestともに欠損値はなし\n",
    "* データ数 train:test = 165034:110023（約3/4）\n",
    "* データ型が大きい ➡️　データのメモリを削減する"
   ]
  },
  {
   "cell_type": "markdown",
   "id": "59610aa2",
   "metadata": {
    "papermill": {
     "duration": 0.01122,
     "end_time": "2024-12-09T14:46:15.519706",
     "exception": false,
     "start_time": "2024-12-09T14:46:15.508486",
     "status": "completed"
    },
    "tags": []
   },
   "source": [
    "◎最初の特徴量の確認\n",
    "\n",
    "＜そのまま特徴量にしてもでも良さそうなカラム＞優先度１\n",
    "* Gender:家族で口座を持つ場合は、男性が多く持つイメージ。結婚すると解約するとか。（ヨーロッパで当てはまるかは不明）\n",
    "* Age:年齢が高いほうが、収入や支出が多く、用途に応じて口座数を増やしそう。\n",
    "* Tenure:顧客が銀行を利用している年数。長い人のほうが解約の確率は低そう。（10年までしかないのが気になるが。）\n",
    "* NumOfProducts:顧客が利用する銀行商品の数。多い人は減らし、少ない人は増やす傾向があるはず。\n",
    "\n",
    "\n",
    "＜何らかの変更する必要があるカラム＞優先度２\n",
    "* CreditScore:信用スコアは借り入れの際には大きく影響しそうだが、口座解約につながるかは不明。\n",
    "* Geography:国ごとの特徴はわからない。入れることで確認はしたい。\n",
    "* Balance:顧客の口座残高。多い人のほうが、口座をたたむ確率は低そう。確証はないので調査。\n",
    "* HasCrCard:顧客がクレジットカードを持っているかどうか。一般的に、クレジットカード開設には口座が必要。関連がまだ不明。\n",
    "* IsActiveMember:顧客がアクティブメンバーであるかどうか。activeという定義がわからない。\n",
    "* EstimatedSalary:推定給与。給与と解約関係性がいまいち不明。\n",
    "\n",
    "\n",
    "＜不要そうなカラム＞\n",
    "* id, CustomerId:ランダム要素が大きく、重要度が高くても理屈に合わない。\n",
    "* Surname：家族の場合、影響度がありそうだが、家族の判断がつかないので、入れない。"
   ]
  },
  {
   "cell_type": "markdown",
   "id": "0489f9d7",
   "metadata": {
    "papermill": {
     "duration": 0.012754,
     "end_time": "2024-12-09T14:46:15.544534",
     "exception": false,
     "start_time": "2024-12-09T14:46:15.531780",
     "status": "completed"
    },
    "tags": []
   },
   "source": [
    "以下の情報に合わせて、優先度に合わせて確認する。\n",
    "1. 顧客情報\n",
    "   'id','CustomerId', 'Surname', 'Geography', 'Gender', 'Age', 'EstimatedSalary',\n",
    "2. 銀行の情報\n",
    "   'CreditScore', 'Tenure', 'Balance', 'NumOfProducts', 'HasCrCard',　'IsActiveMember',"
   ]
  },
  {
   "cell_type": "code",
   "execution_count": 7,
   "id": "a99fb391",
   "metadata": {
    "execution": {
     "iopub.execute_input": "2024-12-09T14:46:15.570513Z",
     "iopub.status.busy": "2024-12-09T14:46:15.570100Z",
     "iopub.status.idle": "2024-12-09T14:46:15.581230Z",
     "shell.execute_reply": "2024-12-09T14:46:15.580165Z"
    },
    "jupyter": {
     "source_hidden": true
    },
    "papermill": {
     "duration": 0.027078,
     "end_time": "2024-12-09T14:46:15.583581",
     "exception": false,
     "start_time": "2024-12-09T14:46:15.556503",
     "status": "completed"
    },
    "tags": []
   },
   "outputs": [],
   "source": [
    "def reduce_mem_usage(df):\n",
    "    start_mem = df.memory_usage().sum() / 1024**2\n",
    "    print('Memory usage of dataframe is {:.2f} MB'.format(start_mem))\n",
    "\n",
    "    for col in df.columns:\n",
    "        col_type = df[col].dtype\n",
    "\n",
    "        if col_type != object:\n",
    "            c_min = df[col].min()\n",
    "            c_max = df[col].max()\n",
    "            if str(col_type)[:3] == 'int':\n",
    "                if c_min > np.iinfo(np.int8).min and c_max < np.iinfo(np.int8).max:\n",
    "                    df[col] = df[col].astype(np.int8)\n",
    "                elif c_min > np.iinfo(np.int16).min and c_max < np.iinfo(np.int16).max:\n",
    "                    df[col] = df[col].astype(np.int16)\n",
    "                elif c_min > np.iinfo(np.int32).min and c_max < np.iinfo(np.int32).max:\n",
    "                    df[col] = df[col].astype(np.int32)\n",
    "                elif c_min > np.iinfo(np.int64).min and c_max < np.iinfo(np.int64).max:\n",
    "                    df[col] = df[col].astype(np.int64)  \n",
    "            else:\n",
    "                if c_min > np.finfo(np.float16).min and c_max < np.finfo(np.float16).max:\n",
    "                    df[col] = df[col].astype(np.float16)\n",
    "                elif c_min > np.finfo(np.float32).min and c_max < np.finfo(np.float32).max:\n",
    "                    df[col] = df[col].astype(np.float32)\n",
    "                else:\n",
    "                    df[col] = df[col].astype(np.float64)\n",
    "        else:\n",
    "            df[col] = df[col].astype('category')\n",
    "\n",
    "    end_mem = df.memory_usage().sum() / 1024**2\n",
    "    print('Memory usage after optimization is: {:.2f} MB'.format(end_mem))\n",
    "    print('Decreased by {:.1f}%'.format(100 * (start_mem - end_mem) / start_mem))\n",
    "\n",
    "    return df\n"
   ]
  },
  {
   "cell_type": "code",
   "execution_count": 8,
   "id": "03eb6d9e",
   "metadata": {
    "execution": {
     "iopub.execute_input": "2024-12-09T14:46:15.608684Z",
     "iopub.status.busy": "2024-12-09T14:46:15.608264Z",
     "iopub.status.idle": "2024-12-09T14:46:15.717052Z",
     "shell.execute_reply": "2024-12-09T14:46:15.715895Z"
    },
    "jupyter": {
     "source_hidden": true
    },
    "papermill": {
     "duration": 0.124769,
     "end_time": "2024-12-09T14:46:15.720140",
     "exception": false,
     "start_time": "2024-12-09T14:46:15.595371",
     "status": "completed"
    },
    "tags": []
   },
   "outputs": [
    {
     "name": "stdout",
     "output_type": "stream",
     "text": [
      "Memory usage of dataframe is 17.63 MB\n",
      "Memory usage after optimization is: 4.96 MB\n",
      "Decreased by 71.8%\n",
      "Memory usage of dataframe is 10.91 MB\n",
      "Memory usage after optimization is: 3.23 MB\n",
      "Decreased by 70.4%\n"
     ]
    }
   ],
   "source": [
    "train_df = reduce_mem_usage(train_df)\n",
    "test_df = reduce_mem_usage(test_df)"
   ]
  },
  {
   "cell_type": "markdown",
   "id": "7cdba833",
   "metadata": {
    "papermill": {
     "duration": 0.01143,
     "end_time": "2024-12-09T14:46:15.744227",
     "exception": false,
     "start_time": "2024-12-09T14:46:15.732797",
     "status": "completed"
    },
    "tags": []
   },
   "source": [
    "# １．顧客情報"
   ]
  },
  {
   "cell_type": "code",
   "execution_count": 9,
   "id": "a9a35a88",
   "metadata": {
    "execution": {
     "iopub.execute_input": "2024-12-09T14:46:15.769268Z",
     "iopub.status.busy": "2024-12-09T14:46:15.768877Z",
     "iopub.status.idle": "2024-12-09T14:46:15.781303Z",
     "shell.execute_reply": "2024-12-09T14:46:15.780110Z"
    },
    "jupyter": {
     "source_hidden": true
    },
    "papermill": {
     "duration": 0.027959,
     "end_time": "2024-12-09T14:46:15.783776",
     "exception": false,
     "start_time": "2024-12-09T14:46:15.755817",
     "status": "completed"
    },
    "tags": []
   },
   "outputs": [],
   "source": [
    "\n",
    "def plot_histograms(train_df, col, bins=100):\n",
    "    target = 'Exited'\n",
    "\n",
    "    bins = np.linspace(train_df[col].min(), train_df[col].max(), bins)\n",
    "\n",
    "    data_all = train_df[col]\n",
    "    data_exited_0 = train_df[train_df[target] == 0][col]\n",
    "    data_exited_1 = train_df[train_df[target] == 1][col]\n",
    "    \n",
    "    plt.figure(figsize=(12, 6))\n",
    "    plt.hist(data_all, bins=bins, alpha=0.5, color='green', label='All Data', density=False, edgecolor='black')\n",
    "    plt.hist(data_exited_0, bins=bins, alpha=0.5, color='blue', label='Exited: 0', density=False, edgecolor='black')\n",
    "    plt.hist(data_exited_1, bins=bins, alpha=0.5, color='orange', label='Exited: 1', density=False, edgecolor='black')\n",
    "\n",
    "    plt.xlim(train_df[col].min(), train_df[col].max())\n",
    "    plt.xlabel(col)\n",
    "    plt.ylabel('Frequency')\n",
    "    plt.title(f'Histogram of {col} by Exited')\n",
    "    plt.legend()\n",
    "    plt.show()\n",
    "\n",
    "def barplots(train_df, col):\n",
    "    target = 'Exited'\n",
    "\n",
    "    unique_values = train_df[col].nunique()\n",
    "    counts_exited_0 = train_df[train_df[target] == 0][col].value_counts().sort_index()\n",
    "    counts_exited_1 = train_df[train_df[target] == 1][col].value_counts().sort_index()\n",
    "\n",
    "    bar_width = 0.35\n",
    "    indices = np.arange(len(counts_exited_0))\n",
    "\n",
    "    plt.figure(figsize=(8, 6))\n",
    "    plt.bar(indices, counts_exited_0, bar_width, label='Exited: 0', color='blue', edgecolor='black')\n",
    "    plt.bar(indices + bar_width, counts_exited_1, bar_width, label='Exited: 1', color='orange', edgecolor='black')\n",
    "\n",
    "    plt.xlabel(col)\n",
    "    plt.ylabel('Frequency')\n",
    "    plt.title(f'Bar Chart of {col} by Exited')\n",
    "    plt.xticks(indices + bar_width / 2, counts_exited_0.index)\n",
    "    plt.legend()\n",
    "    plt.show()\n",
    "\n",
    "# def astype_to_float(train_df, test_df, col):\n",
    "#     if train_df[col].dtype == 'object':\n",
    "#         train_df[col] = train_df[col].astype(float)\n",
    "#         test_df[col] = test_df[col].astype(float)\n",
    "\n",
    "def label_encoding(train_df, test_df, col):\n",
    "    if train_df[col].dtype == 'object':\n",
    "        le = LabelEncoder()\n",
    "        train_df[col] = le.fit_transform(train_df[col])\n",
    "        test_df[col] = le.fit_transform(test_df[col])"
   ]
  },
  {
   "cell_type": "code",
   "execution_count": 10,
   "id": "2fb67213",
   "metadata": {
    "execution": {
     "iopub.execute_input": "2024-12-09T14:46:15.809157Z",
     "iopub.status.busy": "2024-12-09T14:46:15.808768Z",
     "iopub.status.idle": "2024-12-09T14:46:16.071344Z",
     "shell.execute_reply": "2024-12-09T14:46:16.069910Z"
    },
    "papermill": {
     "duration": 0.278311,
     "end_time": "2024-12-09T14:46:16.074034",
     "exception": false,
     "start_time": "2024-12-09T14:46:15.795723",
     "status": "completed"
    },
    "tags": []
   },
   "outputs": [
    {
     "data": {
      "image/png": "[encoded data removed]",
      "text/plain": [
       "<Figure size 800x600 with 1 Axes>"
      ]
     },
     "metadata": {},
     "output_type": "display_data"
    }
   ],
   "source": [
    "# 'Geography' (0:Female, 1:Male)\n",
    "label_encoding(train_df, test_df, 'Gender')\n",
    "barplots(train_df, 'Gender')"
   ]
  },
  {
   "cell_type": "markdown",
   "id": "386a1f72",
   "metadata": {
    "papermill": {
     "duration": 0.011927,
     "end_time": "2024-12-09T14:46:16.099154",
     "exception": false,
     "start_time": "2024-12-09T14:46:16.087227",
     "status": "completed"
    },
    "tags": []
   },
   "source": [
    "女性の方が解約率が高い。十分に特徴量をして扱えるはず。"
   ]
  },
  {
   "cell_type": "code",
   "execution_count": 11,
   "id": "94f67f8d",
   "metadata": {
    "execution": {
     "iopub.execute_input": "2024-12-09T14:46:16.126485Z",
     "iopub.status.busy": "2024-12-09T14:46:16.125229Z",
     "iopub.status.idle": "2024-12-09T14:46:16.135517Z",
     "shell.execute_reply": "2024-12-09T14:46:16.134216Z"
    },
    "papermill": {
     "duration": 0.026373,
     "end_time": "2024-12-09T14:46:16.137852",
     "exception": false,
     "start_time": "2024-12-09T14:46:16.111479",
     "status": "completed"
    },
    "tags": []
   },
   "outputs": [
    {
     "name": "stdout",
     "output_type": "stream",
     "text": [
      "18.0\n",
      "92.0\n"
     ]
    }
   ],
   "source": [
    "# 'Age'\n",
    "print(train_df['Age'].min())\n",
    "print(train_df['Age'].max())"
   ]
  },
  {
   "cell_type": "code",
   "execution_count": 12,
   "id": "3efa34f0",
   "metadata": {
    "execution": {
     "iopub.execute_input": "2024-12-09T14:46:16.165155Z",
     "iopub.status.busy": "2024-12-09T14:46:16.164768Z",
     "iopub.status.idle": "2024-12-09T14:46:16.892812Z",
     "shell.execute_reply": "2024-12-09T14:46:16.891655Z"
    },
    "papermill": {
     "duration": 0.744244,
     "end_time": "2024-12-09T14:46:16.895196",
     "exception": false,
     "start_time": "2024-12-09T14:46:16.150952",
     "status": "completed"
    },
    "tags": []
   },
   "outputs": [
    {
     "data": {
      "image/png": "[encoded data removed]",
      "text/plain": [
       "<Figure size 1200x600 with 1 Axes>"
      ]
     },
     "metadata": {},
     "output_type": "display_data"
    }
   ],
   "source": [
    "plot_histograms(train_df, 'Age', bins=75) # 1歳ごと"
   ]
  },
  {
   "cell_type": "markdown",
   "id": "b3f5c10c",
   "metadata": {
    "papermill": {
     "duration": 0.012785,
     "end_time": "2024-12-09T14:46:16.921324",
     "exception": false,
     "start_time": "2024-12-09T14:46:16.908539",
     "status": "completed"
    },
    "tags": []
   },
   "source": [
    "＜考察＞\n",
    "* 中年世代が比較的高い解約数となっている。\n",
    "* 特に、50〜60代前後は解約していない人も少ない。\n",
    "* 年代ごとに傾向が異なるので、ビンニングもありか。\n",
    "* 最大値94はありえない数字ではないので、外れ値の設定はなし。"
   ]
  },
  {
   "cell_type": "code",
   "execution_count": 13,
   "id": "14f435cb",
   "metadata": {
    "execution": {
     "iopub.execute_input": "2024-12-09T14:46:16.949081Z",
     "iopub.status.busy": "2024-12-09T14:46:16.948614Z",
     "iopub.status.idle": "2024-12-09T14:46:17.182496Z",
     "shell.execute_reply": "2024-12-09T14:46:17.181193Z"
    },
    "papermill": {
     "duration": 0.250566,
     "end_time": "2024-12-09T14:46:17.184907",
     "exception": false,
     "start_time": "2024-12-09T14:46:16.934341",
     "status": "completed"
    },
    "tags": []
   },
   "outputs": [
    {
     "data": {
      "image/png": "[encoded data removed]",
      "text/plain": [
       "<Figure size 800x600 with 1 Axes>"
      ]
     },
     "metadata": {},
     "output_type": "display_data"
    }
   ],
   "source": [
    "# Geography\n",
    "label_encoding(train_df, test_df, 'Geography')\n",
    "barplots(train_df, 'Geography')"
   ]
  },
  {
   "cell_type": "code",
   "execution_count": 14,
   "id": "37e8e2da",
   "metadata": {
    "execution": {
     "iopub.execute_input": "2024-12-09T14:46:17.217879Z",
     "iopub.status.busy": "2024-12-09T14:46:17.217502Z",
     "iopub.status.idle": "2024-12-09T14:46:17.259611Z",
     "shell.execute_reply": "2024-12-09T14:46:17.258452Z"
    },
    "papermill": {
     "duration": 0.063063,
     "end_time": "2024-12-09T14:46:17.262009",
     "exception": false,
     "start_time": "2024-12-09T14:46:17.198946",
     "status": "completed"
    },
    "tags": []
   },
   "outputs": [
    {
     "data": {
      "text/html": [
       "<div>\n",
       "<style scoped>\n",
       "    .dataframe tbody tr th:only-of-type {\n",
       "        vertical-align: middle;\n",
       "    }\n",
       "\n",
       "    .dataframe tbody tr th {\n",
       "        vertical-align: top;\n",
       "    }\n",
       "\n",
       "    .dataframe thead th {\n",
       "        text-align: right;\n",
       "    }\n",
       "</style>\n",
       "<table border=\"1\" class=\"dataframe\">\n",
       "  <thead>\n",
       "    <tr style=\"text-align: right;\">\n",
       "      <th>Exited</th>\n",
       "      <th>0</th>\n",
       "      <th>1</th>\n",
       "      <th>Exited_1_ratio</th>\n",
       "    </tr>\n",
       "    <tr>\n",
       "      <th>Geography</th>\n",
       "      <th></th>\n",
       "      <th></th>\n",
       "      <th></th>\n",
       "    </tr>\n",
       "  </thead>\n",
       "  <tbody>\n",
       "    <tr>\n",
       "      <th>France</th>\n",
       "      <td>78643</td>\n",
       "      <td>15572</td>\n",
       "      <td>0.165282</td>\n",
       "    </tr>\n",
       "    <tr>\n",
       "      <th>Germany</th>\n",
       "      <td>21492</td>\n",
       "      <td>13114</td>\n",
       "      <td>0.378952</td>\n",
       "    </tr>\n",
       "    <tr>\n",
       "      <th>Spain</th>\n",
       "      <td>29978</td>\n",
       "      <td>6235</td>\n",
       "      <td>0.172176</td>\n",
       "    </tr>\n",
       "  </tbody>\n",
       "</table>\n",
       "</div>"
      ],
      "text/plain": [
       "Exited         0      1  Exited_1_ratio\n",
       "Geography                              \n",
       "France     78643  15572        0.165282\n",
       "Germany    21492  13114        0.378952\n",
       "Spain      29978   6235        0.172176"
      ]
     },
     "execution_count": 14,
     "metadata": {},
     "output_type": "execute_result"
    }
   ],
   "source": [
    "crosstab_Geography = pd.crosstab(train_df['Geography'], train_df['Exited'])\n",
    "crosstab_Geography['Exited_1_ratio'] = crosstab_Geography[1] / (crosstab_Geography[0] + crosstab_Geography[1])\n",
    "crosstab_Geography"
   ]
  },
  {
   "cell_type": "markdown",
   "id": "476bae64",
   "metadata": {
    "papermill": {
     "duration": 0.01326,
     "end_time": "2024-12-09T14:46:17.289238",
     "exception": false,
     "start_time": "2024-12-09T14:46:17.275978",
     "status": "completed"
    },
    "tags": []
   },
   "source": [
    "＜考察＞\n",
    "\n",
    "* ドイツの解約率が高いことで差別化できている。\n",
    "* フランスとスペインはほぼ同等だが、デン帯におけるフランスの割合が高いなど、差異はあるので特徴量に追加する。"
   ]
  },
  {
   "cell_type": "markdown",
   "id": "53137160",
   "metadata": {
    "papermill": {
     "duration": 0.013145,
     "end_time": "2024-12-09T14:46:17.315965",
     "exception": false,
     "start_time": "2024-12-09T14:46:17.302820",
     "status": "completed"
    },
    "tags": []
   },
   "source": [
    "# ２．銀行の情報"
   ]
  },
  {
   "cell_type": "code",
   "execution_count": 15,
   "id": "3388376e",
   "metadata": {
    "execution": {
     "iopub.execute_input": "2024-12-09T14:46:17.345258Z",
     "iopub.status.busy": "2024-12-09T14:46:17.344884Z",
     "iopub.status.idle": "2024-12-09T14:46:17.697379Z",
     "shell.execute_reply": "2024-12-09T14:46:17.696069Z"
    },
    "papermill": {
     "duration": 0.370036,
     "end_time": "2024-12-09T14:46:17.699585",
     "exception": false,
     "start_time": "2024-12-09T14:46:17.329549",
     "status": "completed"
    },
    "tags": []
   },
   "outputs": [
    {
     "data": {
      "image/png": "[encoded data removed]",
      "text/plain": [
       "<Figure size 1200x600 with 1 Axes>"
      ]
     },
     "metadata": {},
     "output_type": "display_data"
    }
   ],
   "source": [
    "# Tenure\n",
    "plot_histograms(train_df, 'Tenure', bins=11)"
   ]
  },
  {
   "cell_type": "code",
   "execution_count": 16,
   "id": "de09647a",
   "metadata": {
    "execution": {
     "iopub.execute_input": "2024-12-09T14:46:17.730283Z",
     "iopub.status.busy": "2024-12-09T14:46:17.729784Z",
     "iopub.status.idle": "2024-12-09T14:46:17.760002Z",
     "shell.execute_reply": "2024-12-09T14:46:17.758927Z"
    },
    "papermill": {
     "duration": 0.048159,
     "end_time": "2024-12-09T14:46:17.762274",
     "exception": false,
     "start_time": "2024-12-09T14:46:17.714115",
     "status": "completed"
    },
    "tags": []
   },
   "outputs": [
    {
     "data": {
      "text/html": [
       "<div>\n",
       "<style scoped>\n",
       "    .dataframe tbody tr th:only-of-type {\n",
       "        vertical-align: middle;\n",
       "    }\n",
       "\n",
       "    .dataframe tbody tr th {\n",
       "        vertical-align: top;\n",
       "    }\n",
       "\n",
       "    .dataframe thead th {\n",
       "        text-align: right;\n",
       "    }\n",
       "</style>\n",
       "<table border=\"1\" class=\"dataframe\">\n",
       "  <thead>\n",
       "    <tr style=\"text-align: right;\">\n",
       "      <th>Exited</th>\n",
       "      <th>0</th>\n",
       "      <th>1</th>\n",
       "      <th>Exited_1_ratio</th>\n",
       "    </tr>\n",
       "    <tr>\n",
       "      <th>Tenure</th>\n",
       "      <th></th>\n",
       "      <th></th>\n",
       "      <th></th>\n",
       "    </tr>\n",
       "  </thead>\n",
       "  <tbody>\n",
       "    <tr>\n",
       "      <th>0</th>\n",
       "      <td>3731</td>\n",
       "      <td>1276</td>\n",
       "      <td>0.254843</td>\n",
       "    </tr>\n",
       "    <tr>\n",
       "      <th>1</th>\n",
       "      <td>12970</td>\n",
       "      <td>3790</td>\n",
       "      <td>0.226134</td>\n",
       "    </tr>\n",
       "    <tr>\n",
       "      <th>2</th>\n",
       "      <td>14529</td>\n",
       "      <td>3516</td>\n",
       "      <td>0.194846</td>\n",
       "    </tr>\n",
       "    <tr>\n",
       "      <th>3</th>\n",
       "      <td>12820</td>\n",
       "      <td>3810</td>\n",
       "      <td>0.229104</td>\n",
       "    </tr>\n",
       "    <tr>\n",
       "      <th>4</th>\n",
       "      <td>13580</td>\n",
       "      <td>3974</td>\n",
       "      <td>0.226387</td>\n",
       "    </tr>\n",
       "    <tr>\n",
       "      <th>5</th>\n",
       "      <td>13468</td>\n",
       "      <td>3800</td>\n",
       "      <td>0.220060</td>\n",
       "    </tr>\n",
       "    <tr>\n",
       "      <th>6</th>\n",
       "      <td>12677</td>\n",
       "      <td>3145</td>\n",
       "      <td>0.198774</td>\n",
       "    </tr>\n",
       "    <tr>\n",
       "      <th>7</th>\n",
       "      <td>14469</td>\n",
       "      <td>3341</td>\n",
       "      <td>0.187591</td>\n",
       "    </tr>\n",
       "    <tr>\n",
       "      <th>8</th>\n",
       "      <td>14052</td>\n",
       "      <td>3468</td>\n",
       "      <td>0.197945</td>\n",
       "    </tr>\n",
       "    <tr>\n",
       "      <th>9</th>\n",
       "      <td>13165</td>\n",
       "      <td>3544</td>\n",
       "      <td>0.212101</td>\n",
       "    </tr>\n",
       "    <tr>\n",
       "      <th>10</th>\n",
       "      <td>4652</td>\n",
       "      <td>1257</td>\n",
       "      <td>0.212726</td>\n",
       "    </tr>\n",
       "  </tbody>\n",
       "</table>\n",
       "</div>"
      ],
      "text/plain": [
       "Exited      0     1  Exited_1_ratio\n",
       "Tenure                             \n",
       "0        3731  1276        0.254843\n",
       "1       12970  3790        0.226134\n",
       "2       14529  3516        0.194846\n",
       "3       12820  3810        0.229104\n",
       "4       13580  3974        0.226387\n",
       "5       13468  3800        0.220060\n",
       "6       12677  3145        0.198774\n",
       "7       14469  3341        0.187591\n",
       "8       14052  3468        0.197945\n",
       "9       13165  3544        0.212101\n",
       "10       4652  1257        0.212726"
      ]
     },
     "execution_count": 16,
     "metadata": {},
     "output_type": "execute_result"
    }
   ],
   "source": [
    "# それぞれの割合を計算\n",
    "crosstab_Tenure = pd.crosstab(train_df['Tenure'], train_df['Exited'])\n",
    "crosstab_Tenure['Exited_1_ratio'] = crosstab_Tenure[1] / (crosstab_Tenure[0] + crosstab_Tenure[1])\n",
    "crosstab_Tenure"
   ]
  },
  {
   "cell_type": "markdown",
   "id": "a041b800",
   "metadata": {
    "papermill": {
     "duration": 0.014873,
     "end_time": "2024-12-09T14:46:17.791512",
     "exception": false,
     "start_time": "2024-12-09T14:46:17.776639",
     "status": "completed"
    },
    "tags": []
   },
   "source": [
    "＜考察＞\n",
    "* 思っていたより解約率に影響しないパラメータだった。加工してからデータに投入したい。\n",
    "* 他のカラムと相関があるかもしれない。特に'Age'カラムとの相関がないか検討したい。\n",
    "\n",
    "＜仮説メモ＞\n",
    "* データのままで6〜8年の人は解約率が低い。➡️カラムをそのまま入れてみる。\n",
    "* 6〜8年の人は20代前半で開設して20代後半から30代前半（解約率の低い）である影響が出ているのかも。➡️口座開設の年齢を算出する"
   ]
  },
  {
   "cell_type": "code",
   "execution_count": 17,
   "id": "108003ec",
   "metadata": {
    "execution": {
     "iopub.execute_input": "2024-12-09T14:46:17.823106Z",
     "iopub.status.busy": "2024-12-09T14:46:17.822690Z",
     "iopub.status.idle": "2024-12-09T14:46:18.610667Z",
     "shell.execute_reply": "2024-12-09T14:46:18.609392Z"
    },
    "papermill": {
     "duration": 0.806743,
     "end_time": "2024-12-09T14:46:18.613134",
     "exception": false,
     "start_time": "2024-12-09T14:46:17.806391",
     "status": "completed"
    },
    "tags": []
   },
   "outputs": [
    {
     "data": {
      "image/png": "[encoded data removed]",
      "text/plain": [
       "<Figure size 1200x600 with 1 Axes>"
      ]
     },
     "metadata": {},
     "output_type": "display_data"
    }
   ],
   "source": [
    "train_df['Age_for_account_opening'] = train_df['Age'] - train_df['Tenure']\n",
    "test_df['Age_for_account_opening'] = test_df['Age'] - test_df['Tenure']\n",
    "\n",
    "plot_histograms(train_df, 'Age_for_account_opening', bins=85) # 1歳ごと"
   ]
  },
  {
   "cell_type": "markdown",
   "id": "9b6bad08",
   "metadata": {
    "papermill": {
     "duration": 0.015271,
     "end_time": "2024-12-09T14:46:18.645313",
     "exception": false,
     "start_time": "2024-12-09T14:46:18.630042",
     "status": "completed"
    },
    "tags": []
   },
   "source": [
    "＜考察＞\n",
    "* 18歳以下でも口座開設できている理由が不明だが、特徴量としては精度向上にはならなかった。"
   ]
  },
  {
   "cell_type": "code",
   "execution_count": 18,
   "id": "0f8d95c0",
   "metadata": {
    "execution": {
     "iopub.execute_input": "2024-12-09T14:46:18.678487Z",
     "iopub.status.busy": "2024-12-09T14:46:18.678055Z",
     "iopub.status.idle": "2024-12-09T14:46:18.965369Z",
     "shell.execute_reply": "2024-12-09T14:46:18.964230Z"
    },
    "papermill": {
     "duration": 0.306115,
     "end_time": "2024-12-09T14:46:18.967709",
     "exception": false,
     "start_time": "2024-12-09T14:46:18.661594",
     "status": "completed"
    },
    "tags": []
   },
   "outputs": [
    {
     "data": {
      "image/png": "[encoded data removed]",
      "text/plain": [
       "<Figure size 800x600 with 1 Axes>"
      ]
     },
     "metadata": {},
     "output_type": "display_data"
    }
   ],
   "source": [
    "# NumOfProducts\n",
    "barplots(train_df, 'NumOfProducts')"
   ]
  },
  {
   "cell_type": "code",
   "execution_count": 19,
   "id": "f84ca270",
   "metadata": {
    "execution": {
     "iopub.execute_input": "2024-12-09T14:46:19.001983Z",
     "iopub.status.busy": "2024-12-09T14:46:19.001549Z",
     "iopub.status.idle": "2024-12-09T14:46:19.033820Z",
     "shell.execute_reply": "2024-12-09T14:46:19.032727Z"
    },
    "papermill": {
     "duration": 0.051948,
     "end_time": "2024-12-09T14:46:19.036142",
     "exception": false,
     "start_time": "2024-12-09T14:46:18.984194",
     "status": "completed"
    },
    "tags": []
   },
   "outputs": [
    {
     "data": {
      "text/html": [
       "<div>\n",
       "<style scoped>\n",
       "    .dataframe tbody tr th:only-of-type {\n",
       "        vertical-align: middle;\n",
       "    }\n",
       "\n",
       "    .dataframe tbody tr th {\n",
       "        vertical-align: top;\n",
       "    }\n",
       "\n",
       "    .dataframe thead th {\n",
       "        text-align: right;\n",
       "    }\n",
       "</style>\n",
       "<table border=\"1\" class=\"dataframe\">\n",
       "  <thead>\n",
       "    <tr style=\"text-align: right;\">\n",
       "      <th>Exited</th>\n",
       "      <th>0</th>\n",
       "      <th>1</th>\n",
       "      <th>Exited_1_ratio</th>\n",
       "    </tr>\n",
       "    <tr>\n",
       "      <th>NumOfProducts</th>\n",
       "      <th></th>\n",
       "      <th></th>\n",
       "      <th></th>\n",
       "    </tr>\n",
       "  </thead>\n",
       "  <tbody>\n",
       "    <tr>\n",
       "      <th>1</th>\n",
       "      <td>50516</td>\n",
       "      <td>26858</td>\n",
       "      <td>0.347119</td>\n",
       "    </tr>\n",
       "    <tr>\n",
       "      <th>2</th>\n",
       "      <td>79198</td>\n",
       "      <td>5093</td>\n",
       "      <td>0.060422</td>\n",
       "    </tr>\n",
       "    <tr>\n",
       "      <th>3</th>\n",
       "      <td>340</td>\n",
       "      <td>2554</td>\n",
       "      <td>0.882516</td>\n",
       "    </tr>\n",
       "    <tr>\n",
       "      <th>4</th>\n",
       "      <td>59</td>\n",
       "      <td>416</td>\n",
       "      <td>0.875789</td>\n",
       "    </tr>\n",
       "  </tbody>\n",
       "</table>\n",
       "</div>"
      ],
      "text/plain": [
       "Exited             0      1  Exited_1_ratio\n",
       "NumOfProducts                              \n",
       "1              50516  26858        0.347119\n",
       "2              79198   5093        0.060422\n",
       "3                340   2554        0.882516\n",
       "4                 59    416        0.875789"
      ]
     },
     "execution_count": 19,
     "metadata": {},
     "output_type": "execute_result"
    }
   ],
   "source": [
    "# それぞれの割合を計算\n",
    "crosstab_NumOfProducts = pd.crosstab(train_df['NumOfProducts'], train_df['Exited'])\n",
    "crosstab_NumOfProducts['Exited_1_ratio'] = crosstab_NumOfProducts[1] / (crosstab_NumOfProducts[0] + crosstab_NumOfProducts[1])\n",
    "crosstab_NumOfProducts"
   ]
  },
  {
   "cell_type": "markdown",
   "id": "cfeaf97d",
   "metadata": {
    "papermill": {
     "duration": 0.016855,
     "end_time": "2024-12-09T14:46:19.069483",
     "exception": false,
     "start_time": "2024-12-09T14:46:19.052628",
     "status": "completed"
    },
    "tags": []
   },
   "source": [
    "＜考察＞\n",
    "* 2個持ちが解約率がかなり低い。\n",
    "* 1個だけや3個以上になると解約率が多くなる。"
   ]
  },
  {
   "cell_type": "code",
   "execution_count": 20,
   "id": "923f3162",
   "metadata": {
    "execution": {
     "iopub.execute_input": "2024-12-09T14:46:19.105518Z",
     "iopub.status.busy": "2024-12-09T14:46:19.104480Z",
     "iopub.status.idle": "2024-12-09T14:46:19.787118Z",
     "shell.execute_reply": "2024-12-09T14:46:19.785970Z"
    },
    "papermill": {
     "duration": 0.702771,
     "end_time": "2024-12-09T14:46:19.789401",
     "exception": false,
     "start_time": "2024-12-09T14:46:19.086630",
     "status": "completed"
    },
    "tags": []
   },
   "outputs": [
    {
     "data": {
      "image/png": "[encoded data removed]",
      "text/plain": [
       "<Figure size 1200x600 with 1 Axes>"
      ]
     },
     "metadata": {},
     "output_type": "display_data"
    }
   ],
   "source": [
    "plot_histograms(train_df, 'CreditScore', bins=51)"
   ]
  },
  {
   "cell_type": "markdown",
   "id": "68c21226",
   "metadata": {
    "papermill": {
     "duration": 0.016591,
     "end_time": "2024-12-09T14:46:19.823213",
     "exception": false,
     "start_time": "2024-12-09T14:46:19.806622",
     "status": "completed"
    },
    "tags": []
   },
   "source": [
    "＜考察＞\n",
    "* 信用スコアで見たとき、まばらだが若干の特徴あり。特徴量として入れてみる。"
   ]
  },
  {
   "cell_type": "code",
   "execution_count": 21,
   "id": "1560cfef",
   "metadata": {
    "execution": {
     "iopub.execute_input": "2024-12-09T14:46:19.858518Z",
     "iopub.status.busy": "2024-12-09T14:46:19.858120Z",
     "iopub.status.idle": "2024-12-09T14:46:20.245844Z",
     "shell.execute_reply": "2024-12-09T14:46:20.244645Z"
    },
    "papermill": {
     "duration": 0.408113,
     "end_time": "2024-12-09T14:46:20.248020",
     "exception": false,
     "start_time": "2024-12-09T14:46:19.839907",
     "status": "completed"
    },
    "tags": []
   },
   "outputs": [
    {
     "data": {
      "image/png": "[encoded data removed]",
      "text/plain": [
       "<Figure size 1200x600 with 1 Axes>"
      ]
     },
     "metadata": {},
     "output_type": "display_data"
    }
   ],
   "source": [
    "plot_histograms(train_df, 'Balance', bins=20)"
   ]
  },
  {
   "cell_type": "code",
   "execution_count": 22,
   "id": "c52922b5",
   "metadata": {
    "execution": {
     "iopub.execute_input": "2024-12-09T14:46:20.286183Z",
     "iopub.status.busy": "2024-12-09T14:46:20.285740Z",
     "iopub.status.idle": "2024-12-09T14:46:20.293739Z",
     "shell.execute_reply": "2024-12-09T14:46:20.292452Z"
    },
    "papermill": {
     "duration": 0.030021,
     "end_time": "2024-12-09T14:46:20.296469",
     "exception": false,
     "start_time": "2024-12-09T14:46:20.266448",
     "status": "completed"
    },
    "tags": []
   },
   "outputs": [
    {
     "data": {
      "text/plain": [
       "0.0"
      ]
     },
     "execution_count": 22,
     "metadata": {},
     "output_type": "execute_result"
    }
   ],
   "source": [
    "train_df['Balance'].min()"
   ]
  },
  {
   "cell_type": "markdown",
   "id": "d401a2d7",
   "metadata": {
    "papermill": {
     "duration": 0.016751,
     "end_time": "2024-12-09T14:46:20.331106",
     "exception": false,
     "start_time": "2024-12-09T14:46:20.314355",
     "status": "completed"
    },
    "tags": []
   },
   "source": [
    "＜考察＞\n",
    "* 口座の残額が0である人が大多数。➡️残高０をターゲットエンコーディングする。\n",
    "* それ以外の範囲は、解約の傾向は薄い。➡"
   ]
  },
  {
   "cell_type": "code",
   "execution_count": 23,
   "id": "6656fad5",
   "metadata": {
    "execution": {
     "iopub.execute_input": "2024-12-09T14:46:20.368223Z",
     "iopub.status.busy": "2024-12-09T14:46:20.367823Z",
     "iopub.status.idle": "2024-12-09T14:46:20.377905Z",
     "shell.execute_reply": "2024-12-09T14:46:20.376887Z"
    },
    "papermill": {
     "duration": 0.031705,
     "end_time": "2024-12-09T14:46:20.380279",
     "exception": false,
     "start_time": "2024-12-09T14:46:20.348574",
     "status": "completed"
    },
    "tags": []
   },
   "outputs": [
    {
     "data": {
      "text/plain": [
       "89648"
      ]
     },
     "execution_count": 23,
     "metadata": {},
     "output_type": "execute_result"
    }
   ],
   "source": [
    "train_df['Balance_is_zero'] = np.where(train_df['Balance'] == 0, 1, 0)\n",
    "train_df['Balance_is_zero'].sum()"
   ]
  },
  {
   "cell_type": "markdown",
   "id": "3bfade66",
   "metadata": {
    "papermill": {
     "duration": 0.017073,
     "end_time": "2024-12-09T14:46:20.415053",
     "exception": false,
     "start_time": "2024-12-09T14:46:20.397980",
     "status": "completed"
    },
    "tags": []
   },
   "source": [
    "＜考察＞\n",
    "* 残高ゼロのフラグを付けても、柔道度がかなり低く精度改善にならなかった。元のカラムで説明がついていそう。"
   ]
  },
  {
   "cell_type": "code",
   "execution_count": 24,
   "id": "0e734589",
   "metadata": {
    "execution": {
     "iopub.execute_input": "2024-12-09T14:46:20.452873Z",
     "iopub.status.busy": "2024-12-09T14:46:20.452450Z",
     "iopub.status.idle": "2024-12-09T14:46:20.706913Z",
     "shell.execute_reply": "2024-12-09T14:46:20.705667Z"
    },
    "papermill": {
     "duration": 0.275705,
     "end_time": "2024-12-09T14:46:20.709307",
     "exception": false,
     "start_time": "2024-12-09T14:46:20.433602",
     "status": "completed"
    },
    "tags": []
   },
   "outputs": [
    {
     "data": {
      "image/png": "[encoded data removed]",
      "text/plain": [
       "<Figure size 800x600 with 1 Axes>"
      ]
     },
     "metadata": {},
     "output_type": "display_data"
    }
   ],
   "source": [
    "# HasCrCard\n",
    "barplots(train_df, 'HasCrCard')"
   ]
  },
  {
   "cell_type": "code",
   "execution_count": 25,
   "id": "215e4180",
   "metadata": {
    "execution": {
     "iopub.execute_input": "2024-12-09T14:46:20.747199Z",
     "iopub.status.busy": "2024-12-09T14:46:20.746093Z",
     "iopub.status.idle": "2024-12-09T14:46:20.779187Z",
     "shell.execute_reply": "2024-12-09T14:46:20.778018Z"
    },
    "papermill": {
     "duration": 0.054282,
     "end_time": "2024-12-09T14:46:20.781377",
     "exception": false,
     "start_time": "2024-12-09T14:46:20.727095",
     "status": "completed"
    },
    "tags": []
   },
   "outputs": [
    {
     "data": {
      "text/html": [
       "<div>\n",
       "<style scoped>\n",
       "    .dataframe tbody tr th:only-of-type {\n",
       "        vertical-align: middle;\n",
       "    }\n",
       "\n",
       "    .dataframe tbody tr th {\n",
       "        vertical-align: top;\n",
       "    }\n",
       "\n",
       "    .dataframe thead th {\n",
       "        text-align: right;\n",
       "    }\n",
       "</style>\n",
       "<table border=\"1\" class=\"dataframe\">\n",
       "  <thead>\n",
       "    <tr style=\"text-align: right;\">\n",
       "      <th>Exited</th>\n",
       "      <th>0</th>\n",
       "      <th>1</th>\n",
       "      <th>Exited_1_ratio</th>\n",
       "    </tr>\n",
       "    <tr>\n",
       "      <th>HasCrCard</th>\n",
       "      <th></th>\n",
       "      <th></th>\n",
       "      <th></th>\n",
       "    </tr>\n",
       "  </thead>\n",
       "  <tbody>\n",
       "    <tr>\n",
       "      <th>0</th>\n",
       "      <td>31371</td>\n",
       "      <td>9235</td>\n",
       "      <td>0.227429</td>\n",
       "    </tr>\n",
       "    <tr>\n",
       "      <th>1</th>\n",
       "      <td>98742</td>\n",
       "      <td>25686</td>\n",
       "      <td>0.206433</td>\n",
       "    </tr>\n",
       "  </tbody>\n",
       "</table>\n",
       "</div>"
      ],
      "text/plain": [
       "Exited         0      1  Exited_1_ratio\n",
       "HasCrCard                              \n",
       "0          31371   9235        0.227429\n",
       "1          98742  25686        0.206433"
      ]
     },
     "execution_count": 25,
     "metadata": {},
     "output_type": "execute_result"
    }
   ],
   "source": [
    "train_df['HasCrCard'] = train_df['HasCrCard'].astype(int)\n",
    "test_df['HasCrCard'] = test_df['HasCrCard'].astype(int)\n",
    "\n",
    "crosstab_HasCrCard = pd.crosstab(train_df['HasCrCard'], train_df['Exited'])\n",
    "crosstab_HasCrCard['Exited_1_ratio'] = crosstab_HasCrCard[1] / (crosstab_HasCrCard[0] + crosstab_HasCrCard[1])\n",
    "crosstab_HasCrCard"
   ]
  },
  {
   "cell_type": "markdown",
   "id": "fdadbe80",
   "metadata": {
    "papermill": {
     "duration": 0.017557,
     "end_time": "2024-12-09T14:46:20.817273",
     "exception": false,
     "start_time": "2024-12-09T14:46:20.799716",
     "status": "completed"
    },
    "tags": []
   },
   "source": [
    "＜考察＞\n",
    "* 若干の違いあり。特徴量に入れつつ確認する。"
   ]
  },
  {
   "cell_type": "code",
   "execution_count": 26,
   "id": "7382722f",
   "metadata": {
    "execution": {
     "iopub.execute_input": "2024-12-09T14:46:20.856558Z",
     "iopub.status.busy": "2024-12-09T14:46:20.855429Z",
     "iopub.status.idle": "2024-12-09T14:46:21.118961Z",
     "shell.execute_reply": "2024-12-09T14:46:21.117878Z"
    },
    "papermill": {
     "duration": 0.286145,
     "end_time": "2024-12-09T14:46:21.121257",
     "exception": false,
     "start_time": "2024-12-09T14:46:20.835112",
     "status": "completed"
    },
    "tags": []
   },
   "outputs": [
    {
     "data": {
      "image/png": "[encoded data removed]",
      "text/plain": [
       "<Figure size 800x600 with 1 Axes>"
      ]
     },
     "metadata": {},
     "output_type": "display_data"
    }
   ],
   "source": [
    "# IsActiveMember\n",
    "barplots(train_df, 'IsActiveMember')"
   ]
  },
  {
   "cell_type": "code",
   "execution_count": 27,
   "id": "cca4e523",
   "metadata": {
    "execution": {
     "iopub.execute_input": "2024-12-09T14:46:21.163031Z",
     "iopub.status.busy": "2024-12-09T14:46:21.162630Z",
     "iopub.status.idle": "2024-12-09T14:46:21.196488Z",
     "shell.execute_reply": "2024-12-09T14:46:21.195373Z"
    },
    "papermill": {
     "duration": 0.057551,
     "end_time": "2024-12-09T14:46:21.199143",
     "exception": false,
     "start_time": "2024-12-09T14:46:21.141592",
     "status": "completed"
    },
    "tags": []
   },
   "outputs": [
    {
     "data": {
      "text/html": [
       "<div>\n",
       "<style scoped>\n",
       "    .dataframe tbody tr th:only-of-type {\n",
       "        vertical-align: middle;\n",
       "    }\n",
       "\n",
       "    .dataframe tbody tr th {\n",
       "        vertical-align: top;\n",
       "    }\n",
       "\n",
       "    .dataframe thead th {\n",
       "        text-align: right;\n",
       "    }\n",
       "</style>\n",
       "<table border=\"1\" class=\"dataframe\">\n",
       "  <thead>\n",
       "    <tr style=\"text-align: right;\">\n",
       "      <th>Exited</th>\n",
       "      <th>0</th>\n",
       "      <th>1</th>\n",
       "      <th>Exited_1_ratio</th>\n",
       "    </tr>\n",
       "    <tr>\n",
       "      <th>IsActiveMember</th>\n",
       "      <th></th>\n",
       "      <th></th>\n",
       "      <th></th>\n",
       "    </tr>\n",
       "  </thead>\n",
       "  <tbody>\n",
       "    <tr>\n",
       "      <th>0</th>\n",
       "      <td>58261</td>\n",
       "      <td>24624</td>\n",
       "      <td>0.297086</td>\n",
       "    </tr>\n",
       "    <tr>\n",
       "      <th>1</th>\n",
       "      <td>71852</td>\n",
       "      <td>10297</td>\n",
       "      <td>0.125345</td>\n",
       "    </tr>\n",
       "  </tbody>\n",
       "</table>\n",
       "</div>"
      ],
      "text/plain": [
       "Exited              0      1  Exited_1_ratio\n",
       "IsActiveMember                              \n",
       "0               58261  24624        0.297086\n",
       "1               71852  10297        0.125345"
      ]
     },
     "execution_count": 27,
     "metadata": {},
     "output_type": "execute_result"
    }
   ],
   "source": [
    "train_df['IsActiveMember'] = train_df['IsActiveMember'].astype(int)\n",
    "test_df['IsActiveMember'] = test_df['IsActiveMember'].astype(int)\n",
    "\n",
    "crosstab_IsActiveMember = pd.crosstab(train_df['IsActiveMember'], train_df['Exited'])\n",
    "crosstab_IsActiveMember['Exited_1_ratio'] = crosstab_IsActiveMember[1] / (crosstab_IsActiveMember[0] + crosstab_IsActiveMember[1])\n",
    "crosstab_IsActiveMember"
   ]
  },
  {
   "cell_type": "markdown",
   "id": "5bd2ceab",
   "metadata": {
    "papermill": {
     "duration": 0.019336,
     "end_time": "2024-12-09T14:46:21.239526",
     "exception": false,
     "start_time": "2024-12-09T14:46:21.220190",
     "status": "completed"
    },
    "tags": []
   },
   "source": [
    "＜考察＞\n",
    "* 会員状態がアクティブになっていない人ほど解約率が高い。\n",
    "* "
   ]
  },
  {
   "cell_type": "code",
   "execution_count": 28,
   "id": "325bed69",
   "metadata": {
    "execution": {
     "iopub.execute_input": "2024-12-09T14:46:21.282415Z",
     "iopub.status.busy": "2024-12-09T14:46:21.281990Z",
     "iopub.status.idle": "2024-12-09T14:46:21.806468Z",
     "shell.execute_reply": "2024-12-09T14:46:21.805180Z"
    },
    "papermill": {
     "duration": 0.549843,
     "end_time": "2024-12-09T14:46:21.808777",
     "exception": false,
     "start_time": "2024-12-09T14:46:21.258934",
     "status": "completed"
    },
    "tags": []
   },
   "outputs": [
    {
     "data": {
      "image/png": "[encoded data removed]",
      "text/plain": [
       "<Figure size 1200x600 with 1 Axes>"
      ]
     },
     "metadata": {},
     "output_type": "display_data"
    }
   ],
   "source": [
    "# EstimatedSalary\n",
    "plot_histograms(train_df, 'EstimatedSalary', bins=50)"
   ]
  },
  {
   "cell_type": "markdown",
   "id": "0e04e211",
   "metadata": {
    "papermill": {
     "duration": 0.019308,
     "end_time": "2024-12-09T14:46:21.847615",
     "exception": false,
     "start_time": "2024-12-09T14:46:21.828307",
     "status": "completed"
    },
    "tags": []
   },
   "source": [
    "＜考察＞\n",
    "* 特徴的にはまばらになっている。\n",
    "* サラリーに占める貯金額でメイン口座かどうかを把握できそう。サブだと解約率が高そう。"
   ]
  },
  {
   "cell_type": "code",
   "execution_count": 29,
   "id": "b9ed320e",
   "metadata": {
    "execution": {
     "iopub.execute_input": "2024-12-09T14:46:21.888504Z",
     "iopub.status.busy": "2024-12-09T14:46:21.888087Z",
     "iopub.status.idle": "2024-12-09T14:46:21.894902Z",
     "shell.execute_reply": "2024-12-09T14:46:21.893933Z"
    },
    "papermill": {
     "duration": 0.030208,
     "end_time": "2024-12-09T14:46:21.897365",
     "exception": false,
     "start_time": "2024-12-09T14:46:21.867157",
     "status": "completed"
    },
    "tags": []
   },
   "outputs": [],
   "source": [
    "train_df['Balance_per_salaly'] = train_df['Balance'] / train_df['EstimatedSalary']"
   ]
  },
  {
   "cell_type": "code",
   "execution_count": 30,
   "id": "068b6f86",
   "metadata": {
    "execution": {
     "iopub.execute_input": "2024-12-09T14:46:21.940047Z",
     "iopub.status.busy": "2024-12-09T14:46:21.939642Z",
     "iopub.status.idle": "2024-12-09T14:46:22.444616Z",
     "shell.execute_reply": "2024-12-09T14:46:22.443508Z"
    },
    "papermill": {
     "duration": 0.529096,
     "end_time": "2024-12-09T14:46:22.447140",
     "exception": false,
     "start_time": "2024-12-09T14:46:21.918044",
     "status": "completed"
    },
    "tags": []
   },
   "outputs": [
    {
     "data": {
      "image/png": "[encoded data removed]",
      "text/plain": [
       "<Figure size 1200x600 with 1 Axes>"
      ]
     },
     "metadata": {},
     "output_type": "display_data"
    }
   ],
   "source": [
    "plot_histograms(train_df, 'Balance_per_salaly', bins=50)"
   ]
  },
  {
   "cell_type": "code",
   "execution_count": 31,
   "id": "cdd788c9",
   "metadata": {
    "execution": {
     "iopub.execute_input": "2024-12-09T14:46:22.493053Z",
     "iopub.status.busy": "2024-12-09T14:46:22.492621Z",
     "iopub.status.idle": "2024-12-09T14:46:22.501053Z",
     "shell.execute_reply": "2024-12-09T14:46:22.499666Z"
    },
    "papermill": {
     "duration": 0.034153,
     "end_time": "2024-12-09T14:46:22.503378",
     "exception": false,
     "start_time": "2024-12-09T14:46:22.469225",
     "status": "completed"
    },
    "tags": []
   },
   "outputs": [
    {
     "data": {
      "text/plain": [
       "12863.797"
      ]
     },
     "execution_count": 31,
     "metadata": {},
     "output_type": "execute_result"
    }
   ],
   "source": [
    "train_df['Balance_per_salaly'].max()"
   ]
  },
  {
   "cell_type": "markdown",
   "id": "a977ee2b",
   "metadata": {
    "papermill": {
     "duration": 0.021191,
     "end_time": "2024-12-09T14:46:22.545708",
     "exception": false,
     "start_time": "2024-12-09T14:46:22.524517",
     "status": "completed"
    },
    "tags": []
   },
   "source": [
    "# モデル用データセット"
   ]
  },
  {
   "cell_type": "code",
   "execution_count": 32,
   "id": "7968ff38",
   "metadata": {
    "execution": {
     "iopub.execute_input": "2024-12-09T14:46:22.589569Z",
     "iopub.status.busy": "2024-12-09T14:46:22.589177Z",
     "iopub.status.idle": "2024-12-09T14:46:22.601039Z",
     "shell.execute_reply": "2024-12-09T14:46:22.599965Z"
    },
    "papermill": {
     "duration": 0.036661,
     "end_time": "2024-12-09T14:46:22.603681",
     "exception": false,
     "start_time": "2024-12-09T14:46:22.567020",
     "status": "completed"
    },
    "tags": []
   },
   "outputs": [],
   "source": [
    "features = ['Gender', 'Age', 'NumOfProducts', 'Geography', 'HasCrCard', 'IsActiveMember', 'Tenure', 'Balance', 'EstimatedSalary', 'CreditScore']\n",
    "x_train = train_df[features]\n",
    "y_train = train_df['Exited']"
   ]
  },
  {
   "cell_type": "code",
   "execution_count": 33,
   "id": "cdce3e10",
   "metadata": {
    "execution": {
     "iopub.execute_input": "2024-12-09T14:46:22.647739Z",
     "iopub.status.busy": "2024-12-09T14:46:22.647323Z",
     "iopub.status.idle": "2024-12-09T14:46:22.725199Z",
     "shell.execute_reply": "2024-12-09T14:46:22.723802Z"
    },
    "jupyter": {
     "source_hidden": true
    },
    "papermill": {
     "duration": 0.102995,
     "end_time": "2024-12-09T14:46:22.727507",
     "exception": false,
     "start_time": "2024-12-09T14:46:22.624512",
     "status": "completed"
    },
    "tags": []
   },
   "outputs": [
    {
     "name": "stdout",
     "output_type": "stream",
     "text": [
      "(132027, 10)\n",
      "(132027,)\n"
     ]
    }
   ],
   "source": [
    "x_tr, x_va, y_tr, y_va = train_test_split(\n",
    "    x_train,\n",
    "    y_train,\n",
    "    shuffle=True,\n",
    "    test_size=0.2,\n",
    "    stratify=y_train,\n",
    "    random_state=123\n",
    ")\n",
    "\n",
    "print(x_tr.shape)  # 特徴量の形状を確認\n",
    "print(y_tr.shape)  # ターゲットの形状を確認"
   ]
  },
  {
   "cell_type": "markdown",
   "id": "691cb6d4",
   "metadata": {
    "papermill": {
     "duration": 0.021306,
     "end_time": "2024-12-09T14:46:22.770441",
     "exception": false,
     "start_time": "2024-12-09T14:46:22.749135",
     "status": "completed"
    },
    "tags": []
   },
   "source": [
    "# モデル試作"
   ]
  },
  {
   "cell_type": "code",
   "execution_count": 34,
   "id": "8fbade36",
   "metadata": {
    "execution": {
     "iopub.execute_input": "2024-12-09T14:46:22.813199Z",
     "iopub.status.busy": "2024-12-09T14:46:22.812229Z",
     "iopub.status.idle": "2024-12-09T14:46:22.817748Z",
     "shell.execute_reply": "2024-12-09T14:46:22.816660Z"
    },
    "papermill": {
     "duration": 0.029209,
     "end_time": "2024-12-09T14:46:22.819911",
     "exception": false,
     "start_time": "2024-12-09T14:46:22.790702",
     "status": "completed"
    },
    "tags": []
   },
   "outputs": [],
   "source": [
    "params = {\n",
    "    'boosting_type': 'gbdt',\n",
    "    'objective': 'binary',\n",
    "    'metric': 'auc',\n",
    "    'learning_rate': 0.1,\n",
    "    'random_state': 123,\n",
    "    'num_leaves': 16,\n",
    "    'n_estimators': 10000,\n",
    "    'importance_type': 'gain',\n",
    "    'verbose': 1,\n",
    "    'min_data_in_leaf': 50,\n",
    "    'max_depth': 5\n",
    "}"
   ]
  },
  {
   "cell_type": "code",
   "execution_count": 35,
   "id": "a9cda48a",
   "metadata": {
    "execution": {
     "iopub.execute_input": "2024-12-09T14:46:22.865438Z",
     "iopub.status.busy": "2024-12-09T14:46:22.864687Z",
     "iopub.status.idle": "2024-12-09T14:46:32.479679Z",
     "shell.execute_reply": "2024-12-09T14:46:32.478612Z"
    },
    "jupyter": {
     "source_hidden": true
    },
    "papermill": {
     "duration": 9.640696,
     "end_time": "2024-12-09T14:46:32.482065",
     "exception": false,
     "start_time": "2024-12-09T14:46:22.841369",
     "status": "completed"
    },
    "tags": []
   },
   "outputs": [
    {
     "name": "stdout",
     "output_type": "stream",
     "text": [
      "[LightGBM] [Warning] min_data_in_leaf is set=50, min_child_samples=20 will be ignored. Current value: min_data_in_leaf=50\n",
      "[LightGBM] [Warning] min_data_in_leaf is set=50, min_child_samples=20 will be ignored. Current value: min_data_in_leaf=50\n",
      "[LightGBM] [Info] Number of positive: 27937, number of negative: 104090\n",
      "[LightGBM] [Info] Auto-choosing row-wise multi-threading, the overhead of testing was 0.006545 seconds.\n",
      "You can set `force_row_wise=true` to remove the overhead.\n",
      "And if memory is not enough, you can set `force_col_wise=true`.\n",
      "[LightGBM] [Info] Total Bins 859\n",
      "[LightGBM] [Info] Number of data points in the train set: 132027, number of used features: 10\n",
      "[LightGBM] [Warning] min_data_in_leaf is set=50, min_child_samples=20 will be ignored. Current value: min_data_in_leaf=50\n",
      "[LightGBM] [Info] [binary:BoostFromScore]: pavg=0.211601 -> initscore=-1.315304\n",
      "[LightGBM] [Info] Start training from score -1.315304\n",
      "Training until validation scores don't improve for 100 rounds\n",
      "[100]\ttraining's auc: 0.892949\tvalid_1's auc: 0.887814\n",
      "[200]\ttraining's auc: 0.896637\tvalid_1's auc: 0.888315\n",
      "[LightGBM] [Warning] No further splits with positive gain, best gain: -inf\n",
      "[300]\ttraining's auc: 0.899658\tvalid_1's auc: 0.888496\n",
      "[LightGBM] [Warning] No further splits with positive gain, best gain: -inf\n",
      "[400]\ttraining's auc: 0.902548\tvalid_1's auc: 0.888611\n",
      "[LightGBM] [Warning] No further splits with positive gain, best gain: -inf\n",
      "Early stopping, best iteration is:\n",
      "[362]\ttraining's auc: 0.901441\tvalid_1's auc: 0.888669\n"
     ]
    },
    {
     "data": {
      "text/html": [
       "<style>#sk-container-id-1 {color: black;background-color: white;}#sk-container-id-1 pre{padding: 0;}#sk-container-id-1 div.sk-toggleable {background-color: white;}#sk-container-id-1 label.sk-toggleable__label {cursor: pointer;display: block;width: 100%;margin-bottom: 0;padding: 0.3em;box-sizing: border-box;text-align: center;}#sk-container-id-1 label.sk-toggleable__label-arrow:before {content: \"▸\";float: left;margin-right: 0.25em;color: #696969;}#sk-container-id-1 label.sk-toggleable__label-arrow:hover:before {color: black;}#sk-container-id-1 div.sk-estimator:hover label.sk-toggleable__label-arrow:before {color: black;}#sk-container-id-1 div.sk-toggleable__content {max-height: 0;max-width: 0;overflow: hidden;text-align: left;background-color: #f0f8ff;}#sk-container-id-1 div.sk-toggleable__content pre {margin: 0.2em;color: black;border-radius: 0.25em;background-color: #f0f8ff;}#sk-container-id-1 input.sk-toggleable__control:checked~div.sk-toggleable__content {max-height: 200px;max-width: 100%;overflow: auto;}#sk-container-id-1 input.sk-toggleable__control:checked~label.sk-toggleable__label-arrow:before {content: \"▾\";}#sk-container-id-1 div.sk-estimator input.sk-toggleable__control:checked~label.sk-toggleable__label {background-color: #d4ebff;}#sk-container-id-1 div.sk-label input.sk-toggleable__control:checked~label.sk-toggleable__label {background-color: #d4ebff;}#sk-container-id-1 input.sk-hidden--visually {border: 0;clip: rect(1px 1px 1px 1px);clip: rect(1px, 1px, 1px, 1px);height: 1px;margin: -1px;overflow: hidden;padding: 0;position: absolute;width: 1px;}#sk-container-id-1 div.sk-estimator {font-family: monospace;background-color: #f0f8ff;border: 1px dotted black;border-radius: 0.25em;box-sizing: border-box;margin-bottom: 0.5em;}#sk-container-id-1 div.sk-estimator:hover {background-color: #d4ebff;}#sk-container-id-1 div.sk-parallel-item::after {content: \"\";width: 100%;border-bottom: 1px solid gray;flex-grow: 1;}#sk-container-id-1 div.sk-label:hover label.sk-toggleable__label {background-color: #d4ebff;}#sk-container-id-1 div.sk-serial::before {content: \"\";position: absolute;border-left: 1px solid gray;box-sizing: border-box;top: 0;bottom: 0;left: 50%;z-index: 0;}#sk-container-id-1 div.sk-serial {display: flex;flex-direction: column;align-items: center;background-color: white;padding-right: 0.2em;padding-left: 0.2em;position: relative;}#sk-container-id-1 div.sk-item {position: relative;z-index: 1;}#sk-container-id-1 div.sk-parallel {display: flex;align-items: stretch;justify-content: center;background-color: white;position: relative;}#sk-container-id-1 div.sk-item::before, #sk-container-id-1 div.sk-parallel-item::before {content: \"\";position: absolute;border-left: 1px solid gray;box-sizing: border-box;top: 0;bottom: 0;left: 50%;z-index: -1;}#sk-container-id-1 div.sk-parallel-item {display: flex;flex-direction: column;z-index: 1;position: relative;background-color: white;}#sk-container-id-1 div.sk-parallel-item:first-child::after {align-self: flex-end;width: 50%;}#sk-container-id-1 div.sk-parallel-item:last-child::after {align-self: flex-start;width: 50%;}#sk-container-id-1 div.sk-parallel-item:only-child::after {width: 0;}#sk-container-id-1 div.sk-dashed-wrapped {border: 1px dashed gray;margin: 0 0.4em 0.5em 0.4em;box-sizing: border-box;padding-bottom: 0.4em;background-color: white;}#sk-container-id-1 div.sk-label label {font-family: monospace;font-weight: bold;display: inline-block;line-height: 1.2em;}#sk-container-id-1 div.sk-label-container {text-align: center;}#sk-container-id-1 div.sk-container {/* jupyter's `normalize.less` sets `[hidden] { display: none; }` but bootstrap.min.css set `[hidden] { display: none !important; }` so we also need the `!important` here to be able to override the default hidden behavior on the sphinx rendered scikit-learn.org. See: https://github.com/scikit-learn/scikit-learn/issues/21755 */display: inline-block !important;position: relative;}#sk-container-id-1 div.sk-text-repr-fallback {display: none;}</style><div id=\"sk-container-id-1\" class=\"sk-top-container\"><div class=\"sk-text-repr-fallback\"><pre>LGBMClassifier(importance_type=&#x27;gain&#x27;, max_depth=5, metric=&#x27;auc&#x27;,\n",
       "               min_data_in_leaf=50, n_estimators=10000, num_leaves=16,\n",
       "               objective=&#x27;binary&#x27;, random_state=123, verbose=1)</pre><b>In a Jupyter environment, please rerun this cell to show the HTML representation or trust the notebook. <br />On GitHub, the HTML representation is unable to render, please try loading this page with nbviewer.org.</b></div><div class=\"sk-container\" hidden><div class=\"sk-item\"><div class=\"sk-estimator sk-toggleable\"><input class=\"sk-toggleable__control sk-hidden--visually\" id=\"sk-estimator-id-1\" type=\"checkbox\" checked><label for=\"sk-estimator-id-1\" class=\"sk-toggleable__label sk-toggleable__label-arrow\">LGBMClassifier</label><div class=\"sk-toggleable__content\"><pre>LGBMClassifier(importance_type=&#x27;gain&#x27;, max_depth=5, metric=&#x27;auc&#x27;,\n",
       "               min_data_in_leaf=50, n_estimators=10000, num_leaves=16,\n",
       "               objective=&#x27;binary&#x27;, random_state=123, verbose=1)</pre></div></div></div></div></div>"
      ],
      "text/plain": [
       "LGBMClassifier(importance_type='gain', max_depth=5, metric='auc',\n",
       "               min_data_in_leaf=50, n_estimators=10000, num_leaves=16,\n",
       "               objective='binary', random_state=123, verbose=1)"
      ]
     },
     "execution_count": 35,
     "metadata": {},
     "output_type": "execute_result"
    }
   ],
   "source": [
    "model = lgb.LGBMClassifier(**params)\n",
    "model.fit(\n",
    "    x_tr, y_tr,\n",
    "    eval_set= [(x_tr, y_tr), (x_va, y_va)],\n",
    "    callbacks=[\n",
    "        lgb.callback.early_stopping(stopping_rounds=100),\n",
    "        lgb.callback.log_evaluation(period=100)\n",
    "    ]\n",
    ")"
   ]
  },
  {
   "cell_type": "code",
   "execution_count": 36,
   "id": "7ffb8ece",
   "metadata": {
    "execution": {
     "iopub.execute_input": "2024-12-09T14:46:32.530030Z",
     "iopub.status.busy": "2024-12-09T14:46:32.529577Z",
     "iopub.status.idle": "2024-12-09T14:46:35.641588Z",
     "shell.execute_reply": "2024-12-09T14:46:35.640148Z"
    },
    "jupyter": {
     "source_hidden": true
    },
    "papermill": {
     "duration": 3.140443,
     "end_time": "2024-12-09T14:46:35.644065",
     "exception": false,
     "start_time": "2024-12-09T14:46:32.503622",
     "status": "completed"
    },
    "tags": []
   },
   "outputs": [
    {
     "name": "stdout",
     "output_type": "stream",
     "text": [
      "[LightGBM] [Warning] min_data_in_leaf is set=50, min_child_samples=20 will be ignored. Current value: min_data_in_leaf=50\n",
      "[LightGBM] [Warning] min_data_in_leaf is set=50, min_child_samples=20 will be ignored. Current value: min_data_in_leaf=50\n",
      "Tr: 0.9014407098595394\n",
      "Va: 0.8886690997288987\n"
     ]
    }
   ],
   "source": [
    "y_tr_pred = model.predict_proba(x_tr)[:, 1]\n",
    "y_va_pred = model.predict_proba(x_va)[:, 1]\n",
    "\n",
    "metric_tr = roc_auc_score(y_tr, y_tr_pred)\n",
    "metric_va = roc_auc_score(y_va, y_va_pred)\n",
    "\n",
    "print(\"Tr:\", metric_tr)\n",
    "print(\"Va:\", metric_va)"
   ]
  },
  {
   "cell_type": "markdown",
   "id": "4a61d80b",
   "metadata": {
    "papermill": {
     "duration": 0.02097,
     "end_time": "2024-12-09T14:46:35.686781",
     "exception": false,
     "start_time": "2024-12-09T14:46:35.665811",
     "status": "completed"
    },
    "tags": []
   },
   "source": [
    "# クロスバリデーション"
   ]
  },
  {
   "cell_type": "code",
   "execution_count": 37,
   "id": "3214ac43",
   "metadata": {
    "execution": {
     "iopub.execute_input": "2024-12-09T14:46:35.733884Z",
     "iopub.status.busy": "2024-12-09T14:46:35.733483Z",
     "iopub.status.idle": "2024-12-09T14:47:37.788358Z",
     "shell.execute_reply": "2024-12-09T14:47:37.786704Z"
    },
    "papermill": {
     "duration": 62.081379,
     "end_time": "2024-12-09T14:47:37.790794",
     "exception": false,
     "start_time": "2024-12-09T14:46:35.709415",
     "status": "completed"
    },
    "tags": []
   },
   "outputs": [
    {
     "name": "stdout",
     "output_type": "stream",
     "text": [
      "-------------------- 0 --------------------\n",
      "[LightGBM] [Warning] min_data_in_leaf is set=50, min_child_samples=20 will be ignored. Current value: min_data_in_leaf=50\n",
      "[LightGBM] [Warning] min_data_in_leaf is set=50, min_child_samples=20 will be ignored. Current value: min_data_in_leaf=50\n",
      "[LightGBM] [Info] Number of positive: 27937, number of negative: 104090\n",
      "[LightGBM] [Info] Auto-choosing col-wise multi-threading, the overhead of testing was 0.022893 seconds.\n",
      "You can set `force_col_wise=true` to remove the overhead.\n",
      "[LightGBM] [Info] Total Bins 861\n",
      "[LightGBM] [Info] Number of data points in the train set: 132027, number of used features: 10\n",
      "[LightGBM] [Warning] min_data_in_leaf is set=50, min_child_samples=20 will be ignored. Current value: min_data_in_leaf=50\n",
      "[LightGBM] [Info] [binary:BoostFromScore]: pavg=0.211601 -> initscore=-1.315304\n",
      "[LightGBM] [Info] Start training from score -1.315304\n",
      "Training until validation scores don't improve for 100 rounds\n",
      "[100]\ttraining's auc: 0.893253\tvalid_1's auc: 0.887861\n",
      "[200]\ttraining's auc: 0.897097\tvalid_1's auc: 0.88813\n",
      "[LightGBM] [Warning] No further splits with positive gain, best gain: -inf\n",
      "Early stopping, best iteration is:\n",
      "[169]\ttraining's auc: 0.896097\tvalid_1's auc: 0.888168\n",
      "[LightGBM] [Warning] min_data_in_leaf is set=50, min_child_samples=20 will be ignored. Current value: min_data_in_leaf=50\n",
      "[LightGBM] [Warning] min_data_in_leaf is set=50, min_child_samples=20 will be ignored. Current value: min_data_in_leaf=50\n",
      "Tr: 0.8960966212034803\n",
      "Va: 0.8881682128581382\n",
      "-------------------- 1 --------------------\n",
      "[LightGBM] [Warning] min_data_in_leaf is set=50, min_child_samples=20 will be ignored. Current value: min_data_in_leaf=50\n",
      "[LightGBM] [Warning] min_data_in_leaf is set=50, min_child_samples=20 will be ignored. Current value: min_data_in_leaf=50\n",
      "[LightGBM] [Info] Number of positive: 27937, number of negative: 104090\n",
      "[LightGBM] [Info] Auto-choosing col-wise multi-threading, the overhead of testing was 0.022631 seconds.\n",
      "You can set `force_col_wise=true` to remove the overhead.\n",
      "[LightGBM] [Info] Total Bins 859\n",
      "[LightGBM] [Info] Number of data points in the train set: 132027, number of used features: 10\n",
      "[LightGBM] [Warning] min_data_in_leaf is set=50, min_child_samples=20 will be ignored. Current value: min_data_in_leaf=50\n",
      "[LightGBM] [Info] [binary:BoostFromScore]: pavg=0.211601 -> initscore=-1.315304\n",
      "[LightGBM] [Info] Start training from score -1.315304\n",
      "Training until validation scores don't improve for 100 rounds\n",
      "[100]\ttraining's auc: 0.892231\tvalid_1's auc: 0.890849\n",
      "[200]\ttraining's auc: 0.896086\tvalid_1's auc: 0.891088\n",
      "[300]\ttraining's auc: 0.899331\tvalid_1's auc: 0.891066\n",
      "[LightGBM] [Warning] No further splits with positive gain, best gain: -inf\n",
      "[LightGBM] [Warning] No further splits with positive gain, best gain: -inf\n",
      "[LightGBM] [Warning] No further splits with positive gain, best gain: -inf\n",
      "Early stopping, best iteration is:\n",
      "[233]\ttraining's auc: 0.89722\tvalid_1's auc: 0.891242\n",
      "[LightGBM] [Warning] min_data_in_leaf is set=50, min_child_samples=20 will be ignored. Current value: min_data_in_leaf=50\n",
      "[LightGBM] [Warning] min_data_in_leaf is set=50, min_child_samples=20 will be ignored. Current value: min_data_in_leaf=50\n",
      "Tr: 0.8972199841048148\n",
      "Va: 0.8912421275804173\n",
      "-------------------- 2 --------------------\n",
      "[LightGBM] [Warning] min_data_in_leaf is set=50, min_child_samples=20 will be ignored. Current value: min_data_in_leaf=50\n",
      "[LightGBM] [Warning] min_data_in_leaf is set=50, min_child_samples=20 will be ignored. Current value: min_data_in_leaf=50\n",
      "[LightGBM] [Info] Number of positive: 27937, number of negative: 104090\n",
      "[LightGBM] [Info] Auto-choosing col-wise multi-threading, the overhead of testing was 0.023069 seconds.\n",
      "You can set `force_col_wise=true` to remove the overhead.\n",
      "[LightGBM] [Info] Total Bins 860\n",
      "[LightGBM] [Info] Number of data points in the train set: 132027, number of used features: 10\n",
      "[LightGBM] [Warning] min_data_in_leaf is set=50, min_child_samples=20 will be ignored. Current value: min_data_in_leaf=50\n",
      "[LightGBM] [Info] [binary:BoostFromScore]: pavg=0.211601 -> initscore=-1.315304\n",
      "[LightGBM] [Info] Start training from score -1.315304\n",
      "Training until validation scores don't improve for 100 rounds\n",
      "[100]\ttraining's auc: 0.892248\tvalid_1's auc: 0.891073\n",
      "[LightGBM] [Warning] No further splits with positive gain, best gain: -inf\n",
      "[200]\ttraining's auc: 0.896117\tvalid_1's auc: 0.891441\n",
      "[LightGBM] [Warning] No further splits with positive gain, best gain: -inf\n",
      "[LightGBM] [Warning] No further splits with positive gain, best gain: -inf\n",
      "[LightGBM] [Warning] No further splits with positive gain, best gain: -inf\n",
      "[LightGBM] [Warning] No further splits with positive gain, best gain: -inf\n",
      "[300]\ttraining's auc: 0.899117\tvalid_1's auc: 0.891337\n",
      "[LightGBM] [Warning] No further splits with positive gain, best gain: -inf\n",
      "Early stopping, best iteration is:\n",
      "[234]\ttraining's auc: 0.897165\tvalid_1's auc: 0.891546\n",
      "[LightGBM] [Warning] min_data_in_leaf is set=50, min_child_samples=20 will be ignored. Current value: min_data_in_leaf=50\n",
      "[LightGBM] [Warning] min_data_in_leaf is set=50, min_child_samples=20 will be ignored. Current value: min_data_in_leaf=50\n",
      "Tr: 0.8971652265179104\n",
      "Va: 0.8915464226750862\n",
      "-------------------- 3 --------------------\n",
      "[LightGBM] [Warning] min_data_in_leaf is set=50, min_child_samples=20 will be ignored. Current value: min_data_in_leaf=50\n",
      "[LightGBM] [Warning] min_data_in_leaf is set=50, min_child_samples=20 will be ignored. Current value: min_data_in_leaf=50\n",
      "[LightGBM] [Info] Number of positive: 27936, number of negative: 104091\n",
      "[LightGBM] [Info] Auto-choosing col-wise multi-threading, the overhead of testing was 0.023135 seconds.\n",
      "You can set `force_col_wise=true` to remove the overhead.\n",
      "[LightGBM] [Info] Total Bins 860\n",
      "[LightGBM] [Info] Number of data points in the train set: 132027, number of used features: 10\n",
      "[LightGBM] [Warning] min_data_in_leaf is set=50, min_child_samples=20 will be ignored. Current value: min_data_in_leaf=50\n",
      "[LightGBM] [Info] [binary:BoostFromScore]: pavg=0.211593 -> initscore=-1.315349\n",
      "[LightGBM] [Info] Start training from score -1.315349\n",
      "Training until validation scores don't improve for 100 rounds\n",
      "[100]\ttraining's auc: 0.892857\tvalid_1's auc: 0.888862\n",
      "[LightGBM] [Warning] No further splits with positive gain, best gain: -inf\n",
      "[200]\ttraining's auc: 0.896574\tvalid_1's auc: 0.889003\n",
      "[LightGBM] [Warning] No further splits with positive gain, best gain: -inf\n",
      "Early stopping, best iteration is:\n",
      "[150]\ttraining's auc: 0.894868\tvalid_1's auc: 0.889091\n",
      "[LightGBM] [Warning] min_data_in_leaf is set=50, min_child_samples=20 will be ignored. Current value: min_data_in_leaf=50\n",
      "[LightGBM] [Warning] min_data_in_leaf is set=50, min_child_samples=20 will be ignored. Current value: min_data_in_leaf=50\n",
      "Tr: 0.8948684203930821\n",
      "Va: 0.8890909443014658\n",
      "-------------------- 4 --------------------\n",
      "[LightGBM] [Warning] min_data_in_leaf is set=50, min_child_samples=20 will be ignored. Current value: min_data_in_leaf=50\n",
      "[LightGBM] [Warning] min_data_in_leaf is set=50, min_child_samples=20 will be ignored. Current value: min_data_in_leaf=50\n",
      "[LightGBM] [Info] Number of positive: 27937, number of negative: 104091\n",
      "[LightGBM] [Info] Auto-choosing col-wise multi-threading, the overhead of testing was 0.023183 seconds.\n",
      "You can set `force_col_wise=true` to remove the overhead.\n",
      "[LightGBM] [Info] Total Bins 860\n",
      "[LightGBM] [Info] Number of data points in the train set: 132028, number of used features: 10\n",
      "[LightGBM] [Warning] min_data_in_leaf is set=50, min_child_samples=20 will be ignored. Current value: min_data_in_leaf=50\n",
      "[LightGBM] [Info] [binary:BoostFromScore]: pavg=0.211599 -> initscore=-1.315314\n",
      "[LightGBM] [Info] Start training from score -1.315314\n",
      "Training until validation scores don't improve for 100 rounds\n",
      "[100]\ttraining's auc: 0.892822\tvalid_1's auc: 0.889199\n",
      "[LightGBM] [Warning] No further splits with positive gain, best gain: -inf\n",
      "[200]\ttraining's auc: 0.896459\tvalid_1's auc: 0.889538\n",
      "[300]\ttraining's auc: 0.899631\tvalid_1's auc: 0.88956\n",
      "[LightGBM] [Warning] No further splits with positive gain, best gain: -inf\n",
      "[LightGBM] [Warning] No further splits with positive gain, best gain: -inf\n",
      "[LightGBM] [Warning] No further splits with positive gain, best gain: -inf\n",
      "[LightGBM] [Warning] No further splits with positive gain, best gain: -inf\n",
      "[LightGBM] [Warning] No further splits with positive gain, best gain: -inf\n",
      "[LightGBM] [Warning] No further splits with positive gain, best gain: -inf\n",
      "[400]\ttraining's auc: 0.90232\tvalid_1's auc: 0.889542\n",
      "[LightGBM] [Warning] No further splits with positive gain, best gain: -inf\n",
      "Early stopping, best iteration is:\n",
      "[343]\ttraining's auc: 0.900806\tvalid_1's auc: 0.889615\n",
      "[LightGBM] [Warning] min_data_in_leaf is set=50, min_child_samples=20 will be ignored. Current value: min_data_in_leaf=50\n",
      "[LightGBM] [Warning] min_data_in_leaf is set=50, min_child_samples=20 will be ignored. Current value: min_data_in_leaf=50\n",
      "Tr: 0.9008056927585308\n",
      "Va: 0.8896145585641121\n",
      "--------------------------------------------------\n",
      "   Fold     Train        Va\n",
      "0     0  0.896097  0.888168\n",
      "1     1  0.897220  0.891242\n",
      "2     2  0.897165  0.891546\n",
      "3     3  0.894868  0.889091\n",
      "4     4  0.900806  0.889615\n",
      "--------------------------------------------------\n",
      "[tr]: 0.897231+-0.001982 [va]: 0.889932+-0.001284\n"
     ]
    }
   ],
   "source": [
    "metric=[]\n",
    "imp=pd.DataFrame()\n",
    "n_splits = 5\n",
    "cv = StratifiedKFold(n_splits=n_splits, shuffle=True, random_state=123)\n",
    "\n",
    "for nfold, (train_index, val_index) in enumerate(cv.split(x_train, y_train)):\n",
    "    print('-'*20, nfold, '-'*20)\n",
    "    x_tr, y_tr = x_train.iloc[train_index], y_train.iloc[train_index]\n",
    "    x_va, y_va = x_train.iloc[val_index], y_train.iloc[val_index]\n",
    "\n",
    "    model = lgb.LGBMClassifier(**params)\n",
    "    model.fit(\n",
    "        x_tr, y_tr,\n",
    "        eval_set= [(x_tr, y_tr), (x_va, y_va)],\n",
    "        callbacks=[\n",
    "            lgb.callback.early_stopping(stopping_rounds=100),\n",
    "            lgb.callback.log_evaluation(period=100)\n",
    "        ]\n",
    "    )\n",
    "    \n",
    "    y_tr_pred = model.predict_proba(x_tr)[:, 1]\n",
    "    y_va_pred = model.predict_proba(x_va)[:, 1]\n",
    "    \n",
    "    metric_tr = roc_auc_score(y_tr, y_tr_pred)\n",
    "    metric_va = roc_auc_score(y_va, y_va_pred)\n",
    "\n",
    "    metric.append((nfold, metric_tr, metric_va))\n",
    "    \n",
    "    print(\"Tr:\", metric_tr)\n",
    "    print(\"Va:\", metric_va)\n",
    "    \n",
    "    _imp = pd.DataFrame({\n",
    "        'col': x_train.columns,\n",
    "        'imp': model.feature_importances_,\n",
    "        'fold': nfold\n",
    "    })\n",
    "    imp = pd.concat([imp, _imp], axis=0, ignore_index=True)\n",
    "\n",
    "print('-'*50)\n",
    "print(pd.DataFrame(metric, columns=[\"Fold\", \"Train\", \"Va\"]))\n",
    "print('-'*50)\n",
    "\n",
    "metric = np.array(metric)\n",
    "print('[tr]: {:3f}+-{:2f}'.format(metric[:, 1].mean(), metric[:, 1].std()), '[va]: {:3f}+-{:2f}'.format(metric[:, 2].mean(), metric[:, 2].std()))"
   ]
  },
  {
   "cell_type": "code",
   "execution_count": 38,
   "id": "5052187c",
   "metadata": {
    "execution": {
     "iopub.execute_input": "2024-12-09T14:47:37.842715Z",
     "iopub.status.busy": "2024-12-09T14:47:37.842267Z",
     "iopub.status.idle": "2024-12-09T14:47:37.862594Z",
     "shell.execute_reply": "2024-12-09T14:47:37.861344Z"
    },
    "papermill": {
     "duration": 0.049443,
     "end_time": "2024-12-09T14:47:37.864857",
     "exception": false,
     "start_time": "2024-12-09T14:47:37.815414",
     "status": "completed"
    },
    "tags": []
   },
   "outputs": [
    {
     "data": {
      "text/html": [
       "<div>\n",
       "<style scoped>\n",
       "    .dataframe tbody tr th:only-of-type {\n",
       "        vertical-align: middle;\n",
       "    }\n",
       "\n",
       "    .dataframe tbody tr th {\n",
       "        vertical-align: top;\n",
       "    }\n",
       "\n",
       "    .dataframe thead th {\n",
       "        text-align: right;\n",
       "    }\n",
       "</style>\n",
       "<table border=\"1\" class=\"dataframe\">\n",
       "  <thead>\n",
       "    <tr style=\"text-align: right;\">\n",
       "      <th></th>\n",
       "      <th>imp</th>\n",
       "      <th>imp_std</th>\n",
       "    </tr>\n",
       "    <tr>\n",
       "      <th>col</th>\n",
       "      <th></th>\n",
       "      <th></th>\n",
       "    </tr>\n",
       "  </thead>\n",
       "  <tbody>\n",
       "    <tr>\n",
       "      <th>Age</th>\n",
       "      <td>114285.953812</td>\n",
       "      <td>659.683249</td>\n",
       "    </tr>\n",
       "    <tr>\n",
       "      <th>NumOfProducts</th>\n",
       "      <td>97428.242219</td>\n",
       "      <td>593.508731</td>\n",
       "    </tr>\n",
       "    <tr>\n",
       "      <th>IsActiveMember</th>\n",
       "      <td>26002.063567</td>\n",
       "      <td>48.993865</td>\n",
       "    </tr>\n",
       "    <tr>\n",
       "      <th>Balance</th>\n",
       "      <td>21427.303712</td>\n",
       "      <td>998.836247</td>\n",
       "    </tr>\n",
       "    <tr>\n",
       "      <th>Geography</th>\n",
       "      <td>9947.521006</td>\n",
       "      <td>304.515723</td>\n",
       "    </tr>\n",
       "    <tr>\n",
       "      <th>Gender</th>\n",
       "      <td>8311.042580</td>\n",
       "      <td>148.167368</td>\n",
       "    </tr>\n",
       "    <tr>\n",
       "      <th>CreditScore</th>\n",
       "      <td>4048.571456</td>\n",
       "      <td>1177.350893</td>\n",
       "    </tr>\n",
       "    <tr>\n",
       "      <th>EstimatedSalary</th>\n",
       "      <td>3526.380396</td>\n",
       "      <td>1016.682328</td>\n",
       "    </tr>\n",
       "    <tr>\n",
       "      <th>Tenure</th>\n",
       "      <td>1239.807280</td>\n",
       "      <td>296.501420</td>\n",
       "    </tr>\n",
       "    <tr>\n",
       "      <th>HasCrCard</th>\n",
       "      <td>807.020489</td>\n",
       "      <td>69.044843</td>\n",
       "    </tr>\n",
       "  </tbody>\n",
       "</table>\n",
       "</div>"
      ],
      "text/plain": [
       "                           imp      imp_std\n",
       "col                                        \n",
       "Age              114285.953812   659.683249\n",
       "NumOfProducts     97428.242219   593.508731\n",
       "IsActiveMember    26002.063567    48.993865\n",
       "Balance           21427.303712   998.836247\n",
       "Geography          9947.521006   304.515723\n",
       "Gender             8311.042580   148.167368\n",
       "CreditScore        4048.571456  1177.350893\n",
       "EstimatedSalary    3526.380396  1016.682328\n",
       "Tenure             1239.807280   296.501420\n",
       "HasCrCard           807.020489    69.044843"
      ]
     },
     "execution_count": 38,
     "metadata": {},
     "output_type": "execute_result"
    }
   ],
   "source": [
    "imp_df = imp.groupby('col')['imp'].agg(['mean', 'std'])\n",
    "imp_df.columns = ['imp', 'imp_std']\n",
    "imp_df.reset_index(drop=False)\n",
    "imp_df.sort_values('imp', ascending=False)"
   ]
  },
  {
   "cell_type": "code",
   "execution_count": 39,
   "id": "005b91c4",
   "metadata": {
    "execution": {
     "iopub.execute_input": "2024-12-09T14:47:37.920405Z",
     "iopub.status.busy": "2024-12-09T14:47:37.919162Z",
     "iopub.status.idle": "2024-12-09T14:47:41.303005Z",
     "shell.execute_reply": "2024-12-09T14:47:41.301794Z"
    },
    "papermill": {
     "duration": 3.415031,
     "end_time": "2024-12-09T14:47:41.305715",
     "exception": false,
     "start_time": "2024-12-09T14:47:37.890684",
     "status": "completed"
    },
    "tags": []
   },
   "outputs": [
    {
     "name": "stdout",
     "output_type": "stream",
     "text": [
      "[LightGBM] [Warning] min_data_in_leaf is set=50, min_child_samples=20 will be ignored. Current value: min_data_in_leaf=50\n",
      "[LightGBM] [Warning] min_data_in_leaf is set=50, min_child_samples=20 will be ignored. Current value: min_data_in_leaf=50\n"
     ]
    },
    {
     "data": {
      "image/png": "[encoded data removed]",
      "text/plain": [
       "<Figure size 800x600 with 1 Axes>"
      ]
     },
     "metadata": {},
     "output_type": "display_data"
    }
   ],
   "source": [
    "from sklearn.metrics import roc_curve, roc_auc_score\n",
    "\n",
    "y_tr_score = model.predict_proba(x_tr)[:, 1]\n",
    "y_va_score = model.predict_proba(x_va)[:, 1]\n",
    "\n",
    "fpr_tr, tpr_tr, _ = roc_curve(y_tr, y_tr_score)\n",
    "auc_tr = roc_auc_score(y_tr, y_tr_score)\n",
    "\n",
    "fpr_va, tpr_va, _ = roc_curve(y_va, y_va_score)\n",
    "auc_va = roc_auc_score(y_va, y_va_score)\n",
    "\n",
    "plt.figure(figsize=(8, 6))\n",
    "plt.plot(fpr_tr, tpr_tr, label=f'Training ROC (AUC = {auc_tr:.2f})', color='blue')\n",
    "plt.plot(fpr_va, tpr_va, label=f'Validation ROC (AUC = {auc_va:.2f})', color='orange')\n",
    "plt.plot([0, 1], [0, 1], linestyle='--', color='gray', label='Random Guess')\n",
    "plt.xlabel('False Positive Rate (FPR)')\n",
    "plt.ylabel('True Positive Rate (TPR)')\n",
    "plt.title('ROC Curve (Training and Validation)')\n",
    "plt.legend(loc='lower right')\n",
    "plt.grid()\n",
    "plt.show()\n"
   ]
  },
  {
   "cell_type": "code",
   "execution_count": 40,
   "id": "0346b917",
   "metadata": {
    "execution": {
     "iopub.execute_input": "2024-12-09T14:47:41.361138Z",
     "iopub.status.busy": "2024-12-09T14:47:41.360694Z",
     "iopub.status.idle": "2024-12-09T14:47:43.680374Z",
     "shell.execute_reply": "2024-12-09T14:47:43.679173Z"
    },
    "papermill": {
     "duration": 2.349508,
     "end_time": "2024-12-09T14:47:43.682730",
     "exception": false,
     "start_time": "2024-12-09T14:47:41.333222",
     "status": "completed"
    },
    "tags": []
   },
   "outputs": [
    {
     "name": "stdout",
     "output_type": "stream",
     "text": [
      "[LightGBM] [Warning] min_data_in_leaf is set=50, min_child_samples=20 will be ignored. Current value: min_data_in_leaf=50\n"
     ]
    },
    {
     "data": {
      "text/html": [
       "<div>\n",
       "<style scoped>\n",
       "    .dataframe tbody tr th:only-of-type {\n",
       "        vertical-align: middle;\n",
       "    }\n",
       "\n",
       "    .dataframe tbody tr th {\n",
       "        vertical-align: top;\n",
       "    }\n",
       "\n",
       "    .dataframe thead th {\n",
       "        text-align: right;\n",
       "    }\n",
       "</style>\n",
       "<table border=\"1\" class=\"dataframe\">\n",
       "  <thead>\n",
       "    <tr style=\"text-align: right;\">\n",
       "      <th></th>\n",
       "      <th>id</th>\n",
       "      <th>Exited</th>\n",
       "    </tr>\n",
       "  </thead>\n",
       "  <tbody>\n",
       "    <tr>\n",
       "      <th>0</th>\n",
       "      <td>165034</td>\n",
       "      <td>0.034981</td>\n",
       "    </tr>\n",
       "    <tr>\n",
       "      <th>1</th>\n",
       "      <td>165035</td>\n",
       "      <td>0.784357</td>\n",
       "    </tr>\n",
       "    <tr>\n",
       "      <th>2</th>\n",
       "      <td>165036</td>\n",
       "      <td>0.021114</td>\n",
       "    </tr>\n",
       "    <tr>\n",
       "      <th>3</th>\n",
       "      <td>165037</td>\n",
       "      <td>0.216305</td>\n",
       "    </tr>\n",
       "    <tr>\n",
       "      <th>4</th>\n",
       "      <td>165038</td>\n",
       "      <td>0.360066</td>\n",
       "    </tr>\n",
       "  </tbody>\n",
       "</table>\n",
       "</div>"
      ],
      "text/plain": [
       "       id    Exited\n",
       "0  165034  0.034981\n",
       "1  165035  0.784357\n",
       "2  165036  0.021114\n",
       "3  165037  0.216305\n",
       "4  165038  0.360066"
      ]
     },
     "execution_count": 40,
     "metadata": {},
     "output_type": "execute_result"
    }
   ],
   "source": [
    "y_pred_prob = model.predict_proba(test_df[features])[:, 1]  \n",
    "\n",
    "\n",
    "sub = pd.read_csv('/kaggle/input/playground-series-s4e1/sample_submission.csv')\n",
    "test_ids = sub['id'] \n",
    "\n",
    "submission = pd.DataFrame({\n",
    "    'id': test_ids,\n",
    "    'Exited': y_pred_prob\n",
    "})\n",
    "\n",
    "submission_name = \"bank_submission2\"\n",
    "\n",
    "submission.to_csv(f'{submission_name}.csv', index=False)\n",
    "submission.head()"
   ]
  }
 ],
 "metadata": {
  "kaggle": {
   "accelerator": "none",
   "dataSources": [
    {
     "databundleVersionId": 7405009,
     "sourceId": 65711,
     "sourceType": "competition"
    }
   ],
   "dockerImageVersionId": 30804,
   "isGpuEnabled": false,
   "isInternetEnabled": false,
   "language": "python",
   "sourceType": "notebook"
  },
  "kernelspec": {
   "display_name": "Python 3",
   "language": "python",
   "name": "python3"
  },
  "language_info": {
   "codemirror_mode": {
    "name": "ipython",
    "version": 3
   },
   "file_extension": ".py",
   "mimetype": "text/x-python",
   "name": "python",
   "nbconvert_exporter": "python",
   "pygments_lexer": "ipython3",
   "version": "3.10.14"
  },
  "papermill": {
   "default_parameters": {},
   "duration": 97.433656,
   "end_time": "2024-12-09T14:47:44.631557",
   "environment_variables": {},
   "exception": null,
   "input_path": "__notebook__.ipynb",
   "output_path": "__notebook__.ipynb",
   "parameters": {},
   "start_time": "2024-12-09T14:46:07.197901",
   "version": "2.6.0"
  }
 },
 "nbformat": 4,
 "nbformat_minor": 5
}
